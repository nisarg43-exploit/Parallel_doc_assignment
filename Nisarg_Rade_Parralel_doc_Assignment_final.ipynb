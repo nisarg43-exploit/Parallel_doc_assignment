{
  "nbformat": 4,
  "nbformat_minor": 0,
  "metadata": {
    "colab": {
      "provenance": [],
      "gpuType": "T4"
    },
    "kernelspec": {
      "name": "python3",
      "display_name": "Python 3"
    },
    "language_info": {
      "name": "python"
    },
    "accelerator": "GPU"
  },
  "cells": [
    {
      "cell_type": "markdown",
      "source": [
        "**Nisarg Rade Assignment**"
      ],
      "metadata": {
        "id": "Guz5SZTk1Ypj"
      }
    },
    {
      "cell_type": "markdown",
      "source": [
        "Connect google drive to download / load data"
      ],
      "metadata": {
        "id": "gDu05dhTaXDW"
      }
    },
    {
      "cell_type": "code",
      "source": [
        "from google.colab import drive\n",
        "drive.mount('/content/drive')"
      ],
      "metadata": {
        "id": "q4D_qIUkvhDx",
        "colab": {
          "base_uri": "https://localhost:8080/"
        },
        "outputId": "288e6df8-6df9-4325-c324-c1db49e3b08d"
      },
      "execution_count": null,
      "outputs": [
        {
          "output_type": "stream",
          "name": "stdout",
          "text": [
            "Mounted at /content/drive\n"
          ]
        }
      ]
    },
    {
      "cell_type": "code",
      "source": [
        "## Run this cell if data is not downloaded\n",
        "!mkdir -p /content/drive/MyDrive/parallel_dots/\n",
        "!wget -P /content/drive/MyDrive/parallel_dots/ http://www.cs.cmu.edu/~ehsiao/3drecognition/CMU10_3D.zip\n",
        "!pip install -r /content/drive/MyDrive/parallel_dots/requirements.txt\n",
        "TARGET_FOLDER = \"/content/drive/MyDrive/parallel_dots/\"\n",
        "\n",
        "# Clone the repository into the target folder\n",
        "!git clone https://github.com/facebookresearch/segment-anything-2.git $TARGET_FOLDER"
      ],
      "metadata": {
        "id": "ZzFnCEsDalDD"
      },
      "execution_count": null,
      "outputs": []
    },
    {
      "cell_type": "code",
      "execution_count": null,
      "metadata": {
        "id": "8wa1s2JavU_T"
      },
      "outputs": [],
      "source": [
        "# comment if not using colab\n",
        "using_colab = True"
      ]
    },
    {
      "cell_type": "code",
      "source": [
        "if using_colab:\n",
        "    import torch\n",
        "    import torchvision\n",
        "    print(\"PyTorch version:\", torch.__version__)\n",
        "    print(\"Torchvision version:\", torchvision.__version__)\n",
        "    print(\"CUDA is available:\", torch.cuda.is_available())\n",
        "    import sys\n",
        "    !{sys.executable} -m pip install opencv-python matplotlib\n",
        "    !{sys.executable} -m pip install 'git+https://github.com/facebookresearch/segment-anything-2.git'\n",
        "else:\n",
        "  !git clone https://github.com/facebookresearch/segment-anything.git\n",
        "  !cd segment-anything\n",
        "  !pip install -e .\n",
        "\n"
      ],
      "metadata": {
        "id": "fHzRORiVvasg",
        "colab": {
          "base_uri": "https://localhost:8080/"
        },
        "outputId": "91db02ff-e79c-4c73-c730-e5a6939a8582"
      },
      "execution_count": null,
      "outputs": [
        {
          "output_type": "stream",
          "name": "stdout",
          "text": [
            "PyTorch version: 2.4.0+cu121\n",
            "Torchvision version: 0.19.0+cu121\n",
            "CUDA is available: True\n",
            "Requirement already satisfied: opencv-python in /usr/local/lib/python3.10/dist-packages (4.10.0.84)\n",
            "Requirement already satisfied: matplotlib in /usr/local/lib/python3.10/dist-packages (3.7.1)\n",
            "Requirement already satisfied: numpy>=1.21.2 in /usr/local/lib/python3.10/dist-packages (from opencv-python) (1.26.4)\n",
            "Requirement already satisfied: contourpy>=1.0.1 in /usr/local/lib/python3.10/dist-packages (from matplotlib) (1.3.0)\n",
            "Requirement already satisfied: cycler>=0.10 in /usr/local/lib/python3.10/dist-packages (from matplotlib) (0.12.1)\n",
            "Requirement already satisfied: fonttools>=4.22.0 in /usr/local/lib/python3.10/dist-packages (from matplotlib) (4.53.1)\n",
            "Requirement already satisfied: kiwisolver>=1.0.1 in /usr/local/lib/python3.10/dist-packages (from matplotlib) (1.4.5)\n",
            "Requirement already satisfied: packaging>=20.0 in /usr/local/lib/python3.10/dist-packages (from matplotlib) (24.1)\n",
            "Requirement already satisfied: pillow>=6.2.0 in /usr/local/lib/python3.10/dist-packages (from matplotlib) (9.4.0)\n",
            "Requirement already satisfied: pyparsing>=2.3.1 in /usr/local/lib/python3.10/dist-packages (from matplotlib) (3.1.4)\n",
            "Requirement already satisfied: python-dateutil>=2.7 in /usr/local/lib/python3.10/dist-packages (from matplotlib) (2.8.2)\n",
            "Requirement already satisfied: six>=1.5 in /usr/local/lib/python3.10/dist-packages (from python-dateutil>=2.7->matplotlib) (1.16.0)\n",
            "Collecting git+https://github.com/facebookresearch/segment-anything-2.git\n",
            "  Cloning https://github.com/facebookresearch/segment-anything-2.git to /tmp/pip-req-build-94wq6u4d\n",
            "  Running command git clone --filter=blob:none --quiet https://github.com/facebookresearch/segment-anything-2.git /tmp/pip-req-build-94wq6u4d\n",
            "  Resolved https://github.com/facebookresearch/segment-anything-2.git to commit 7e1596c0b6462eb1d1ba7e1492430fed95023598\n",
            "  Installing build dependencies ... \u001b[?25l\u001b[?25hdone\n",
            "  Getting requirements to build wheel ... \u001b[?25l\u001b[?25hdone\n",
            "  Preparing metadata (pyproject.toml) ... \u001b[?25l\u001b[?25hdone\n",
            "Requirement already satisfied: torch>=2.3.1 in /usr/local/lib/python3.10/dist-packages (from SAM-2==1.0) (2.4.0+cu121)\n",
            "Requirement already satisfied: torchvision>=0.18.1 in /usr/local/lib/python3.10/dist-packages (from SAM-2==1.0) (0.19.0+cu121)\n",
            "Requirement already satisfied: numpy>=1.24.4 in /usr/local/lib/python3.10/dist-packages (from SAM-2==1.0) (1.26.4)\n",
            "Requirement already satisfied: tqdm>=4.66.1 in /usr/local/lib/python3.10/dist-packages (from SAM-2==1.0) (4.66.5)\n",
            "Collecting hydra-core>=1.3.2 (from SAM-2==1.0)\n",
            "  Downloading hydra_core-1.3.2-py3-none-any.whl.metadata (5.5 kB)\n",
            "Collecting iopath>=0.1.10 (from SAM-2==1.0)\n",
            "  Downloading iopath-0.1.10.tar.gz (42 kB)\n",
            "\u001b[2K     \u001b[90m━━━━━━━━━━━━━━━━━━━━━━━━━━━━━━━━━━━━━━━━\u001b[0m \u001b[32m42.2/42.2 kB\u001b[0m \u001b[31m3.8 MB/s\u001b[0m eta \u001b[36m0:00:00\u001b[0m\n",
            "\u001b[?25h  Preparing metadata (setup.py) ... \u001b[?25l\u001b[?25hdone\n",
            "Requirement already satisfied: pillow>=9.4.0 in /usr/local/lib/python3.10/dist-packages (from SAM-2==1.0) (9.4.0)\n",
            "Collecting omegaconf<2.4,>=2.2 (from hydra-core>=1.3.2->SAM-2==1.0)\n",
            "  Downloading omegaconf-2.3.0-py3-none-any.whl.metadata (3.9 kB)\n",
            "Collecting antlr4-python3-runtime==4.9.* (from hydra-core>=1.3.2->SAM-2==1.0)\n",
            "  Downloading antlr4-python3-runtime-4.9.3.tar.gz (117 kB)\n",
            "\u001b[2K     \u001b[90m━━━━━━━━━━━━━━━━━━━━━━━━━━━━━━━━━━━━━━━━\u001b[0m \u001b[32m117.0/117.0 kB\u001b[0m \u001b[31m13.7 MB/s\u001b[0m eta \u001b[36m0:00:00\u001b[0m\n",
            "\u001b[?25h  Preparing metadata (setup.py) ... \u001b[?25l\u001b[?25hdone\n",
            "Requirement already satisfied: packaging in /usr/local/lib/python3.10/dist-packages (from hydra-core>=1.3.2->SAM-2==1.0) (24.1)\n",
            "Requirement already satisfied: typing_extensions in /usr/local/lib/python3.10/dist-packages (from iopath>=0.1.10->SAM-2==1.0) (4.12.2)\n",
            "Collecting portalocker (from iopath>=0.1.10->SAM-2==1.0)\n",
            "  Downloading portalocker-2.10.1-py3-none-any.whl.metadata (8.5 kB)\n",
            "Requirement already satisfied: filelock in /usr/local/lib/python3.10/dist-packages (from torch>=2.3.1->SAM-2==1.0) (3.15.4)\n",
            "Requirement already satisfied: sympy in /usr/local/lib/python3.10/dist-packages (from torch>=2.3.1->SAM-2==1.0) (1.13.2)\n",
            "Requirement already satisfied: networkx in /usr/local/lib/python3.10/dist-packages (from torch>=2.3.1->SAM-2==1.0) (3.3)\n",
            "Requirement already satisfied: jinja2 in /usr/local/lib/python3.10/dist-packages (from torch>=2.3.1->SAM-2==1.0) (3.1.4)\n",
            "Requirement already satisfied: fsspec in /usr/local/lib/python3.10/dist-packages (from torch>=2.3.1->SAM-2==1.0) (2024.6.1)\n",
            "Requirement already satisfied: PyYAML>=5.1.0 in /usr/local/lib/python3.10/dist-packages (from omegaconf<2.4,>=2.2->hydra-core>=1.3.2->SAM-2==1.0) (6.0.2)\n",
            "Requirement already satisfied: MarkupSafe>=2.0 in /usr/local/lib/python3.10/dist-packages (from jinja2->torch>=2.3.1->SAM-2==1.0) (2.1.5)\n",
            "Requirement already satisfied: mpmath<1.4,>=1.1.0 in /usr/local/lib/python3.10/dist-packages (from sympy->torch>=2.3.1->SAM-2==1.0) (1.3.0)\n",
            "Downloading hydra_core-1.3.2-py3-none-any.whl (154 kB)\n",
            "\u001b[2K   \u001b[90m━━━━━━━━━━━━━━━━━━━━━━━━━━━━━━━━━━━━━━━━\u001b[0m \u001b[32m154.5/154.5 kB\u001b[0m \u001b[31m16.0 MB/s\u001b[0m eta \u001b[36m0:00:00\u001b[0m\n",
            "\u001b[?25hDownloading omegaconf-2.3.0-py3-none-any.whl (79 kB)\n",
            "\u001b[2K   \u001b[90m━━━━━━━━━━━━━━━━━━━━━━━━━━━━━━━━━━━━━━━━\u001b[0m \u001b[32m79.5/79.5 kB\u001b[0m \u001b[31m8.5 MB/s\u001b[0m eta \u001b[36m0:00:00\u001b[0m\n",
            "\u001b[?25hDownloading portalocker-2.10.1-py3-none-any.whl (18 kB)\n",
            "Building wheels for collected packages: SAM-2, antlr4-python3-runtime, iopath\n",
            "  Building wheel for SAM-2 (pyproject.toml) ... \u001b[?25l\u001b[?25hdone\n",
            "  Created wheel for SAM-2: filename=SAM_2-1.0-cp310-cp310-linux_x86_64.whl size=423360 sha256=91cad8f59f85eae081a82b7c1294e82028b57b9b53be6dfba487c33fee0d28f6\n",
            "  Stored in directory: /tmp/pip-ephem-wheel-cache-ki2mzx9q/wheels/e9/c8/6c/4c2a92da6da05eba099a6984ad38f50a0ab4677158c913432d\n",
            "  Building wheel for antlr4-python3-runtime (setup.py) ... \u001b[?25l\u001b[?25hdone\n",
            "  Created wheel for antlr4-python3-runtime: filename=antlr4_python3_runtime-4.9.3-py3-none-any.whl size=144554 sha256=694c63636cbc027d9cd733a16cf8ad7e7255d976b0c7d77cd4483df3957029bc\n",
            "  Stored in directory: /root/.cache/pip/wheels/12/93/dd/1f6a127edc45659556564c5730f6d4e300888f4bca2d4c5a88\n",
            "  Building wheel for iopath (setup.py) ... \u001b[?25l\u001b[?25hdone\n",
            "  Created wheel for iopath: filename=iopath-0.1.10-py3-none-any.whl size=31529 sha256=eba7c15d3d3963088f6cc79fc38dc87f6799f92290fbdde10574dbbbebee4df2\n",
            "  Stored in directory: /root/.cache/pip/wheels/9a/a3/b6/ac0fcd1b4ed5cfeb3db92e6a0e476cfd48ed0df92b91080c1d\n",
            "Successfully built SAM-2 antlr4-python3-runtime iopath\n",
            "Installing collected packages: antlr4-python3-runtime, portalocker, omegaconf, iopath, hydra-core, SAM-2\n",
            "Successfully installed SAM-2-1.0 antlr4-python3-runtime-4.9.3 hydra-core-1.3.2 iopath-0.1.10 omegaconf-2.3.0 portalocker-2.10.1\n"
          ]
        }
      ]
    },
    {
      "cell_type": "markdown",
      "source": [
        " Import necessary libraries"
      ],
      "metadata": {
        "id": "nfvWLW_Hb4N9"
      }
    },
    {
      "cell_type": "code",
      "source": [
        "import torch\n",
        "from sam2.build_sam import build_sam2\n",
        "from sam2.automatic_mask_generator import SAM2AutomaticMaskGenerator\n",
        "from sam2.sam2_image_predictor import SAM2ImagePredictor\n",
        "from sam2.build_sam import build_sam2_video_predictor\n",
        "from PIL import Image, ImageOps\n",
        "import numpy as np\n",
        "import matplotlib.pyplot as plt\n",
        "import os, glob, shutil\n",
        "import matplotlib.patches as patches\n",
        "import re\n",
        "import time\n",
        "import cv2\n",
        "\n",
        "import numpy as np\n",
        "import torch\n",
        "import matplotlib.pyplot as plt\n",
        "from PIL import Image\n",
        "# if using Apple MPS, fall back to CPU for unsupported ops\n",
        "os.environ[\"PYTORCH_ENABLE_MPS_FALLBACK\"] = \"1\"\n",
        "\n",
        "# select the device for computation\n",
        "if torch.cuda.is_available():\n",
        "    device = torch.device(\"cuda\")\n",
        "elif torch.backends.mps.is_available():\n",
        "    device = torch.device(\"mps\")\n",
        "else:\n",
        "    device = torch.device(\"cpu\")\n",
        "print(f\"using device: {device}\")\n",
        "\n",
        "if device.type == \"cuda\":\n",
        "    # use bfloat16 for the entire notebook\n",
        "    torch.autocast(\"cuda\", dtype=torch.bfloat16).__enter__()\n",
        "    # turn on tfloat32 for Ampere GPUs (https://pytorch.org/docs/stable/notes/cuda.html#tensorfloat-32-tf32-on-ampere-devices)\n",
        "    if torch.cuda.get_device_properties(0).major >= 8:\n",
        "        torch.backends.cuda.matmul.allow_tf32 = True\n",
        "        torch.backends.cudnn.allow_tf32 = True\n",
        "elif device.type == \"mps\":\n",
        "    print(\n",
        "        \"\\nSupport for MPS devices is preliminary. SAM 2 is trained with CUDA and might \"\n",
        "        \"give numerically different outputs and sometimes degraded performance on MPS. \"\n",
        "        \"See e.g. https://github.com/pytorch/pytorch/issues/84936 for a discussion.\"\n",
        "    )"
      ],
      "metadata": {
        "id": "h_O_QGu2vjun",
        "colab": {
          "base_uri": "https://localhost:8080/"
        },
        "outputId": "a2d1ff59-9ce4-447b-9ef8-0acd6a792afc"
      },
      "execution_count": null,
      "outputs": [
        {
          "output_type": "stream",
          "name": "stderr",
          "text": [
            "/usr/local/lib/python3.10/dist-packages/sam2/modeling/sam/transformer.py:23: UserWarning: Flash Attention is disabled as it requires a GPU with Ampere (8.0) CUDA capability.\n",
            "  OLD_GPU, USE_FLASH_ATTN, MATH_KERNEL_ON = get_sdpa_settings()\n"
          ]
        },
        {
          "output_type": "stream",
          "name": "stdout",
          "text": [
            "using device: cuda\n"
          ]
        }
      ]
    },
    {
      "cell_type": "markdown",
      "source": [
        "load the sam2 model for prediction\n",
        "please provide correct path for the model if stored at different place"
      ],
      "metadata": {
        "id": "VtCqrP7sv0-Q"
      }
    },
    {
      "cell_type": "code",
      "source": [
        "checkpoint = \"/content/drive/MyDrive/parallel_dots/segment-anything-2/checkpoints/sam2_hiera_tiny.pt\"\n",
        "model_cfg = \"sam2_hiera_t.yaml\"\n",
        "tempfolder = \"./tempdir\"\n",
        "# Initialize SAM2 model and predictors\n",
        "sam2 = build_sam2(model_cfg, checkpoint, device='cuda', apply_postprocessing=False)\n",
        "predictor_prompt = SAM2ImagePredictor(build_sam2(model_cfg, checkpoint))\n",
        "mask_generator = SAM2AutomaticMaskGenerator(sam2)\n",
        "predictor_vid = build_sam2_video_predictor(model_cfg, checkpoint, device='cuda')"
      ],
      "metadata": {
        "id": "HexQAnLqvrD3"
      },
      "execution_count": null,
      "outputs": []
    },
    {
      "cell_type": "markdown",
      "source": [
        "Create required functions for SAM2 detection"
      ],
      "metadata": {
        "id": "8AO_53bUv26m"
      }
    },
    {
      "cell_type": "code",
      "source": [
        "def create_if_not_exists(dirname):\n",
        "    if not os.path.exists(dirname):\n",
        "        os.mkdir(dirname)\n",
        "\n",
        "def cleardir(tempfolder):\n",
        "    filepaths = glob.glob(tempfolder + \"/*\")\n",
        "    for filepath in filepaths:\n",
        "        os.unlink(filepath)\n",
        "def show_mask(mask, ax, obj_id=None, random_color=False):\n",
        "    if random_color:\n",
        "        color = np.concatenate([np.random.random(3), np.array([0.6])], axis=0)\n",
        "    else:\n",
        "        cmap = plt.get_cmap(\"tab10\")\n",
        "        cmap_idx = 0 if obj_id is None else obj_id\n",
        "        color = np.array([*cmap(cmap_idx)[:3], 0.6])\n",
        "    h, w = mask.shape[-2:]\n",
        "    mask_image = mask.reshape(h, w, 1) * color.reshape(1, 1, -1)\n",
        "    ax.imshow(mask_image)\n",
        "\n",
        "\n",
        "def show_points(coords, labels, ax, marker_size=200):\n",
        "    pos_points = coords[labels==1]\n",
        "    neg_points = coords[labels==0]\n",
        "    ax.scatter(pos_points[:, 0], pos_points[:, 1], color='green', marker='*', s=marker_size, edgecolor='white', linewidth=1.25)\n",
        "    ax.scatter(neg_points[:, 0], neg_points[:, 1], color='red', marker='*', s=marker_size, edgecolor='white', linewidth=1.25)\n",
        "\n",
        "\n",
        "def show_box(box, ax):\n",
        "    x0, y0 = box[0], box[1]\n",
        "    w, h = box[2] - box[0], box[3] - box[1]\n",
        "    ax.add_patch(plt.Rectangle((x0, y0), w, h, edgecolor='green', facecolor=(0, 0, 0, 0), lw=2))\n",
        "def get_mask_bounding_box(mask):\n",
        "    # Find indices where the mask is non-zero\n",
        "    if np.sum(mask) == 0:\n",
        "        print(\"Empty mask detected, cannot compute bounding box.\")\n",
        "        return None\n",
        "\n",
        "    # Find indices where the mask is non-zero\n",
        "    mask_indices = np.argwhere(mask)\n",
        "\n",
        "    if mask_indices.size == 0:\n",
        "        print(\"No non-zero indices found in the mask.\")\n",
        "        return None\n",
        "    mask_indices = np.argwhere(mask)\n",
        "    ymin, xmin = mask_indices.min(axis=0)\n",
        "    ymax, xmax = mask_indices.max(axis=0)\n",
        "    return xmin, ymin, xmax, ymax"
      ],
      "metadata": {
        "id": "poRlYuA0v0Al"
      },
      "execution_count": null,
      "outputs": []
    },
    {
      "cell_type": "markdown",
      "source": [
        "## **Implemented the function to get the point from first_image/mask**"
      ],
      "metadata": {
        "id": "g7cfP_3Fv85-"
      }
    },
    {
      "cell_type": "code",
      "source": [
        "def process_img_png_mask(image_path, mask_path, visualize=False):\n",
        "    # Add code to load images and masks, process them, and visualize if needed\n",
        "    # Sample implementation (adjust based on assignment requirements)\n",
        "    img = Image.open(image_path)\n",
        "    mask = Image.open(mask_path)\n",
        "    mask_np = np.array(mask)\n",
        "\n",
        "    if visualize:\n",
        "        fig, ax = plt.subplots(1, 2)\n",
        "        ax[0].imshow(img)\n",
        "        ax[1].imshow(mask_np, cmap='gray')\n",
        "        plt.show()\n",
        "\n",
        "    # Extract bounding box (xmin, xmax, ymin, ymax)\n",
        "    ymin, ymax = np.min(np.where(mask_np)[0]), np.max(np.where(mask_np)[0])\n",
        "    xmin, xmax = np.min(np.where(mask_np)[1]), np.max(np.where(mask_np)[1])\n",
        "    print([xmin, xmax, ymin, ymax])\n",
        "    return [xmin, xmax, ymin, ymax]"
      ],
      "metadata": {
        "id": "PfIvaLodv97I"
      },
      "execution_count": null,
      "outputs": []
    },
    {
      "cell_type": "markdown",
      "source": [
        "Created a function to detect the mask and return the bounding box"
      ],
      "metadata": {
        "id": "RmCd5-RucZ9y"
      }
    },
    {
      "cell_type": "code",
      "source": [
        "def track_item_boxes(imgpath1, imgpath2, img1boxclasslist, visualize=True):\n",
        "    create_if_not_exists(tempfolder)\n",
        "    cleardir(tempfolder)\n",
        "    shutil.copy(imgpath1, tempfolder + \"/00000.jpg\")\n",
        "    shutil.copy(imgpath2, tempfolder + \"/00001.jpg\")\n",
        "\n",
        "    inference_state = predictor_vid.init_state(video_path=\"./tempdir\")\n",
        "    predictor_vid.reset_state(inference_state)\n",
        "    ann_frame_idx = 0\n",
        "\n",
        "    for img1boxclass in img1boxclasslist:\n",
        "        ([xmin, xmax, ymin, ymax], objectnumint) = img1boxclass\n",
        "        box = np.array([xmin, ymin, xmax, ymax], dtype=np.float32)\n",
        "        _, out_obj_ids, out_mask_logits = predictor_vid.add_new_points_or_box(\n",
        "            inference_state=inference_state,\n",
        "            frame_idx=ann_frame_idx,\n",
        "            obj_id=objectnumint,\n",
        "            box=box,\n",
        "        )\n",
        "\n",
        "    video_segments = {}\n",
        "    bounding_boxes = {}\n",
        "    for out_frame_idx, out_obj_ids, out_mask_logits in predictor_vid.propagate_in_video(inference_state):\n",
        "        video_segments[out_frame_idx] = {\n",
        "            out_obj_id: (out_mask_logits[i] > 0.0).cpu().numpy()\n",
        "            for i, out_obj_id in enumerate(out_obj_ids)\n",
        "        }\n",
        "\n",
        "        for out_obj_id, out_mask in video_segments[out_frame_idx].items():\n",
        "            if out_mask.sum() > 0:  # Check if the mask has any positive values\n",
        "                bbox = get_mask_bounding_box(out_mask[0])\n",
        "                if bbox is not None:\n",
        "                    bounding_boxes[out_obj_id] = bbox\n",
        "\n",
        "    if visualize:\n",
        "        fig, ax = plt.subplots()\n",
        "        plt.title(\"Original image object ::\")\n",
        "        ax.imshow(Image.open(tempfolder + \"/00000.jpg\"))\n",
        "        rect = patches.Rectangle((xmin, ymin), xmax - xmin, ymax - ymin, linewidth=1, edgecolor='g', facecolor='none')\n",
        "        ax.add_patch(rect)\n",
        "        plt.show()\n",
        "\n",
        "        out_frame_idx = 1\n",
        "        plt.figure(figsize=(6, 4))\n",
        "        plt.title(\"Detected object in test image ::\")\n",
        "        plt.imshow(Image.open(tempfolder + \"/00001.jpg\"))\n",
        "        for out_obj_id, out_mask in video_segments[out_frame_idx].items():\n",
        "            if out_mask.sum() > 0:  # Check if the mask has any positive values\n",
        "                show_mask(out_mask, plt.gca(), obj_id=out_obj_id)\n",
        "\n",
        "    print(bounding_boxes)\n",
        "    return video_segments, bounding_boxes\n"
      ],
      "metadata": {
        "id": "iKWzI05TwBHT"
      },
      "execution_count": null,
      "outputs": []
    },
    {
      "cell_type": "markdown",
      "source": [
        "### **Created functions to get object detection performance for each product**"
      ],
      "metadata": {
        "id": "gAhwDKdVwNUs"
      }
    },
    {
      "cell_type": "code",
      "source": [
        "# Function to evaluate detection performance\n",
        "def evaluate_detection_performance(pred_boxes, gt_boxes):\n",
        "    ious = []\n",
        "    for pred_box, gt_box in zip(pred_boxes, gt_boxes):\n",
        "        if pred_box is None:  # Handle missing detections\n",
        "            ious.append(0)  # IoU is 0 when the detection fails\n",
        "        else:\n",
        "            iou = calculate_iou(pred_box, gt_box)\n",
        "            ious.append(iou)\n",
        "    mean_iou = np.mean(ious)\n",
        "    precision = sum([iou >= 0.5 for iou in ious]) / len(ious) if ious else 0\n",
        "    recall = sum([iou >= 0.5 for iou in ious]) / len(gt_boxes) if gt_boxes else 0\n",
        "    return {\n",
        "        \"mean_iou\": mean_iou,\n",
        "        \"precision\": precision,\n",
        "        \"recall\": recall\n",
        "    }\n",
        "\n",
        "# IoU Calculation\n",
        "def calculate_iou(boxA, boxB):\n",
        "    if boxA is None or boxB is None:\n",
        "        return 0  # Return 0 IoU when any box is None\n",
        "    xA = max(boxA[0], boxB[0])\n",
        "    yA = max(boxA[1], boxB[1])\n",
        "    xB = min(boxA[2], boxB[2])\n",
        "    yB = min(boxA[3], boxB[3])\n",
        "\n",
        "    interArea = max(0, xB - xA + 1) * max(0, yB - yA + 1)\n",
        "    boxAArea = (boxA[2] - boxA[0] + 1) * (boxA[3] - boxA[1] + 1)\n",
        "    boxBArea = (boxB[2] - boxB[0] + 1) * (boxB[3] - boxB[1] + 1)\n",
        "\n",
        "    iou = interArea / float(boxAArea + boxBArea - interArea)\n",
        "    return iou\n",
        "\n",
        "# Example use case with images (replace with actual paths and details as required)\n",
        "def detect_objects(reference_img, reference_mask, target_img):\n",
        "  # firstimgpath = '/content/drive/MyDrive/parallel_dots/CMU10_3D/CMU10_3D/data_2D/can_chowder_000001.jpg'\n",
        "  # firstimgmaskpath = '/content/drive/MyDrive/parallel_dots/CMU10_3D/CMU10_3D/data_2D/can_chowder_000001_1_gt.png'\n",
        "  firstimgpath=reference_img\n",
        "  firstimgmaskpath=reference_mask\n",
        "  [xmin, xmax, ymin, ymax] = process_img_png_mask(firstimgpath, firstimgmaskpath, visualize=False)\n",
        "\n",
        "  # secondimgpath = '/content/drive/MyDrive/parallel_dots/CMU10_3D/CMU10_3D/data_2D/can_chowder_000014.jpg'\n",
        "  secondimgpath=target_img\n",
        "  secondimg = Image.open(secondimgpath)\n",
        "\n",
        "\n",
        "  op,bounding_box = track_item_boxes(firstimgpath, secondimgpath, [([xmin, xmax, ymin, ymax], 1)], visualize=False)\n",
        "  # print(op)\n",
        "  output_masks = op[1]  # Example code assumes masks are stored this way\n",
        "  # print(output_masks)\n",
        "  if output_masks is None or np.sum(output_masks) == 0:\n",
        "        return None\n",
        "  relevant_mask = output_masks[1]\n",
        "\n",
        "  # print()\n",
        "  return bounding_box[1]\n",
        "# print(relevant_mask)\n",
        "def calculate_box_distance(box1, box2):\n",
        "    # Calculate the distance between the centers of the two bounding boxes\n",
        "    x1, y1, x2, y2 = box1\n",
        "    x1_gt, y1_gt, x2_gt, y2_gt = box2\n",
        "    center1 = ((x1 + x2) / 2, (y1 + y2) / 2)\n",
        "    center2 = ((x1_gt + x2_gt) / 2, (y1_gt + y2_gt) / 2)\n",
        "    return np.sqrt((center1[0] - center2[0])**2 + (center1[1] - center2[1])**2)"
      ],
      "metadata": {
        "id": "5NQSqpuHwDx2"
      },
      "execution_count": null,
      "outputs": []
    },
    {
      "cell_type": "markdown",
      "source": [
        "Main code to drive through the first image/mask of every product and perform detection as save the results in a txt file"
      ],
      "metadata": {
        "id": "jlhbTHRiwOn1"
      }
    },
    {
      "cell_type": "code",
      "source": [
        "\n",
        "# Directory paths\n",
        "data_path = '/content/drive/MyDrive/parallel_dots/CMU10_3D/CMU10_3D/data_2D'  # Replace with the correct path\n",
        "output_path = \"/content/output\"  # Directory to save results\n",
        "\n",
        "# Define the initial reference images and masks\n",
        "reference_pairs = {\n",
        "    \"can_chowder\": (\"can_chowder_000001.jpg\", \"can_chowder_000001_1_gt.png\"),\n",
        "    \"can_soymilk\": (\"can_soymilk_000001.jpg\", \"can_soymilk_000001_1_gt.png\"),\n",
        "    \"can_tomatosoup\": (\"can_tomatosoup_000001.jpg\", \"can_tomatosoup_000001_1_gt.png\"),\n",
        "    \"carton_oj\": (\"carton_oj_000001.jpg\", \"carton_oj_000001_1_gt.png\"),\n",
        "    \"carton_soymilk\": (\"carton_soymilk_000001.jpg\", \"carton_soymilk_000001_1_gt.png\"),\n",
        "    \"diet_coke\": (\"diet_coke_000001.jpg\", \"diet_coke_000001_1_gt.png\"),\n",
        "    \"hc_potroastsoup\": (\"hc_potroastsoup_000001.jpg\", \"hc_potroastsoup_000001_1_gt.png\"),\n",
        "    \"juicebox\": (\"juicebox_000001.jpg\", \"juicebox_000001_1_gt.png\"),\n",
        "    \"rice_tuscan\": (\"rice_tuscan_000001.jpg\", \"rice_tuscan_000001_1_gt.png\"),\n",
        "    \"ricepilaf\": (\"ricepilaf_000001.jpg\", \"ricepilaf_000001_1_gt.png\")\n",
        "}\n",
        "\n",
        "results = {}\n",
        "for object_name, (ref_img_name, ref_mask_name) in reference_pairs.items():\n",
        "    # Load reference image and mask\n",
        "    ref_img_path = os.path.join(data_path, ref_img_name)\n",
        "    ref_mask_path = os.path.join(data_path, ref_mask_name)\n",
        "    reference_img = cv2.imread(ref_img_path)\n",
        "    reference_mask = cv2.imread(ref_mask_path, cv2.IMREAD_GRAYSCALE)\n",
        "\n",
        "    # Get all images of the current object type\n",
        "    object_images = [img for img in os.listdir(data_path) if img.startswith(object_name) and img.endswith('.jpg')]\n",
        "\n",
        "    pred_boxes = []\n",
        "    gt_boxes = []\n",
        "\n",
        "    for img_name in object_images:\n",
        "        img_path = os.path.join(data_path, img_name)\n",
        "        mask_path = img_path.replace(\".jpg\", \"_1_gt.png\")\n",
        "        print(img_path,mask_path)\n",
        "        # Load target image and ground truth mask\n",
        "        target_img = img_path\n",
        "        gt_mask = cv2.imread(mask_path, cv2.IMREAD_GRAYSCALE)\n",
        "\n",
        "        # Detect object using the first reference pair\n",
        "        pred_box = detect_objects(ref_img_path, ref_mask_path, target_img)\n",
        "        if pred_box is None :\n",
        "            pred_boxes.append(None)\n",
        "            gt_boxes.append(None)\n",
        "            continue\n",
        "        if str(pred_box) == \"(373, 154, 463, 290)\":\n",
        "            print(\"appending none\")\n",
        "            pred_boxes.append(None)\n",
        "            gt_boxes.append(None)\n",
        "            continue\n",
        "\n",
        "        # Initialize variables to find the closest mask\n",
        "        best_gt_box = None\n",
        "        min_distance = float('inf')\n",
        "\n",
        "        # Iterate through possible mask files\n",
        "        for i in range(1, 4):\n",
        "            mask_path = img_path.replace(\".jpg\", f\"_{i}_gt.png\")\n",
        "            if os.path.exists(mask_path):\n",
        "                gt_mask = cv2.imread(mask_path, cv2.IMREAD_GRAYSCALE)\n",
        "                gt_box = get_mask_bounding_box(gt_mask)\n",
        "\n",
        "                if gt_box is not None:\n",
        "                    distance = calculate_box_distance(pred_box, gt_box)\n",
        "                    if distance < min_distance:\n",
        "                        min_distance = distance\n",
        "                        best_gt_box = gt_box\n",
        "\n",
        "        pred_boxes.append(pred_box)\n",
        "        gt_boxes.append(best_gt_box)\n",
        "\n",
        "\n",
        "    # Calculate evaluation metrics\n",
        "    performance = evaluate_detection_performance(pred_boxes, gt_boxes)\n",
        "    results[object_name] = performance\n",
        "    print(f\"Performance for {object_name}: {performance}\")\n",
        "\n",
        "# Save results\n",
        "with open(os.path.join(output_path, \"detection_performance.txt\"), \"w\") as f:\n",
        "    for object_name, performance in results.items():\n",
        "        f.write(f\"{object_name}: {performance}\\n\")\n",
        "\n",
        "print(\"Object detection performance evaluation completed.\")"
      ],
      "metadata": {
        "id": "zCJOibTBwO2D",
        "colab": {
          "base_uri": "https://localhost:8080/"
        },
        "outputId": "4c461664-c839-4e04-91e1-a6d4fb8e3aa8"
      },
      "execution_count": null,
      "outputs": [
        {
          "output_type": "stream",
          "name": "stdout",
          "text": [
            "/content/drive/MyDrive/parallel_dots/CMU10_3D/CMU10_3D/data_2D/can_chowder_000022.jpg /content/drive/MyDrive/parallel_dots/CMU10_3D/CMU10_3D/data_2D/can_chowder_000022_1_gt.png\n"
          ]
        },
        {
          "output_type": "stream",
          "name": "stderr",
          "text": [
            "frame loading (JPEG): 100%|██████████| 2/2 [00:00<00:00, 33.20it/s]\n",
            "propagate in video: 100%|██████████| 2/2 [00:00<00:00,  2.30it/s]\n"
          ]
        },
        {
          "output_type": "stream",
          "name": "stdout",
          "text": [
            "{1: (150, 228, 293, 364)}\n",
            "/content/drive/MyDrive/parallel_dots/CMU10_3D/CMU10_3D/data_2D/can_chowder_000033.jpg /content/drive/MyDrive/parallel_dots/CMU10_3D/CMU10_3D/data_2D/can_chowder_000033_1_gt.png\n"
          ]
        },
        {
          "output_type": "stream",
          "name": "stderr",
          "text": [
            "frame loading (JPEG): 100%|██████████| 2/2 [00:00<00:00, 33.40it/s]\n",
            "propagate in video: 100%|██████████| 2/2 [00:00<00:00,  2.29it/s]\n"
          ]
        },
        {
          "output_type": "stream",
          "name": "stdout",
          "text": [
            "{1: (373, 154, 463, 290)}\n",
            "appending none\n",
            "/content/drive/MyDrive/parallel_dots/CMU10_3D/CMU10_3D/data_2D/can_chowder_000006.jpg /content/drive/MyDrive/parallel_dots/CMU10_3D/CMU10_3D/data_2D/can_chowder_000006_1_gt.png\n"
          ]
        },
        {
          "output_type": "stream",
          "name": "stderr",
          "text": [
            "frame loading (JPEG): 100%|██████████| 2/2 [00:00<00:00, 30.95it/s]\n",
            "propagate in video: 100%|██████████| 2/2 [00:00<00:00,  2.28it/s]\n"
          ]
        },
        {
          "output_type": "stream",
          "name": "stdout",
          "text": [
            "{1: (441, 132, 534, 252)}\n",
            "/content/drive/MyDrive/parallel_dots/CMU10_3D/CMU10_3D/data_2D/can_chowder_000018.jpg /content/drive/MyDrive/parallel_dots/CMU10_3D/CMU10_3D/data_2D/can_chowder_000018_1_gt.png\n"
          ]
        },
        {
          "output_type": "stream",
          "name": "stderr",
          "text": [
            "frame loading (JPEG): 100%|██████████| 2/2 [00:00<00:00, 33.52it/s]\n",
            "propagate in video: 100%|██████████| 2/2 [00:00<00:00,  2.29it/s]\n"
          ]
        },
        {
          "output_type": "stream",
          "name": "stdout",
          "text": [
            "{1: (306, 131, 382, 231)}\n",
            "/content/drive/MyDrive/parallel_dots/CMU10_3D/CMU10_3D/data_2D/can_chowder_000043.jpg /content/drive/MyDrive/parallel_dots/CMU10_3D/CMU10_3D/data_2D/can_chowder_000043_1_gt.png\n"
          ]
        },
        {
          "output_type": "stream",
          "name": "stderr",
          "text": [
            "frame loading (JPEG): 100%|██████████| 2/2 [00:00<00:00, 31.96it/s]\n",
            "propagate in video: 100%|██████████| 2/2 [00:00<00:00,  2.30it/s]\n"
          ]
        },
        {
          "output_type": "stream",
          "name": "stdout",
          "text": [
            "{1: (373, 154, 463, 290)}\n",
            "appending none\n",
            "/content/drive/MyDrive/parallel_dots/CMU10_3D/CMU10_3D/data_2D/can_chowder_000004.jpg /content/drive/MyDrive/parallel_dots/CMU10_3D/CMU10_3D/data_2D/can_chowder_000004_1_gt.png\n"
          ]
        },
        {
          "output_type": "stream",
          "name": "stderr",
          "text": [
            "frame loading (JPEG): 100%|██████████| 2/2 [00:00<00:00, 31.33it/s]\n",
            "propagate in video: 100%|██████████| 2/2 [00:00<00:00,  2.27it/s]\n"
          ]
        },
        {
          "output_type": "stream",
          "name": "stdout",
          "text": [
            "{1: (398, 97, 489, 220)}\n",
            "/content/drive/MyDrive/parallel_dots/CMU10_3D/CMU10_3D/data_2D/can_chowder_000002.jpg /content/drive/MyDrive/parallel_dots/CMU10_3D/CMU10_3D/data_2D/can_chowder_000002_1_gt.png\n"
          ]
        },
        {
          "output_type": "stream",
          "name": "stderr",
          "text": [
            "frame loading (JPEG): 100%|██████████| 2/2 [00:00<00:00, 31.44it/s]\n",
            "propagate in video: 100%|██████████| 2/2 [00:00<00:00,  2.27it/s]\n"
          ]
        },
        {
          "output_type": "stream",
          "name": "stdout",
          "text": [
            "{1: (373, 154, 463, 290)}\n",
            "appending none\n",
            "/content/drive/MyDrive/parallel_dots/CMU10_3D/CMU10_3D/data_2D/can_chowder_000020.jpg /content/drive/MyDrive/parallel_dots/CMU10_3D/CMU10_3D/data_2D/can_chowder_000020_1_gt.png\n"
          ]
        },
        {
          "output_type": "stream",
          "name": "stderr",
          "text": [
            "frame loading (JPEG): 100%|██████████| 2/2 [00:00<00:00, 21.65it/s]\n",
            "propagate in video: 100%|██████████| 2/2 [00:00<00:00,  2.28it/s]\n"
          ]
        },
        {
          "output_type": "stream",
          "name": "stdout",
          "text": [
            "{1: (216, 285, 298, 392)}\n",
            "/content/drive/MyDrive/parallel_dots/CMU10_3D/CMU10_3D/data_2D/can_chowder_000045.jpg /content/drive/MyDrive/parallel_dots/CMU10_3D/CMU10_3D/data_2D/can_chowder_000045_1_gt.png\n"
          ]
        },
        {
          "output_type": "stream",
          "name": "stderr",
          "text": [
            "frame loading (JPEG): 100%|██████████| 2/2 [00:00<00:00, 20.83it/s]\n",
            "propagate in video: 100%|██████████| 2/2 [00:00<00:00,  2.28it/s]\n"
          ]
        },
        {
          "output_type": "stream",
          "name": "stdout",
          "text": [
            "{1: (373, 154, 463, 290)}\n",
            "appending none\n",
            "/content/drive/MyDrive/parallel_dots/CMU10_3D/CMU10_3D/data_2D/can_chowder_000049.jpg /content/drive/MyDrive/parallel_dots/CMU10_3D/CMU10_3D/data_2D/can_chowder_000049_1_gt.png\n"
          ]
        },
        {
          "output_type": "stream",
          "name": "stderr",
          "text": [
            "frame loading (JPEG): 100%|██████████| 2/2 [00:00<00:00, 32.17it/s]\n",
            "propagate in video: 100%|██████████| 2/2 [00:00<00:00,  2.27it/s]\n"
          ]
        },
        {
          "output_type": "stream",
          "name": "stdout",
          "text": [
            "{1: (373, 154, 463, 290)}\n",
            "appending none\n",
            "/content/drive/MyDrive/parallel_dots/CMU10_3D/CMU10_3D/data_2D/can_chowder_000005.jpg /content/drive/MyDrive/parallel_dots/CMU10_3D/CMU10_3D/data_2D/can_chowder_000005_1_gt.png\n"
          ]
        },
        {
          "output_type": "stream",
          "name": "stderr",
          "text": [
            "frame loading (JPEG): 100%|██████████| 2/2 [00:00<00:00, 34.24it/s]\n",
            "propagate in video: 100%|██████████| 2/2 [00:00<00:00,  2.27it/s]\n"
          ]
        },
        {
          "output_type": "stream",
          "name": "stdout",
          "text": [
            "{1: (451, 98, 568, 255)}\n",
            "/content/drive/MyDrive/parallel_dots/CMU10_3D/CMU10_3D/data_2D/can_chowder_000032.jpg /content/drive/MyDrive/parallel_dots/CMU10_3D/CMU10_3D/data_2D/can_chowder_000032_1_gt.png\n"
          ]
        },
        {
          "output_type": "stream",
          "name": "stderr",
          "text": [
            "frame loading (JPEG): 100%|██████████| 2/2 [00:00<00:00, 33.27it/s]\n",
            "propagate in video: 100%|██████████| 2/2 [00:00<00:00,  2.27it/s]\n"
          ]
        },
        {
          "output_type": "stream",
          "name": "stdout",
          "text": [
            "{1: (373, 154, 463, 290)}\n",
            "appending none\n",
            "/content/drive/MyDrive/parallel_dots/CMU10_3D/CMU10_3D/data_2D/can_chowder_000025.jpg /content/drive/MyDrive/parallel_dots/CMU10_3D/CMU10_3D/data_2D/can_chowder_000025_1_gt.png\n"
          ]
        },
        {
          "output_type": "stream",
          "name": "stderr",
          "text": [
            "frame loading (JPEG): 100%|██████████| 2/2 [00:00<00:00, 32.77it/s]\n",
            "propagate in video: 100%|██████████| 2/2 [00:00<00:00,  2.26it/s]\n"
          ]
        },
        {
          "output_type": "stream",
          "name": "stdout",
          "text": [
            "{1: (373, 154, 463, 290)}\n",
            "appending none\n",
            "/content/drive/MyDrive/parallel_dots/CMU10_3D/CMU10_3D/data_2D/can_chowder_000019.jpg /content/drive/MyDrive/parallel_dots/CMU10_3D/CMU10_3D/data_2D/can_chowder_000019_1_gt.png\n"
          ]
        },
        {
          "output_type": "stream",
          "name": "stderr",
          "text": [
            "frame loading (JPEG): 100%|██████████| 2/2 [00:00<00:00, 32.91it/s]\n",
            "propagate in video: 100%|██████████| 2/2 [00:00<00:00,  2.25it/s]\n"
          ]
        },
        {
          "output_type": "stream",
          "name": "stdout",
          "text": [
            "{1: (307, 157, 392, 250)}\n",
            "/content/drive/MyDrive/parallel_dots/CMU10_3D/CMU10_3D/data_2D/can_chowder_000007.jpg /content/drive/MyDrive/parallel_dots/CMU10_3D/CMU10_3D/data_2D/can_chowder_000007_1_gt.png\n"
          ]
        },
        {
          "output_type": "stream",
          "name": "stderr",
          "text": [
            "frame loading (JPEG): 100%|██████████| 2/2 [00:00<00:00, 32.43it/s]\n",
            "propagate in video: 100%|██████████| 2/2 [00:00<00:00,  2.25it/s]\n"
          ]
        },
        {
          "output_type": "stream",
          "name": "stdout",
          "text": [
            "{1: (299, 213, 370, 323)}\n",
            "/content/drive/MyDrive/parallel_dots/CMU10_3D/CMU10_3D/data_2D/can_chowder_000050.jpg /content/drive/MyDrive/parallel_dots/CMU10_3D/CMU10_3D/data_2D/can_chowder_000050_1_gt.png\n"
          ]
        },
        {
          "output_type": "stream",
          "name": "stderr",
          "text": [
            "frame loading (JPEG): 100%|██████████| 2/2 [00:00<00:00, 19.87it/s]\n",
            "propagate in video: 100%|██████████| 2/2 [00:00<00:00,  2.26it/s]\n"
          ]
        },
        {
          "output_type": "stream",
          "name": "stdout",
          "text": [
            "{1: (211, 122, 279, 211)}\n",
            "/content/drive/MyDrive/parallel_dots/CMU10_3D/CMU10_3D/data_2D/can_chowder_000024.jpg /content/drive/MyDrive/parallel_dots/CMU10_3D/CMU10_3D/data_2D/can_chowder_000024_1_gt.png\n"
          ]
        },
        {
          "output_type": "stream",
          "name": "stderr",
          "text": [
            "frame loading (JPEG): 100%|██████████| 2/2 [00:00<00:00, 33.70it/s]\n",
            "propagate in video: 100%|██████████| 2/2 [00:00<00:00,  2.24it/s]\n"
          ]
        },
        {
          "output_type": "stream",
          "name": "stdout",
          "text": [
            "{1: (373, 154, 463, 290)}\n",
            "appending none\n",
            "/content/drive/MyDrive/parallel_dots/CMU10_3D/CMU10_3D/data_2D/can_chowder_000044.jpg /content/drive/MyDrive/parallel_dots/CMU10_3D/CMU10_3D/data_2D/can_chowder_000044_1_gt.png\n"
          ]
        },
        {
          "output_type": "stream",
          "name": "stderr",
          "text": [
            "frame loading (JPEG): 100%|██████████| 2/2 [00:00<00:00, 32.18it/s]\n",
            "propagate in video: 100%|██████████| 2/2 [00:00<00:00,  2.24it/s]\n"
          ]
        },
        {
          "output_type": "stream",
          "name": "stdout",
          "text": [
            "{1: (373, 154, 463, 290)}\n",
            "appending none\n",
            "/content/drive/MyDrive/parallel_dots/CMU10_3D/CMU10_3D/data_2D/can_chowder_000040.jpg /content/drive/MyDrive/parallel_dots/CMU10_3D/CMU10_3D/data_2D/can_chowder_000040_1_gt.png\n"
          ]
        },
        {
          "output_type": "stream",
          "name": "stderr",
          "text": [
            "frame loading (JPEG): 100%|██████████| 2/2 [00:00<00:00, 30.36it/s]\n",
            "propagate in video: 100%|██████████| 2/2 [00:00<00:00,  2.24it/s]\n"
          ]
        },
        {
          "output_type": "stream",
          "name": "stdout",
          "text": [
            "{1: (373, 154, 463, 290)}\n",
            "appending none\n",
            "/content/drive/MyDrive/parallel_dots/CMU10_3D/CMU10_3D/data_2D/can_chowder_000041.jpg /content/drive/MyDrive/parallel_dots/CMU10_3D/CMU10_3D/data_2D/can_chowder_000041_1_gt.png\n"
          ]
        },
        {
          "output_type": "stream",
          "name": "stderr",
          "text": [
            "frame loading (JPEG): 100%|██████████| 2/2 [00:00<00:00, 20.80it/s]\n",
            "propagate in video: 100%|██████████| 2/2 [00:00<00:00,  2.22it/s]\n"
          ]
        },
        {
          "output_type": "stream",
          "name": "stdout",
          "text": [
            "{1: (230, 166, 315, 297)}\n",
            "/content/drive/MyDrive/parallel_dots/CMU10_3D/CMU10_3D/data_2D/can_chowder_000013.jpg /content/drive/MyDrive/parallel_dots/CMU10_3D/CMU10_3D/data_2D/can_chowder_000013_1_gt.png\n"
          ]
        },
        {
          "output_type": "stream",
          "name": "stderr",
          "text": [
            "frame loading (JPEG): 100%|██████████| 2/2 [00:00<00:00, 18.14it/s]\n",
            "propagate in video: 100%|██████████| 2/2 [00:00<00:00,  2.23it/s]\n"
          ]
        },
        {
          "output_type": "stream",
          "name": "stdout",
          "text": [
            "{1: (393, 152, 503, 308)}\n",
            "/content/drive/MyDrive/parallel_dots/CMU10_3D/CMU10_3D/data_2D/can_chowder_000008.jpg /content/drive/MyDrive/parallel_dots/CMU10_3D/CMU10_3D/data_2D/can_chowder_000008_1_gt.png\n"
          ]
        },
        {
          "output_type": "stream",
          "name": "stderr",
          "text": [
            "frame loading (JPEG): 100%|██████████| 2/2 [00:00<00:00, 32.63it/s]\n",
            "propagate in video: 100%|██████████| 2/2 [00:00<00:00,  2.22it/s]\n"
          ]
        },
        {
          "output_type": "stream",
          "name": "stdout",
          "text": [
            "{1: (366, 223, 446, 345)}\n",
            "/content/drive/MyDrive/parallel_dots/CMU10_3D/CMU10_3D/data_2D/can_chowder_000001.jpg /content/drive/MyDrive/parallel_dots/CMU10_3D/CMU10_3D/data_2D/can_chowder_000001_1_gt.png\n"
          ]
        },
        {
          "output_type": "stream",
          "name": "stderr",
          "text": [
            "frame loading (JPEG): 100%|██████████| 2/2 [00:00<00:00, 21.98it/s]\n",
            "propagate in video: 100%|██████████| 2/2 [00:00<00:00,  2.21it/s]\n"
          ]
        },
        {
          "output_type": "stream",
          "name": "stdout",
          "text": [
            "{1: (374, 154, 463, 289)}\n",
            "/content/drive/MyDrive/parallel_dots/CMU10_3D/CMU10_3D/data_2D/can_chowder_000038.jpg /content/drive/MyDrive/parallel_dots/CMU10_3D/CMU10_3D/data_2D/can_chowder_000038_1_gt.png\n"
          ]
        },
        {
          "output_type": "stream",
          "name": "stderr",
          "text": [
            "frame loading (JPEG): 100%|██████████| 2/2 [00:00<00:00, 20.38it/s]\n",
            "propagate in video: 100%|██████████| 2/2 [00:00<00:00,  2.23it/s]\n"
          ]
        },
        {
          "output_type": "stream",
          "name": "stdout",
          "text": [
            "{1: (200, 60, 323, 239)}\n",
            "/content/drive/MyDrive/parallel_dots/CMU10_3D/CMU10_3D/data_2D/can_chowder_000034.jpg /content/drive/MyDrive/parallel_dots/CMU10_3D/CMU10_3D/data_2D/can_chowder_000034_1_gt.png\n"
          ]
        },
        {
          "output_type": "stream",
          "name": "stderr",
          "text": [
            "frame loading (JPEG): 100%|██████████| 2/2 [00:00<00:00, 28.25it/s]\n",
            "propagate in video: 100%|██████████| 2/2 [00:00<00:00,  2.23it/s]\n"
          ]
        },
        {
          "output_type": "stream",
          "name": "stdout",
          "text": [
            "{1: (0, 23, 293, 216)}\n",
            "/content/drive/MyDrive/parallel_dots/CMU10_3D/CMU10_3D/data_2D/can_chowder_000046.jpg /content/drive/MyDrive/parallel_dots/CMU10_3D/CMU10_3D/data_2D/can_chowder_000046_1_gt.png\n"
          ]
        },
        {
          "output_type": "stream",
          "name": "stderr",
          "text": [
            "frame loading (JPEG): 100%|██████████| 2/2 [00:00<00:00, 32.23it/s]\n",
            "propagate in video: 100%|██████████| 2/2 [00:00<00:00,  2.24it/s]\n"
          ]
        },
        {
          "output_type": "stream",
          "name": "stdout",
          "text": [
            "{1: (373, 154, 463, 290)}\n",
            "appending none\n",
            "/content/drive/MyDrive/parallel_dots/CMU10_3D/CMU10_3D/data_2D/can_chowder_000048.jpg /content/drive/MyDrive/parallel_dots/CMU10_3D/CMU10_3D/data_2D/can_chowder_000048_1_gt.png\n"
          ]
        },
        {
          "output_type": "stream",
          "name": "stderr",
          "text": [
            "frame loading (JPEG): 100%|██████████| 2/2 [00:00<00:00, 32.90it/s]\n",
            "propagate in video: 100%|██████████| 2/2 [00:00<00:00,  2.23it/s]\n"
          ]
        },
        {
          "output_type": "stream",
          "name": "stdout",
          "text": [
            "{1: (373, 154, 463, 290)}\n",
            "appending none\n",
            "/content/drive/MyDrive/parallel_dots/CMU10_3D/CMU10_3D/data_2D/can_chowder_000039.jpg /content/drive/MyDrive/parallel_dots/CMU10_3D/CMU10_3D/data_2D/can_chowder_000039_1_gt.png\n"
          ]
        },
        {
          "output_type": "stream",
          "name": "stderr",
          "text": [
            "frame loading (JPEG): 100%|██████████| 2/2 [00:00<00:00, 29.87it/s]\n",
            "propagate in video: 100%|██████████| 2/2 [00:00<00:00,  2.22it/s]\n"
          ]
        },
        {
          "output_type": "stream",
          "name": "stdout",
          "text": [
            "{1: (373, 154, 463, 290)}\n",
            "appending none\n",
            "/content/drive/MyDrive/parallel_dots/CMU10_3D/CMU10_3D/data_2D/can_chowder_000027.jpg /content/drive/MyDrive/parallel_dots/CMU10_3D/CMU10_3D/data_2D/can_chowder_000027_1_gt.png\n"
          ]
        },
        {
          "output_type": "stream",
          "name": "stderr",
          "text": [
            "frame loading (JPEG): 100%|██████████| 2/2 [00:00<00:00, 27.32it/s]\n",
            "propagate in video: 100%|██████████| 2/2 [00:00<00:00,  2.22it/s]\n"
          ]
        },
        {
          "output_type": "stream",
          "name": "stdout",
          "text": [
            "{1: (341, 109, 423, 239)}\n",
            "/content/drive/MyDrive/parallel_dots/CMU10_3D/CMU10_3D/data_2D/can_chowder_000003.jpg /content/drive/MyDrive/parallel_dots/CMU10_3D/CMU10_3D/data_2D/can_chowder_000003_1_gt.png\n"
          ]
        },
        {
          "output_type": "stream",
          "name": "stderr",
          "text": [
            "frame loading (JPEG): 100%|██████████| 2/2 [00:00<00:00, 19.98it/s]\n",
            "propagate in video: 100%|██████████| 2/2 [00:00<00:00,  2.21it/s]\n"
          ]
        },
        {
          "output_type": "stream",
          "name": "stdout",
          "text": [
            "{1: (404, 94, 503, 238)}\n",
            "/content/drive/MyDrive/parallel_dots/CMU10_3D/CMU10_3D/data_2D/can_chowder_000014.jpg /content/drive/MyDrive/parallel_dots/CMU10_3D/CMU10_3D/data_2D/can_chowder_000014_1_gt.png\n"
          ]
        },
        {
          "output_type": "stream",
          "name": "stderr",
          "text": [
            "frame loading (JPEG): 100%|██████████| 2/2 [00:00<00:00, 21.87it/s]\n",
            "propagate in video: 100%|██████████| 2/2 [00:00<00:00,  2.20it/s]\n"
          ]
        },
        {
          "output_type": "stream",
          "name": "stdout",
          "text": [
            "{1: (191, 168, 263, 277)}\n",
            "/content/drive/MyDrive/parallel_dots/CMU10_3D/CMU10_3D/data_2D/can_chowder_000042.jpg /content/drive/MyDrive/parallel_dots/CMU10_3D/CMU10_3D/data_2D/can_chowder_000042_1_gt.png\n"
          ]
        },
        {
          "output_type": "stream",
          "name": "stderr",
          "text": [
            "frame loading (JPEG): 100%|██████████| 2/2 [00:00<00:00, 31.00it/s]\n",
            "propagate in video: 100%|██████████| 2/2 [00:00<00:00,  2.22it/s]\n"
          ]
        },
        {
          "output_type": "stream",
          "name": "stdout",
          "text": [
            "{1: (373, 154, 463, 290)}\n",
            "appending none\n",
            "/content/drive/MyDrive/parallel_dots/CMU10_3D/CMU10_3D/data_2D/can_chowder_000036.jpg /content/drive/MyDrive/parallel_dots/CMU10_3D/CMU10_3D/data_2D/can_chowder_000036_1_gt.png\n"
          ]
        },
        {
          "output_type": "stream",
          "name": "stderr",
          "text": [
            "frame loading (JPEG): 100%|██████████| 2/2 [00:00<00:00, 33.11it/s]\n",
            "propagate in video: 100%|██████████| 2/2 [00:00<00:00,  2.22it/s]\n"
          ]
        },
        {
          "output_type": "stream",
          "name": "stdout",
          "text": [
            "{1: (373, 154, 463, 290)}\n",
            "appending none\n",
            "/content/drive/MyDrive/parallel_dots/CMU10_3D/CMU10_3D/data_2D/can_chowder_000009.jpg /content/drive/MyDrive/parallel_dots/CMU10_3D/CMU10_3D/data_2D/can_chowder_000009_1_gt.png\n"
          ]
        },
        {
          "output_type": "stream",
          "name": "stderr",
          "text": [
            "frame loading (JPEG): 100%|██████████| 2/2 [00:00<00:00, 32.85it/s]\n",
            "propagate in video: 100%|██████████| 2/2 [00:00<00:00,  2.23it/s]\n"
          ]
        },
        {
          "output_type": "stream",
          "name": "stdout",
          "text": [
            "{1: (373, 154, 463, 290)}\n",
            "appending none\n",
            "/content/drive/MyDrive/parallel_dots/CMU10_3D/CMU10_3D/data_2D/can_chowder_000026.jpg /content/drive/MyDrive/parallel_dots/CMU10_3D/CMU10_3D/data_2D/can_chowder_000026_1_gt.png\n"
          ]
        },
        {
          "output_type": "stream",
          "name": "stderr",
          "text": [
            "frame loading (JPEG): 100%|██████████| 2/2 [00:00<00:00, 32.39it/s]\n",
            "propagate in video: 100%|██████████| 2/2 [00:00<00:00,  2.20it/s]\n"
          ]
        },
        {
          "output_type": "stream",
          "name": "stdout",
          "text": [
            "{1: (373, 154, 463, 290)}\n",
            "appending none\n",
            "/content/drive/MyDrive/parallel_dots/CMU10_3D/CMU10_3D/data_2D/can_chowder_000015.jpg /content/drive/MyDrive/parallel_dots/CMU10_3D/CMU10_3D/data_2D/can_chowder_000015_1_gt.png\n"
          ]
        },
        {
          "output_type": "stream",
          "name": "stderr",
          "text": [
            "frame loading (JPEG): 100%|██████████| 2/2 [00:00<00:00, 30.26it/s]\n",
            "propagate in video: 100%|██████████| 2/2 [00:00<00:00,  2.20it/s]\n"
          ]
        },
        {
          "output_type": "stream",
          "name": "stdout",
          "text": [
            "{1: (373, 154, 463, 290)}\n",
            "appending none\n",
            "/content/drive/MyDrive/parallel_dots/CMU10_3D/CMU10_3D/data_2D/can_chowder_000030.jpg /content/drive/MyDrive/parallel_dots/CMU10_3D/CMU10_3D/data_2D/can_chowder_000030_1_gt.png\n"
          ]
        },
        {
          "output_type": "stream",
          "name": "stderr",
          "text": [
            "frame loading (JPEG): 100%|██████████| 2/2 [00:00<00:00, 20.90it/s]\n",
            "propagate in video: 100%|██████████| 2/2 [00:00<00:00,  2.19it/s]\n"
          ]
        },
        {
          "output_type": "stream",
          "name": "stdout",
          "text": [
            "{1: (209, 124, 274, 266)}\n",
            "/content/drive/MyDrive/parallel_dots/CMU10_3D/CMU10_3D/data_2D/can_chowder_000028.jpg /content/drive/MyDrive/parallel_dots/CMU10_3D/CMU10_3D/data_2D/can_chowder_000028_1_gt.png\n"
          ]
        },
        {
          "output_type": "stream",
          "name": "stderr",
          "text": [
            "frame loading (JPEG): 100%|██████████| 2/2 [00:00<00:00, 19.05it/s]\n",
            "propagate in video: 100%|██████████| 2/2 [00:00<00:00,  2.20it/s]\n"
          ]
        },
        {
          "output_type": "stream",
          "name": "stdout",
          "text": [
            "{1: (373, 154, 463, 290)}\n",
            "appending none\n",
            "/content/drive/MyDrive/parallel_dots/CMU10_3D/CMU10_3D/data_2D/can_chowder_000010.jpg /content/drive/MyDrive/parallel_dots/CMU10_3D/CMU10_3D/data_2D/can_chowder_000010_1_gt.png\n"
          ]
        },
        {
          "output_type": "stream",
          "name": "stderr",
          "text": [
            "frame loading (JPEG): 100%|██████████| 2/2 [00:00<00:00, 32.85it/s]\n",
            "propagate in video: 100%|██████████| 2/2 [00:00<00:00,  2.20it/s]\n"
          ]
        },
        {
          "output_type": "stream",
          "name": "stdout",
          "text": [
            "{1: (477, 65, 572, 190)}\n",
            "/content/drive/MyDrive/parallel_dots/CMU10_3D/CMU10_3D/data_2D/can_chowder_000031.jpg /content/drive/MyDrive/parallel_dots/CMU10_3D/CMU10_3D/data_2D/can_chowder_000031_1_gt.png\n"
          ]
        },
        {
          "output_type": "stream",
          "name": "stderr",
          "text": [
            "frame loading (JPEG): 100%|██████████| 2/2 [00:00<00:00, 28.27it/s]\n",
            "propagate in video: 100%|██████████| 2/2 [00:00<00:00,  2.20it/s]\n"
          ]
        },
        {
          "output_type": "stream",
          "name": "stdout",
          "text": [
            "{1: (373, 154, 463, 290)}\n",
            "appending none\n",
            "/content/drive/MyDrive/parallel_dots/CMU10_3D/CMU10_3D/data_2D/can_chowder_000029.jpg /content/drive/MyDrive/parallel_dots/CMU10_3D/CMU10_3D/data_2D/can_chowder_000029_1_gt.png\n"
          ]
        },
        {
          "output_type": "stream",
          "name": "stderr",
          "text": [
            "frame loading (JPEG): 100%|██████████| 2/2 [00:00<00:00, 33.27it/s]\n",
            "propagate in video: 100%|██████████| 2/2 [00:00<00:00,  2.19it/s]\n"
          ]
        },
        {
          "output_type": "stream",
          "name": "stdout",
          "text": [
            "{1: (373, 154, 463, 290)}\n",
            "appending none\n",
            "/content/drive/MyDrive/parallel_dots/CMU10_3D/CMU10_3D/data_2D/can_chowder_000037.jpg /content/drive/MyDrive/parallel_dots/CMU10_3D/CMU10_3D/data_2D/can_chowder_000037_1_gt.png\n"
          ]
        },
        {
          "output_type": "stream",
          "name": "stderr",
          "text": [
            "frame loading (JPEG): 100%|██████████| 2/2 [00:00<00:00, 31.97it/s]\n",
            "propagate in video: 100%|██████████| 2/2 [00:00<00:00,  2.20it/s]\n"
          ]
        },
        {
          "output_type": "stream",
          "name": "stdout",
          "text": [
            "{1: (373, 154, 463, 290)}\n",
            "appending none\n",
            "/content/drive/MyDrive/parallel_dots/CMU10_3D/CMU10_3D/data_2D/can_chowder_000047.jpg /content/drive/MyDrive/parallel_dots/CMU10_3D/CMU10_3D/data_2D/can_chowder_000047_1_gt.png\n"
          ]
        },
        {
          "output_type": "stream",
          "name": "stderr",
          "text": [
            "frame loading (JPEG): 100%|██████████| 2/2 [00:00<00:00, 27.70it/s]\n",
            "propagate in video: 100%|██████████| 2/2 [00:00<00:00,  2.18it/s]\n"
          ]
        },
        {
          "output_type": "stream",
          "name": "stdout",
          "text": [
            "{1: (373, 154, 463, 290)}\n",
            "appending none\n",
            "/content/drive/MyDrive/parallel_dots/CMU10_3D/CMU10_3D/data_2D/can_chowder_000023.jpg /content/drive/MyDrive/parallel_dots/CMU10_3D/CMU10_3D/data_2D/can_chowder_000023_1_gt.png\n"
          ]
        },
        {
          "output_type": "stream",
          "name": "stderr",
          "text": [
            "frame loading (JPEG): 100%|██████████| 2/2 [00:00<00:00, 20.27it/s]\n",
            "propagate in video: 100%|██████████| 2/2 [00:00<00:00,  2.21it/s]\n"
          ]
        },
        {
          "output_type": "stream",
          "name": "stdout",
          "text": [
            "{1: (373, 154, 463, 290)}\n",
            "appending none\n",
            "/content/drive/MyDrive/parallel_dots/CMU10_3D/CMU10_3D/data_2D/can_chowder_000021.jpg /content/drive/MyDrive/parallel_dots/CMU10_3D/CMU10_3D/data_2D/can_chowder_000021_1_gt.png\n"
          ]
        },
        {
          "output_type": "stream",
          "name": "stderr",
          "text": [
            "frame loading (JPEG): 100%|██████████| 2/2 [00:00<00:00, 21.01it/s]\n",
            "propagate in video: 100%|██████████| 2/2 [00:00<00:00,  2.21it/s]\n"
          ]
        },
        {
          "output_type": "stream",
          "name": "stdout",
          "text": [
            "{1: (373, 154, 463, 290)}\n",
            "appending none\n",
            "/content/drive/MyDrive/parallel_dots/CMU10_3D/CMU10_3D/data_2D/can_chowder_000017.jpg /content/drive/MyDrive/parallel_dots/CMU10_3D/CMU10_3D/data_2D/can_chowder_000017_1_gt.png\n"
          ]
        },
        {
          "output_type": "stream",
          "name": "stderr",
          "text": [
            "frame loading (JPEG): 100%|██████████| 2/2 [00:00<00:00, 31.88it/s]\n",
            "propagate in video: 100%|██████████| 2/2 [00:00<00:00,  2.19it/s]\n"
          ]
        },
        {
          "output_type": "stream",
          "name": "stdout",
          "text": [
            "{1: (373, 154, 463, 290)}\n",
            "appending none\n",
            "/content/drive/MyDrive/parallel_dots/CMU10_3D/CMU10_3D/data_2D/can_chowder_000035.jpg /content/drive/MyDrive/parallel_dots/CMU10_3D/CMU10_3D/data_2D/can_chowder_000035_1_gt.png\n"
          ]
        },
        {
          "output_type": "stream",
          "name": "stderr",
          "text": [
            "frame loading (JPEG): 100%|██████████| 2/2 [00:00<00:00, 32.79it/s]\n",
            "propagate in video: 100%|██████████| 2/2 [00:00<00:00,  2.18it/s]\n"
          ]
        },
        {
          "output_type": "stream",
          "name": "stdout",
          "text": [
            "{1: (373, 154, 463, 290)}\n",
            "appending none\n",
            "/content/drive/MyDrive/parallel_dots/CMU10_3D/CMU10_3D/data_2D/can_chowder_000011.jpg /content/drive/MyDrive/parallel_dots/CMU10_3D/CMU10_3D/data_2D/can_chowder_000011_1_gt.png\n"
          ]
        },
        {
          "output_type": "stream",
          "name": "stderr",
          "text": [
            "frame loading (JPEG): 100%|██████████| 2/2 [00:00<00:00, 32.39it/s]\n",
            "propagate in video: 100%|██████████| 2/2 [00:00<00:00,  2.18it/s]\n"
          ]
        },
        {
          "output_type": "stream",
          "name": "stdout",
          "text": [
            "{1: (471, 115, 565, 244)}\n",
            "/content/drive/MyDrive/parallel_dots/CMU10_3D/CMU10_3D/data_2D/can_chowder_000012.jpg /content/drive/MyDrive/parallel_dots/CMU10_3D/CMU10_3D/data_2D/can_chowder_000012_1_gt.png\n"
          ]
        },
        {
          "output_type": "stream",
          "name": "stderr",
          "text": [
            "frame loading (JPEG): 100%|██████████| 2/2 [00:00<00:00, 31.22it/s]\n",
            "propagate in video: 100%|██████████| 2/2 [00:00<00:00,  2.19it/s]\n"
          ]
        },
        {
          "output_type": "stream",
          "name": "stdout",
          "text": [
            "{1: (344, 24, 497, 166)}\n",
            "/content/drive/MyDrive/parallel_dots/CMU10_3D/CMU10_3D/data_2D/can_chowder_000016.jpg /content/drive/MyDrive/parallel_dots/CMU10_3D/CMU10_3D/data_2D/can_chowder_000016_1_gt.png\n"
          ]
        },
        {
          "output_type": "stream",
          "name": "stderr",
          "text": [
            "frame loading (JPEG): 100%|██████████| 2/2 [00:00<00:00, 32.33it/s]\n",
            "propagate in video: 100%|██████████| 2/2 [00:00<00:00,  2.17it/s]\n"
          ]
        },
        {
          "output_type": "stream",
          "name": "stdout",
          "text": [
            "{1: (246, 171, 330, 263)}\n",
            "Performance for can_chowder: {'mean_iou': 0.3875101071600811, 'precision': 0.44, 'recall': 0.44}\n",
            "/content/drive/MyDrive/parallel_dots/CMU10_3D/CMU10_3D/data_2D/can_soymilk_000027.jpg /content/drive/MyDrive/parallel_dots/CMU10_3D/CMU10_3D/data_2D/can_soymilk_000027_1_gt.png\n"
          ]
        },
        {
          "output_type": "stream",
          "name": "stderr",
          "text": [
            "frame loading (JPEG): 100%|██████████| 2/2 [00:00<00:00, 22.39it/s]\n",
            "propagate in video: 100%|██████████| 2/2 [00:00<00:00,  2.19it/s]\n"
          ]
        },
        {
          "output_type": "stream",
          "name": "stdout",
          "text": [
            "{1: (438, 102, 508, 226)}\n",
            "/content/drive/MyDrive/parallel_dots/CMU10_3D/CMU10_3D/data_2D/can_soymilk_000038.jpg /content/drive/MyDrive/parallel_dots/CMU10_3D/CMU10_3D/data_2D/can_soymilk_000038_1_gt.png\n"
          ]
        },
        {
          "output_type": "stream",
          "name": "stderr",
          "text": [
            "frame loading (JPEG): 100%|██████████| 2/2 [00:00<00:00, 18.45it/s]\n",
            "propagate in video: 100%|██████████| 2/2 [00:00<00:00,  2.18it/s]\n"
          ]
        },
        {
          "output_type": "stream",
          "name": "stdout",
          "text": [
            "{1: (438, 102, 508, 226)}\n",
            "/content/drive/MyDrive/parallel_dots/CMU10_3D/CMU10_3D/data_2D/can_soymilk_000023.jpg /content/drive/MyDrive/parallel_dots/CMU10_3D/CMU10_3D/data_2D/can_soymilk_000023_1_gt.png\n"
          ]
        },
        {
          "output_type": "stream",
          "name": "stderr",
          "text": [
            "frame loading (JPEG): 100%|██████████| 2/2 [00:00<00:00, 27.93it/s]\n",
            "propagate in video: 100%|██████████| 2/2 [00:00<00:00,  2.18it/s]\n"
          ]
        },
        {
          "output_type": "stream",
          "name": "stdout",
          "text": [
            "{1: (235, 199, 333, 371)}\n",
            "/content/drive/MyDrive/parallel_dots/CMU10_3D/CMU10_3D/data_2D/can_soymilk_000044.jpg /content/drive/MyDrive/parallel_dots/CMU10_3D/CMU10_3D/data_2D/can_soymilk_000044_1_gt.png\n"
          ]
        },
        {
          "output_type": "stream",
          "name": "stderr",
          "text": [
            "frame loading (JPEG): 100%|██████████| 2/2 [00:00<00:00, 29.52it/s]\n",
            "propagate in video: 100%|██████████| 2/2 [00:00<00:00,  2.18it/s]\n"
          ]
        },
        {
          "output_type": "stream",
          "name": "stdout",
          "text": [
            "{1: (438, 102, 508, 226)}\n",
            "/content/drive/MyDrive/parallel_dots/CMU10_3D/CMU10_3D/data_2D/can_soymilk_000018.jpg /content/drive/MyDrive/parallel_dots/CMU10_3D/CMU10_3D/data_2D/can_soymilk_000018_1_gt.png\n"
          ]
        },
        {
          "output_type": "stream",
          "name": "stderr",
          "text": [
            "frame loading (JPEG): 100%|██████████| 2/2 [00:00<00:00, 33.45it/s]\n",
            "propagate in video: 100%|██████████| 2/2 [00:00<00:00,  2.19it/s]\n"
          ]
        },
        {
          "output_type": "stream",
          "name": "stdout",
          "text": [
            "{1: (438, 102, 508, 226)}\n",
            "/content/drive/MyDrive/parallel_dots/CMU10_3D/CMU10_3D/data_2D/can_soymilk_000001.jpg /content/drive/MyDrive/parallel_dots/CMU10_3D/CMU10_3D/data_2D/can_soymilk_000001_1_gt.png\n"
          ]
        },
        {
          "output_type": "stream",
          "name": "stderr",
          "text": [
            "frame loading (JPEG): 100%|██████████| 2/2 [00:00<00:00, 32.48it/s]\n",
            "propagate in video: 100%|██████████| 2/2 [00:00<00:00,  2.18it/s]\n"
          ]
        },
        {
          "output_type": "stream",
          "name": "stdout",
          "text": [
            "{1: (438, 102, 508, 226)}\n",
            "/content/drive/MyDrive/parallel_dots/CMU10_3D/CMU10_3D/data_2D/can_soymilk_000034.jpg /content/drive/MyDrive/parallel_dots/CMU10_3D/CMU10_3D/data_2D/can_soymilk_000034_1_gt.png\n"
          ]
        },
        {
          "output_type": "stream",
          "name": "stderr",
          "text": [
            "frame loading (JPEG): 100%|██████████| 2/2 [00:00<00:00, 31.29it/s]\n",
            "propagate in video: 100%|██████████| 2/2 [00:00<00:00,  2.16it/s]\n"
          ]
        },
        {
          "output_type": "stream",
          "name": "stdout",
          "text": [
            "{1: (377, 118, 467, 277)}\n",
            "/content/drive/MyDrive/parallel_dots/CMU10_3D/CMU10_3D/data_2D/can_soymilk_000006.jpg /content/drive/MyDrive/parallel_dots/CMU10_3D/CMU10_3D/data_2D/can_soymilk_000006_1_gt.png\n"
          ]
        },
        {
          "output_type": "stream",
          "name": "stderr",
          "text": [
            "frame loading (JPEG): 100%|██████████| 2/2 [00:00<00:00, 20.85it/s]\n",
            "propagate in video: 100%|██████████| 2/2 [00:00<00:00,  2.17it/s]\n"
          ]
        },
        {
          "output_type": "stream",
          "name": "stdout",
          "text": [
            "{1: (361, 172, 425, 270)}\n",
            "/content/drive/MyDrive/parallel_dots/CMU10_3D/CMU10_3D/data_2D/can_soymilk_000021.jpg /content/drive/MyDrive/parallel_dots/CMU10_3D/CMU10_3D/data_2D/can_soymilk_000021_1_gt.png\n"
          ]
        },
        {
          "output_type": "stream",
          "name": "stderr",
          "text": [
            "frame loading (JPEG): 100%|██████████| 2/2 [00:00<00:00, 18.07it/s]\n",
            "propagate in video: 100%|██████████| 2/2 [00:00<00:00,  2.19it/s]\n"
          ]
        },
        {
          "output_type": "stream",
          "name": "stdout",
          "text": [
            "{1: (438, 102, 508, 226)}\n",
            "/content/drive/MyDrive/parallel_dots/CMU10_3D/CMU10_3D/data_2D/can_soymilk_000005.jpg /content/drive/MyDrive/parallel_dots/CMU10_3D/CMU10_3D/data_2D/can_soymilk_000005_1_gt.png\n"
          ]
        },
        {
          "output_type": "stream",
          "name": "stderr",
          "text": [
            "frame loading (JPEG): 100%|██████████| 2/2 [00:00<00:00, 32.62it/s]\n",
            "propagate in video: 100%|██████████| 2/2 [00:00<00:00,  2.17it/s]\n"
          ]
        },
        {
          "output_type": "stream",
          "name": "stdout",
          "text": [
            "{1: (438, 102, 508, 226)}\n",
            "/content/drive/MyDrive/parallel_dots/CMU10_3D/CMU10_3D/data_2D/can_soymilk_000013.jpg /content/drive/MyDrive/parallel_dots/CMU10_3D/CMU10_3D/data_2D/can_soymilk_000013_1_gt.png\n"
          ]
        },
        {
          "output_type": "stream",
          "name": "stderr",
          "text": [
            "frame loading (JPEG): 100%|██████████| 2/2 [00:00<00:00, 29.95it/s]\n",
            "propagate in video: 100%|██████████| 2/2 [00:00<00:00,  2.17it/s]\n"
          ]
        },
        {
          "output_type": "stream",
          "name": "stdout",
          "text": [
            "{1: (438, 102, 508, 226)}\n",
            "/content/drive/MyDrive/parallel_dots/CMU10_3D/CMU10_3D/data_2D/can_soymilk_000042.jpg /content/drive/MyDrive/parallel_dots/CMU10_3D/CMU10_3D/data_2D/can_soymilk_000042_1_gt.png\n"
          ]
        },
        {
          "output_type": "stream",
          "name": "stderr",
          "text": [
            "frame loading (JPEG): 100%|██████████| 2/2 [00:00<00:00, 31.00it/s]\n",
            "propagate in video: 100%|██████████| 2/2 [00:00<00:00,  2.17it/s]\n"
          ]
        },
        {
          "output_type": "stream",
          "name": "stdout",
          "text": [
            "{1: (438, 102, 508, 226)}\n",
            "/content/drive/MyDrive/parallel_dots/CMU10_3D/CMU10_3D/data_2D/can_soymilk_000033.jpg /content/drive/MyDrive/parallel_dots/CMU10_3D/CMU10_3D/data_2D/can_soymilk_000033_1_gt.png\n"
          ]
        },
        {
          "output_type": "stream",
          "name": "stderr",
          "text": [
            "frame loading (JPEG): 100%|██████████| 2/2 [00:00<00:00, 34.02it/s]\n",
            "propagate in video: 100%|██████████| 2/2 [00:00<00:00,  2.16it/s]\n"
          ]
        },
        {
          "output_type": "stream",
          "name": "stdout",
          "text": [
            "{1: (307, 127, 494, 276)}\n",
            "/content/drive/MyDrive/parallel_dots/CMU10_3D/CMU10_3D/data_2D/can_soymilk_000035.jpg /content/drive/MyDrive/parallel_dots/CMU10_3D/CMU10_3D/data_2D/can_soymilk_000035_1_gt.png\n"
          ]
        },
        {
          "output_type": "stream",
          "name": "stderr",
          "text": [
            "frame loading (JPEG): 100%|██████████| 2/2 [00:00<00:00, 27.09it/s]\n",
            "propagate in video: 100%|██████████| 2/2 [00:00<00:00,  2.17it/s]\n"
          ]
        },
        {
          "output_type": "stream",
          "name": "stdout",
          "text": [
            "{1: (449, 246, 547, 414)}\n",
            "/content/drive/MyDrive/parallel_dots/CMU10_3D/CMU10_3D/data_2D/can_soymilk_000009.jpg /content/drive/MyDrive/parallel_dots/CMU10_3D/CMU10_3D/data_2D/can_soymilk_000009_1_gt.png\n"
          ]
        },
        {
          "output_type": "stream",
          "name": "stderr",
          "text": [
            "frame loading (JPEG): 100%|██████████| 2/2 [00:00<00:00, 21.05it/s]\n",
            "propagate in video: 100%|██████████| 2/2 [00:00<00:00,  2.16it/s]\n"
          ]
        },
        {
          "output_type": "stream",
          "name": "stdout",
          "text": [
            "{1: (524, 127, 582, 239)}\n",
            "/content/drive/MyDrive/parallel_dots/CMU10_3D/CMU10_3D/data_2D/can_soymilk_000010.jpg /content/drive/MyDrive/parallel_dots/CMU10_3D/CMU10_3D/data_2D/can_soymilk_000010_1_gt.png\n"
          ]
        },
        {
          "output_type": "stream",
          "name": "stderr",
          "text": [
            "frame loading (JPEG): 100%|██████████| 2/2 [00:00<00:00, 20.74it/s]\n",
            "propagate in video: 100%|██████████| 2/2 [00:00<00:00,  2.16it/s]\n"
          ]
        },
        {
          "output_type": "stream",
          "name": "stdout",
          "text": [
            "{1: (500, 278, 566, 390)}\n",
            "/content/drive/MyDrive/parallel_dots/CMU10_3D/CMU10_3D/data_2D/can_soymilk_000040.jpg /content/drive/MyDrive/parallel_dots/CMU10_3D/CMU10_3D/data_2D/can_soymilk_000040_1_gt.png\n"
          ]
        },
        {
          "output_type": "stream",
          "name": "stderr",
          "text": [
            "frame loading (JPEG): 100%|██████████| 2/2 [00:00<00:00, 33.42it/s]\n",
            "propagate in video: 100%|██████████| 2/2 [00:00<00:00,  2.17it/s]\n"
          ]
        },
        {
          "output_type": "stream",
          "name": "stdout",
          "text": [
            "{1: (438, 102, 508, 226)}\n",
            "/content/drive/MyDrive/parallel_dots/CMU10_3D/CMU10_3D/data_2D/can_soymilk_000024.jpg /content/drive/MyDrive/parallel_dots/CMU10_3D/CMU10_3D/data_2D/can_soymilk_000024_1_gt.png\n"
          ]
        },
        {
          "output_type": "stream",
          "name": "stderr",
          "text": [
            "frame loading (JPEG): 100%|██████████| 2/2 [00:00<00:00, 29.79it/s]\n",
            "propagate in video: 100%|██████████| 2/2 [00:00<00:00,  2.16it/s]\n"
          ]
        },
        {
          "output_type": "stream",
          "name": "stdout",
          "text": [
            "{1: (351, 217, 453, 371)}\n",
            "/content/drive/MyDrive/parallel_dots/CMU10_3D/CMU10_3D/data_2D/can_soymilk_000030.jpg /content/drive/MyDrive/parallel_dots/CMU10_3D/CMU10_3D/data_2D/can_soymilk_000030_1_gt.png\n"
          ]
        },
        {
          "output_type": "stream",
          "name": "stderr",
          "text": [
            "frame loading (JPEG): 100%|██████████| 2/2 [00:00<00:00, 33.78it/s]\n",
            "propagate in video: 100%|██████████| 2/2 [00:00<00:00,  2.16it/s]\n"
          ]
        },
        {
          "output_type": "stream",
          "name": "stdout",
          "text": [
            "{1: (438, 102, 508, 226)}\n",
            "/content/drive/MyDrive/parallel_dots/CMU10_3D/CMU10_3D/data_2D/can_soymilk_000002.jpg /content/drive/MyDrive/parallel_dots/CMU10_3D/CMU10_3D/data_2D/can_soymilk_000002_1_gt.png\n"
          ]
        },
        {
          "output_type": "stream",
          "name": "stderr",
          "text": [
            "frame loading (JPEG): 100%|██████████| 2/2 [00:00<00:00, 31.37it/s]\n",
            "propagate in video: 100%|██████████| 2/2 [00:00<00:00,  2.15it/s]\n"
          ]
        },
        {
          "output_type": "stream",
          "name": "stdout",
          "text": [
            "{1: (426, 179, 513, 309)}\n",
            "/content/drive/MyDrive/parallel_dots/CMU10_3D/CMU10_3D/data_2D/can_soymilk_000047.jpg /content/drive/MyDrive/parallel_dots/CMU10_3D/CMU10_3D/data_2D/can_soymilk_000047_1_gt.png\n"
          ]
        },
        {
          "output_type": "stream",
          "name": "stderr",
          "text": [
            "frame loading (JPEG): 100%|██████████| 2/2 [00:00<00:00, 33.07it/s]\n",
            "propagate in video: 100%|██████████| 2/2 [00:00<00:00,  2.16it/s]\n"
          ]
        },
        {
          "output_type": "stream",
          "name": "stdout",
          "text": [
            "{1: (438, 102, 508, 226)}\n",
            "/content/drive/MyDrive/parallel_dots/CMU10_3D/CMU10_3D/data_2D/can_soymilk_000031.jpg /content/drive/MyDrive/parallel_dots/CMU10_3D/CMU10_3D/data_2D/can_soymilk_000031_1_gt.png\n"
          ]
        },
        {
          "output_type": "stream",
          "name": "stderr",
          "text": [
            "frame loading (JPEG): 100%|██████████| 2/2 [00:00<00:00, 33.13it/s]\n",
            "propagate in video: 100%|██████████| 2/2 [00:00<00:00,  2.17it/s]\n"
          ]
        },
        {
          "output_type": "stream",
          "name": "stdout",
          "text": [
            "{1: (438, 102, 508, 226)}\n",
            "/content/drive/MyDrive/parallel_dots/CMU10_3D/CMU10_3D/data_2D/can_soymilk_000045.jpg /content/drive/MyDrive/parallel_dots/CMU10_3D/CMU10_3D/data_2D/can_soymilk_000045_1_gt.png\n"
          ]
        },
        {
          "output_type": "stream",
          "name": "stderr",
          "text": [
            "frame loading (JPEG): 100%|██████████| 2/2 [00:00<00:00, 22.04it/s]\n",
            "propagate in video: 100%|██████████| 2/2 [00:00<00:00,  2.16it/s]\n"
          ]
        },
        {
          "output_type": "stream",
          "name": "stdout",
          "text": [
            "{1: (287, 194, 370, 338)}\n",
            "/content/drive/MyDrive/parallel_dots/CMU10_3D/CMU10_3D/data_2D/can_soymilk_000049.jpg /content/drive/MyDrive/parallel_dots/CMU10_3D/CMU10_3D/data_2D/can_soymilk_000049_1_gt.png\n"
          ]
        },
        {
          "output_type": "stream",
          "name": "stderr",
          "text": [
            "frame loading (JPEG): 100%|██████████| 2/2 [00:00<00:00, 29.57it/s]\n",
            "propagate in video: 100%|██████████| 2/2 [00:00<00:00,  2.16it/s]\n"
          ]
        },
        {
          "output_type": "stream",
          "name": "stdout",
          "text": [
            "{1: (438, 102, 508, 226)}\n",
            "/content/drive/MyDrive/parallel_dots/CMU10_3D/CMU10_3D/data_2D/can_soymilk_000017.jpg /content/drive/MyDrive/parallel_dots/CMU10_3D/CMU10_3D/data_2D/can_soymilk_000017_1_gt.png\n"
          ]
        },
        {
          "output_type": "stream",
          "name": "stderr",
          "text": [
            "frame loading (JPEG): 100%|██████████| 2/2 [00:00<00:00, 28.37it/s]\n",
            "propagate in video: 100%|██████████| 2/2 [00:00<00:00,  2.15it/s]\n"
          ]
        },
        {
          "output_type": "stream",
          "name": "stdout",
          "text": [
            "{1: (444, 212, 618, 428)}\n",
            "/content/drive/MyDrive/parallel_dots/CMU10_3D/CMU10_3D/data_2D/can_soymilk_000037.jpg /content/drive/MyDrive/parallel_dots/CMU10_3D/CMU10_3D/data_2D/can_soymilk_000037_1_gt.png\n"
          ]
        },
        {
          "output_type": "stream",
          "name": "stderr",
          "text": [
            "frame loading (JPEG): 100%|██████████| 2/2 [00:00<00:00, 31.94it/s]\n",
            "propagate in video: 100%|██████████| 2/2 [00:00<00:00,  2.15it/s]\n"
          ]
        },
        {
          "output_type": "stream",
          "name": "stdout",
          "text": [
            "{1: (433, 84, 531, 228)}\n",
            "/content/drive/MyDrive/parallel_dots/CMU10_3D/CMU10_3D/data_2D/can_soymilk_000028.jpg /content/drive/MyDrive/parallel_dots/CMU10_3D/CMU10_3D/data_2D/can_soymilk_000028_1_gt.png\n"
          ]
        },
        {
          "output_type": "stream",
          "name": "stderr",
          "text": [
            "frame loading (JPEG): 100%|██████████| 2/2 [00:00<00:00, 32.76it/s]\n",
            "propagate in video: 100%|██████████| 2/2 [00:00<00:00,  2.15it/s]\n"
          ]
        },
        {
          "output_type": "stream",
          "name": "stdout",
          "text": [
            "{1: (174, 187, 262, 323)}\n",
            "/content/drive/MyDrive/parallel_dots/CMU10_3D/CMU10_3D/data_2D/can_soymilk_000020.jpg /content/drive/MyDrive/parallel_dots/CMU10_3D/CMU10_3D/data_2D/can_soymilk_000020_1_gt.png\n"
          ]
        },
        {
          "output_type": "stream",
          "name": "stderr",
          "text": [
            "frame loading (JPEG): 100%|██████████| 2/2 [00:00<00:00, 29.60it/s]\n",
            "propagate in video: 100%|██████████| 2/2 [00:00<00:00,  2.15it/s]\n"
          ]
        },
        {
          "output_type": "stream",
          "name": "stdout",
          "text": [
            "{1: (431, 134, 488, 227)}\n",
            "/content/drive/MyDrive/parallel_dots/CMU10_3D/CMU10_3D/data_2D/can_soymilk_000048.jpg /content/drive/MyDrive/parallel_dots/CMU10_3D/CMU10_3D/data_2D/can_soymilk_000048_1_gt.png\n"
          ]
        },
        {
          "output_type": "stream",
          "name": "stderr",
          "text": [
            "frame loading (JPEG): 100%|██████████| 2/2 [00:00<00:00, 31.04it/s]\n",
            "propagate in video: 100%|██████████| 2/2 [00:00<00:00,  2.15it/s]\n"
          ]
        },
        {
          "output_type": "stream",
          "name": "stdout",
          "text": [
            "{1: (438, 102, 508, 226)}\n",
            "/content/drive/MyDrive/parallel_dots/CMU10_3D/CMU10_3D/data_2D/can_soymilk_000036.jpg /content/drive/MyDrive/parallel_dots/CMU10_3D/CMU10_3D/data_2D/can_soymilk_000036_1_gt.png\n"
          ]
        },
        {
          "output_type": "stream",
          "name": "stderr",
          "text": [
            "frame loading (JPEG): 100%|██████████| 2/2 [00:00<00:00, 17.70it/s]\n",
            "propagate in video: 100%|██████████| 2/2 [00:00<00:00,  2.17it/s]\n"
          ]
        },
        {
          "output_type": "stream",
          "name": "stdout",
          "text": [
            "{1: (438, 102, 508, 226)}\n",
            "/content/drive/MyDrive/parallel_dots/CMU10_3D/CMU10_3D/data_2D/can_soymilk_000025.jpg /content/drive/MyDrive/parallel_dots/CMU10_3D/CMU10_3D/data_2D/can_soymilk_000025_1_gt.png\n"
          ]
        },
        {
          "output_type": "stream",
          "name": "stderr",
          "text": [
            "frame loading (JPEG): 100%|██████████| 2/2 [00:00<00:00, 30.22it/s]\n",
            "propagate in video: 100%|██████████| 2/2 [00:00<00:00,  2.16it/s]\n"
          ]
        },
        {
          "output_type": "stream",
          "name": "stdout",
          "text": [
            "{1: (438, 102, 508, 226)}\n",
            "/content/drive/MyDrive/parallel_dots/CMU10_3D/CMU10_3D/data_2D/can_soymilk_000032.jpg /content/drive/MyDrive/parallel_dots/CMU10_3D/CMU10_3D/data_2D/can_soymilk_000032_1_gt.png\n"
          ]
        },
        {
          "output_type": "stream",
          "name": "stderr",
          "text": [
            "frame loading (JPEG): 100%|██████████| 2/2 [00:00<00:00, 32.05it/s]\n",
            "propagate in video: 100%|██████████| 2/2 [00:00<00:00,  2.15it/s]\n"
          ]
        },
        {
          "output_type": "stream",
          "name": "stdout",
          "text": [
            "{1: (438, 102, 508, 226)}\n",
            "/content/drive/MyDrive/parallel_dots/CMU10_3D/CMU10_3D/data_2D/can_soymilk_000016.jpg /content/drive/MyDrive/parallel_dots/CMU10_3D/CMU10_3D/data_2D/can_soymilk_000016_1_gt.png\n"
          ]
        },
        {
          "output_type": "stream",
          "name": "stderr",
          "text": [
            "frame loading (JPEG): 100%|██████████| 2/2 [00:00<00:00, 32.51it/s]\n",
            "propagate in video: 100%|██████████| 2/2 [00:00<00:00,  2.14it/s]\n"
          ]
        },
        {
          "output_type": "stream",
          "name": "stdout",
          "text": [
            "{1: (268, 143, 439, 221)}\n",
            "/content/drive/MyDrive/parallel_dots/CMU10_3D/CMU10_3D/data_2D/can_soymilk_000004.jpg /content/drive/MyDrive/parallel_dots/CMU10_3D/CMU10_3D/data_2D/can_soymilk_000004_1_gt.png\n"
          ]
        },
        {
          "output_type": "stream",
          "name": "stderr",
          "text": [
            "frame loading (JPEG): 100%|██████████| 2/2 [00:00<00:00, 31.92it/s]\n",
            "propagate in video: 100%|██████████| 2/2 [00:00<00:00,  2.15it/s]\n"
          ]
        },
        {
          "output_type": "stream",
          "name": "stdout",
          "text": [
            "{1: (211, 23, 408, 130)}\n",
            "/content/drive/MyDrive/parallel_dots/CMU10_3D/CMU10_3D/data_2D/can_soymilk_000029.jpg /content/drive/MyDrive/parallel_dots/CMU10_3D/CMU10_3D/data_2D/can_soymilk_000029_1_gt.png\n"
          ]
        },
        {
          "output_type": "stream",
          "name": "stderr",
          "text": [
            "frame loading (JPEG): 100%|██████████| 2/2 [00:00<00:00, 31.82it/s]\n",
            "propagate in video: 100%|██████████| 2/2 [00:00<00:00,  2.14it/s]\n"
          ]
        },
        {
          "output_type": "stream",
          "name": "stdout",
          "text": [
            "{1: (307, 175, 419, 342)}\n",
            "/content/drive/MyDrive/parallel_dots/CMU10_3D/CMU10_3D/data_2D/can_soymilk_000019.jpg /content/drive/MyDrive/parallel_dots/CMU10_3D/CMU10_3D/data_2D/can_soymilk_000019_1_gt.png\n"
          ]
        },
        {
          "output_type": "stream",
          "name": "stderr",
          "text": [
            "frame loading (JPEG): 100%|██████████| 2/2 [00:00<00:00, 32.07it/s]\n",
            "propagate in video: 100%|██████████| 2/2 [00:00<00:00,  2.15it/s]\n"
          ]
        },
        {
          "output_type": "stream",
          "name": "stdout",
          "text": [
            "{1: (438, 102, 508, 226)}\n",
            "/content/drive/MyDrive/parallel_dots/CMU10_3D/CMU10_3D/data_2D/can_soymilk_000003.jpg /content/drive/MyDrive/parallel_dots/CMU10_3D/CMU10_3D/data_2D/can_soymilk_000003_1_gt.png\n"
          ]
        },
        {
          "output_type": "stream",
          "name": "stderr",
          "text": [
            "frame loading (JPEG): 100%|██████████| 2/2 [00:00<00:00, 19.42it/s]\n",
            "propagate in video: 100%|██████████| 2/2 [00:00<00:00,  2.15it/s]\n"
          ]
        },
        {
          "output_type": "stream",
          "name": "stdout",
          "text": [
            "{1: (76, 38, 388, 179)}\n",
            "/content/drive/MyDrive/parallel_dots/CMU10_3D/CMU10_3D/data_2D/can_soymilk_000022.jpg /content/drive/MyDrive/parallel_dots/CMU10_3D/CMU10_3D/data_2D/can_soymilk_000022_1_gt.png\n"
          ]
        },
        {
          "output_type": "stream",
          "name": "stderr",
          "text": [
            "frame loading (JPEG): 100%|██████████| 2/2 [00:00<00:00, 29.82it/s]\n",
            "propagate in video: 100%|██████████| 2/2 [00:00<00:00,  2.15it/s]\n"
          ]
        },
        {
          "output_type": "stream",
          "name": "stdout",
          "text": [
            "{1: (515, 88, 596, 196)}\n",
            "/content/drive/MyDrive/parallel_dots/CMU10_3D/CMU10_3D/data_2D/can_soymilk_000050.jpg /content/drive/MyDrive/parallel_dots/CMU10_3D/CMU10_3D/data_2D/can_soymilk_000050_1_gt.png\n"
          ]
        },
        {
          "output_type": "stream",
          "name": "stderr",
          "text": [
            "frame loading (JPEG): 100%|██████████| 2/2 [00:00<00:00, 31.83it/s]\n",
            "propagate in video: 100%|██████████| 2/2 [00:00<00:00,  2.14it/s]\n"
          ]
        },
        {
          "output_type": "stream",
          "name": "stdout",
          "text": [
            "{1: (438, 102, 508, 226)}\n",
            "/content/drive/MyDrive/parallel_dots/CMU10_3D/CMU10_3D/data_2D/can_soymilk_000041.jpg /content/drive/MyDrive/parallel_dots/CMU10_3D/CMU10_3D/data_2D/can_soymilk_000041_1_gt.png\n"
          ]
        },
        {
          "output_type": "stream",
          "name": "stderr",
          "text": [
            "frame loading (JPEG): 100%|██████████| 2/2 [00:00<00:00, 30.41it/s]\n",
            "propagate in video: 100%|██████████| 2/2 [00:00<00:00,  2.15it/s]\n"
          ]
        },
        {
          "output_type": "stream",
          "name": "stdout",
          "text": [
            "{1: (438, 102, 508, 226)}\n",
            "/content/drive/MyDrive/parallel_dots/CMU10_3D/CMU10_3D/data_2D/can_soymilk_000026.jpg /content/drive/MyDrive/parallel_dots/CMU10_3D/CMU10_3D/data_2D/can_soymilk_000026_1_gt.png\n"
          ]
        },
        {
          "output_type": "stream",
          "name": "stderr",
          "text": [
            "frame loading (JPEG): 100%|██████████| 2/2 [00:00<00:00, 31.15it/s]\n",
            "propagate in video: 100%|██████████| 2/2 [00:00<00:00,  2.15it/s]\n"
          ]
        },
        {
          "output_type": "stream",
          "name": "stdout",
          "text": [
            "{1: (438, 102, 508, 226)}\n",
            "/content/drive/MyDrive/parallel_dots/CMU10_3D/CMU10_3D/data_2D/can_soymilk_000011.jpg /content/drive/MyDrive/parallel_dots/CMU10_3D/CMU10_3D/data_2D/can_soymilk_000011_1_gt.png\n"
          ]
        },
        {
          "output_type": "stream",
          "name": "stderr",
          "text": [
            "frame loading (JPEG): 100%|██████████| 2/2 [00:00<00:00, 27.01it/s]\n",
            "propagate in video: 100%|██████████| 2/2 [00:00<00:00,  2.15it/s]\n"
          ]
        },
        {
          "output_type": "stream",
          "name": "stdout",
          "text": [
            "{1: (438, 102, 508, 226)}\n",
            "/content/drive/MyDrive/parallel_dots/CMU10_3D/CMU10_3D/data_2D/can_soymilk_000014.jpg /content/drive/MyDrive/parallel_dots/CMU10_3D/CMU10_3D/data_2D/can_soymilk_000014_1_gt.png\n"
          ]
        },
        {
          "output_type": "stream",
          "name": "stderr",
          "text": [
            "frame loading (JPEG): 100%|██████████| 2/2 [00:00<00:00, 31.01it/s]\n",
            "propagate in video: 100%|██████████| 2/2 [00:00<00:00,  2.13it/s]\n"
          ]
        },
        {
          "output_type": "stream",
          "name": "stdout",
          "text": [
            "{1: (178, 145, 457, 218)}\n",
            "/content/drive/MyDrive/parallel_dots/CMU10_3D/CMU10_3D/data_2D/can_soymilk_000046.jpg /content/drive/MyDrive/parallel_dots/CMU10_3D/CMU10_3D/data_2D/can_soymilk_000046_1_gt.png\n"
          ]
        },
        {
          "output_type": "stream",
          "name": "stderr",
          "text": [
            "frame loading (JPEG): 100%|██████████| 2/2 [00:00<00:00, 20.90it/s]\n",
            "propagate in video: 100%|██████████| 2/2 [00:00<00:00,  2.15it/s]\n"
          ]
        },
        {
          "output_type": "stream",
          "name": "stdout",
          "text": [
            "{1: (438, 102, 508, 226)}\n",
            "/content/drive/MyDrive/parallel_dots/CMU10_3D/CMU10_3D/data_2D/can_soymilk_000015.jpg /content/drive/MyDrive/parallel_dots/CMU10_3D/CMU10_3D/data_2D/can_soymilk_000015_1_gt.png\n"
          ]
        },
        {
          "output_type": "stream",
          "name": "stderr",
          "text": [
            "frame loading (JPEG): 100%|██████████| 2/2 [00:00<00:00, 32.95it/s]\n",
            "propagate in video: 100%|██████████| 2/2 [00:00<00:00,  2.15it/s]\n"
          ]
        },
        {
          "output_type": "stream",
          "name": "stdout",
          "text": [
            "{1: (438, 102, 508, 226)}\n",
            "/content/drive/MyDrive/parallel_dots/CMU10_3D/CMU10_3D/data_2D/can_soymilk_000007.jpg /content/drive/MyDrive/parallel_dots/CMU10_3D/CMU10_3D/data_2D/can_soymilk_000007_1_gt.png\n"
          ]
        },
        {
          "output_type": "stream",
          "name": "stderr",
          "text": [
            "frame loading (JPEG): 100%|██████████| 2/2 [00:00<00:00, 31.37it/s]\n",
            "propagate in video: 100%|██████████| 2/2 [00:00<00:00,  2.15it/s]\n"
          ]
        },
        {
          "output_type": "stream",
          "name": "stdout",
          "text": [
            "{1: (438, 102, 508, 226)}\n",
            "/content/drive/MyDrive/parallel_dots/CMU10_3D/CMU10_3D/data_2D/can_soymilk_000012.jpg /content/drive/MyDrive/parallel_dots/CMU10_3D/CMU10_3D/data_2D/can_soymilk_000012_1_gt.png\n"
          ]
        },
        {
          "output_type": "stream",
          "name": "stderr",
          "text": [
            "frame loading (JPEG): 100%|██████████| 2/2 [00:00<00:00, 33.82it/s]\n",
            "propagate in video: 100%|██████████| 2/2 [00:00<00:00,  2.14it/s]\n"
          ]
        },
        {
          "output_type": "stream",
          "name": "stdout",
          "text": [
            "{1: (438, 102, 508, 226)}\n",
            "/content/drive/MyDrive/parallel_dots/CMU10_3D/CMU10_3D/data_2D/can_soymilk_000008.jpg /content/drive/MyDrive/parallel_dots/CMU10_3D/CMU10_3D/data_2D/can_soymilk_000008_1_gt.png\n"
          ]
        },
        {
          "output_type": "stream",
          "name": "stderr",
          "text": [
            "frame loading (JPEG): 100%|██████████| 2/2 [00:00<00:00, 28.30it/s]\n",
            "propagate in video: 100%|██████████| 2/2 [00:00<00:00,  2.14it/s]\n"
          ]
        },
        {
          "output_type": "stream",
          "name": "stdout",
          "text": [
            "{1: (434, 153, 491, 268)}\n",
            "/content/drive/MyDrive/parallel_dots/CMU10_3D/CMU10_3D/data_2D/can_soymilk_000043.jpg /content/drive/MyDrive/parallel_dots/CMU10_3D/CMU10_3D/data_2D/can_soymilk_000043_1_gt.png\n"
          ]
        },
        {
          "output_type": "stream",
          "name": "stderr",
          "text": [
            "frame loading (JPEG): 100%|██████████| 2/2 [00:00<00:00, 32.96it/s]\n",
            "propagate in video: 100%|██████████| 2/2 [00:00<00:00,  2.15it/s]\n"
          ]
        },
        {
          "output_type": "stream",
          "name": "stdout",
          "text": [
            "{1: (438, 102, 508, 226)}\n",
            "/content/drive/MyDrive/parallel_dots/CMU10_3D/CMU10_3D/data_2D/can_soymilk_000039.jpg /content/drive/MyDrive/parallel_dots/CMU10_3D/CMU10_3D/data_2D/can_soymilk_000039_1_gt.png\n"
          ]
        },
        {
          "output_type": "stream",
          "name": "stderr",
          "text": [
            "frame loading (JPEG): 100%|██████████| 2/2 [00:00<00:00, 21.20it/s]\n",
            "propagate in video: 100%|██████████| 2/2 [00:00<00:00,  2.15it/s]\n"
          ]
        },
        {
          "output_type": "stream",
          "name": "stdout",
          "text": [
            "{1: (438, 102, 508, 226)}\n",
            "Performance for can_soymilk: {'mean_iou': 0.34217088830525144, 'precision': 0.34, 'recall': 0.34}\n",
            "/content/drive/MyDrive/parallel_dots/CMU10_3D/CMU10_3D/data_2D/can_tomatosoup_000011.jpg /content/drive/MyDrive/parallel_dots/CMU10_3D/CMU10_3D/data_2D/can_tomatosoup_000011_1_gt.png\n"
          ]
        },
        {
          "output_type": "stream",
          "name": "stderr",
          "text": [
            "frame loading (JPEG): 100%|██████████| 2/2 [00:00<00:00, 19.83it/s]\n",
            "propagate in video: 100%|██████████| 2/2 [00:00<00:00,  2.15it/s]\n"
          ]
        },
        {
          "output_type": "stream",
          "name": "stdout",
          "text": [
            "{1: (47, 12, 168, 169)}\n",
            "/content/drive/MyDrive/parallel_dots/CMU10_3D/CMU10_3D/data_2D/can_tomatosoup_000022.jpg /content/drive/MyDrive/parallel_dots/CMU10_3D/CMU10_3D/data_2D/can_tomatosoup_000022_1_gt.png\n"
          ]
        },
        {
          "output_type": "stream",
          "name": "stderr",
          "text": [
            "frame loading (JPEG): 100%|██████████| 2/2 [00:00<00:00, 31.58it/s]\n",
            "propagate in video: 100%|██████████| 2/2 [00:00<00:00,  2.13it/s]\n"
          ]
        },
        {
          "output_type": "stream",
          "name": "stdout",
          "text": [
            "{1: (128, 135, 202, 239)}\n",
            "/content/drive/MyDrive/parallel_dots/CMU10_3D/CMU10_3D/data_2D/can_tomatosoup_000030.jpg /content/drive/MyDrive/parallel_dots/CMU10_3D/CMU10_3D/data_2D/can_tomatosoup_000030_1_gt.png\n"
          ]
        },
        {
          "output_type": "stream",
          "name": "stderr",
          "text": [
            "frame loading (JPEG): 100%|██████████| 2/2 [00:00<00:00, 32.25it/s]\n",
            "propagate in video: 100%|██████████| 2/2 [00:00<00:00,  2.13it/s]\n"
          ]
        },
        {
          "output_type": "stream",
          "name": "stdout",
          "text": [
            "{1: (128, 135, 202, 239)}\n",
            "/content/drive/MyDrive/parallel_dots/CMU10_3D/CMU10_3D/data_2D/can_tomatosoup_000045.jpg /content/drive/MyDrive/parallel_dots/CMU10_3D/CMU10_3D/data_2D/can_tomatosoup_000045_1_gt.png\n"
          ]
        },
        {
          "output_type": "stream",
          "name": "stderr",
          "text": [
            "frame loading (JPEG): 100%|██████████| 2/2 [00:00<00:00, 31.27it/s]\n",
            "propagate in video: 100%|██████████| 2/2 [00:00<00:00,  2.14it/s]\n"
          ]
        },
        {
          "output_type": "stream",
          "name": "stdout",
          "text": [
            "{1: (128, 135, 202, 239)}\n",
            "/content/drive/MyDrive/parallel_dots/CMU10_3D/CMU10_3D/data_2D/can_tomatosoup_000028.jpg /content/drive/MyDrive/parallel_dots/CMU10_3D/CMU10_3D/data_2D/can_tomatosoup_000028_1_gt.png\n"
          ]
        },
        {
          "output_type": "stream",
          "name": "stderr",
          "text": [
            "frame loading (JPEG): 100%|██████████| 2/2 [00:00<00:00, 32.57it/s]\n",
            "propagate in video: 100%|██████████| 2/2 [00:00<00:00,  2.17it/s]\n"
          ]
        },
        {
          "output_type": "stream",
          "name": "stdout",
          "text": [
            "{1: (128, 135, 202, 239)}\n",
            "/content/drive/MyDrive/parallel_dots/CMU10_3D/CMU10_3D/data_2D/can_tomatosoup_000035.jpg /content/drive/MyDrive/parallel_dots/CMU10_3D/CMU10_3D/data_2D/can_tomatosoup_000035_1_gt.png\n"
          ]
        },
        {
          "output_type": "stream",
          "name": "stderr",
          "text": [
            "frame loading (JPEG): 100%|██████████| 2/2 [00:00<00:00, 31.95it/s]\n",
            "propagate in video: 100%|██████████| 2/2 [00:00<00:00,  2.15it/s]\n"
          ]
        },
        {
          "output_type": "stream",
          "name": "stdout",
          "text": [
            "{1: (233, 168, 324, 312)}\n",
            "/content/drive/MyDrive/parallel_dots/CMU10_3D/CMU10_3D/data_2D/can_tomatosoup_000041.jpg /content/drive/MyDrive/parallel_dots/CMU10_3D/CMU10_3D/data_2D/can_tomatosoup_000041_1_gt.png\n"
          ]
        },
        {
          "output_type": "stream",
          "name": "stderr",
          "text": [
            "frame loading (JPEG): 100%|██████████| 2/2 [00:00<00:00, 31.63it/s]\n",
            "propagate in video: 100%|██████████| 2/2 [00:00<00:00,  2.15it/s]\n"
          ]
        },
        {
          "output_type": "stream",
          "name": "stdout",
          "text": [
            "{1: (128, 135, 202, 239)}\n",
            "/content/drive/MyDrive/parallel_dots/CMU10_3D/CMU10_3D/data_2D/can_tomatosoup_000048.jpg /content/drive/MyDrive/parallel_dots/CMU10_3D/CMU10_3D/data_2D/can_tomatosoup_000048_1_gt.png\n"
          ]
        },
        {
          "output_type": "stream",
          "name": "stderr",
          "text": [
            "frame loading (JPEG): 100%|██████████| 2/2 [00:00<00:00, 30.49it/s]\n",
            "propagate in video: 100%|██████████| 2/2 [00:00<00:00,  2.15it/s]\n"
          ]
        },
        {
          "output_type": "stream",
          "name": "stdout",
          "text": [
            "{1: (330, 220, 523, 375)}\n",
            "/content/drive/MyDrive/parallel_dots/CMU10_3D/CMU10_3D/data_2D/can_tomatosoup_000002.jpg /content/drive/MyDrive/parallel_dots/CMU10_3D/CMU10_3D/data_2D/can_tomatosoup_000002_1_gt.png\n"
          ]
        },
        {
          "output_type": "stream",
          "name": "stderr",
          "text": [
            "frame loading (JPEG): 100%|██████████| 2/2 [00:00<00:00, 32.71it/s]\n",
            "propagate in video: 100%|██████████| 2/2 [00:00<00:00,  2.16it/s]\n"
          ]
        },
        {
          "output_type": "stream",
          "name": "stdout",
          "text": [
            "{1: (170, 131, 232, 224)}\n",
            "/content/drive/MyDrive/parallel_dots/CMU10_3D/CMU10_3D/data_2D/can_tomatosoup_000036.jpg /content/drive/MyDrive/parallel_dots/CMU10_3D/CMU10_3D/data_2D/can_tomatosoup_000036_1_gt.png\n"
          ]
        },
        {
          "output_type": "stream",
          "name": "stderr",
          "text": [
            "frame loading (JPEG): 100%|██████████| 2/2 [00:00<00:00, 20.89it/s]\n",
            "propagate in video: 100%|██████████| 2/2 [00:00<00:00,  2.17it/s]\n"
          ]
        },
        {
          "output_type": "stream",
          "name": "stdout",
          "text": [
            "{1: (128, 135, 202, 239)}\n",
            "/content/drive/MyDrive/parallel_dots/CMU10_3D/CMU10_3D/data_2D/can_tomatosoup_000024.jpg /content/drive/MyDrive/parallel_dots/CMU10_3D/CMU10_3D/data_2D/can_tomatosoup_000024_1_gt.png\n"
          ]
        },
        {
          "output_type": "stream",
          "name": "stderr",
          "text": [
            "frame loading (JPEG): 100%|██████████| 2/2 [00:00<00:00, 30.71it/s]\n",
            "propagate in video: 100%|██████████| 2/2 [00:00<00:00,  2.15it/s]\n"
          ]
        },
        {
          "output_type": "stream",
          "name": "stdout",
          "text": [
            "{1: (235, 83, 304, 206)}\n",
            "/content/drive/MyDrive/parallel_dots/CMU10_3D/CMU10_3D/data_2D/can_tomatosoup_000015.jpg /content/drive/MyDrive/parallel_dots/CMU10_3D/CMU10_3D/data_2D/can_tomatosoup_000015_1_gt.png\n"
          ]
        },
        {
          "output_type": "stream",
          "name": "stderr",
          "text": [
            "frame loading (JPEG): 100%|██████████| 2/2 [00:00<00:00, 31.06it/s]\n",
            "propagate in video: 100%|██████████| 2/2 [00:00<00:00,  2.16it/s]\n"
          ]
        },
        {
          "output_type": "stream",
          "name": "stdout",
          "text": [
            "{1: (128, 135, 202, 239)}\n",
            "/content/drive/MyDrive/parallel_dots/CMU10_3D/CMU10_3D/data_2D/can_tomatosoup_000047.jpg /content/drive/MyDrive/parallel_dots/CMU10_3D/CMU10_3D/data_2D/can_tomatosoup_000047_1_gt.png\n"
          ]
        },
        {
          "output_type": "stream",
          "name": "stderr",
          "text": [
            "frame loading (JPEG): 100%|██████████| 2/2 [00:00<00:00, 32.33it/s]\n",
            "propagate in video: 100%|██████████| 2/2 [00:00<00:00,  2.15it/s]\n"
          ]
        },
        {
          "output_type": "stream",
          "name": "stdout",
          "text": [
            "{1: (128, 135, 202, 239)}\n",
            "/content/drive/MyDrive/parallel_dots/CMU10_3D/CMU10_3D/data_2D/can_tomatosoup_000042.jpg /content/drive/MyDrive/parallel_dots/CMU10_3D/CMU10_3D/data_2D/can_tomatosoup_000042_1_gt.png\n"
          ]
        },
        {
          "output_type": "stream",
          "name": "stderr",
          "text": [
            "frame loading (JPEG): 100%|██████████| 2/2 [00:00<00:00, 32.03it/s]\n",
            "propagate in video: 100%|██████████| 2/2 [00:00<00:00,  2.14it/s]\n"
          ]
        },
        {
          "output_type": "stream",
          "name": "stdout",
          "text": [
            "{1: (128, 135, 202, 239)}\n",
            "/content/drive/MyDrive/parallel_dots/CMU10_3D/CMU10_3D/data_2D/can_tomatosoup_000006.jpg /content/drive/MyDrive/parallel_dots/CMU10_3D/CMU10_3D/data_2D/can_tomatosoup_000006_1_gt.png\n"
          ]
        },
        {
          "output_type": "stream",
          "name": "stderr",
          "text": [
            "frame loading (JPEG): 100%|██████████| 2/2 [00:00<00:00, 31.74it/s]\n",
            "propagate in video: 100%|██████████| 2/2 [00:00<00:00,  2.14it/s]\n"
          ]
        },
        {
          "output_type": "stream",
          "name": "stdout",
          "text": [
            "{1: (441, 26, 510, 134)}\n",
            "/content/drive/MyDrive/parallel_dots/CMU10_3D/CMU10_3D/data_2D/can_tomatosoup_000038.jpg /content/drive/MyDrive/parallel_dots/CMU10_3D/CMU10_3D/data_2D/can_tomatosoup_000038_1_gt.png\n"
          ]
        },
        {
          "output_type": "stream",
          "name": "stderr",
          "text": [
            "frame loading (JPEG): 100%|██████████| 2/2 [00:00<00:00, 31.19it/s]\n",
            "propagate in video: 100%|██████████| 2/2 [00:00<00:00,  2.15it/s]\n"
          ]
        },
        {
          "output_type": "stream",
          "name": "stdout",
          "text": [
            "{1: (220, 177, 293, 297)}\n",
            "/content/drive/MyDrive/parallel_dots/CMU10_3D/CMU10_3D/data_2D/can_tomatosoup_000023.jpg /content/drive/MyDrive/parallel_dots/CMU10_3D/CMU10_3D/data_2D/can_tomatosoup_000023_1_gt.png\n"
          ]
        },
        {
          "output_type": "stream",
          "name": "stderr",
          "text": [
            "frame loading (JPEG): 100%|██████████| 2/2 [00:00<00:00, 18.45it/s]\n",
            "propagate in video: 100%|██████████| 2/2 [00:00<00:00,  2.16it/s]\n"
          ]
        },
        {
          "output_type": "stream",
          "name": "stdout",
          "text": [
            "{1: (128, 135, 202, 239)}\n",
            "/content/drive/MyDrive/parallel_dots/CMU10_3D/CMU10_3D/data_2D/can_tomatosoup_000046.jpg /content/drive/MyDrive/parallel_dots/CMU10_3D/CMU10_3D/data_2D/can_tomatosoup_000046_1_gt.png\n"
          ]
        },
        {
          "output_type": "stream",
          "name": "stderr",
          "text": [
            "frame loading (JPEG): 100%|██████████| 2/2 [00:00<00:00, 31.57it/s]\n",
            "propagate in video: 100%|██████████| 2/2 [00:00<00:00,  2.15it/s]\n"
          ]
        },
        {
          "output_type": "stream",
          "name": "stdout",
          "text": [
            "{1: (128, 135, 202, 239)}\n",
            "/content/drive/MyDrive/parallel_dots/CMU10_3D/CMU10_3D/data_2D/can_tomatosoup_000021.jpg /content/drive/MyDrive/parallel_dots/CMU10_3D/CMU10_3D/data_2D/can_tomatosoup_000021_1_gt.png\n"
          ]
        },
        {
          "output_type": "stream",
          "name": "stderr",
          "text": [
            "frame loading (JPEG): 100%|██████████| 2/2 [00:00<00:00, 33.15it/s]\n",
            "propagate in video: 100%|██████████| 2/2 [00:00<00:00,  2.14it/s]\n"
          ]
        },
        {
          "output_type": "stream",
          "name": "stdout",
          "text": [
            "{1: (128, 135, 202, 239)}\n",
            "/content/drive/MyDrive/parallel_dots/CMU10_3D/CMU10_3D/data_2D/can_tomatosoup_000010.jpg /content/drive/MyDrive/parallel_dots/CMU10_3D/CMU10_3D/data_2D/can_tomatosoup_000010_1_gt.png\n"
          ]
        },
        {
          "output_type": "stream",
          "name": "stderr",
          "text": [
            "frame loading (JPEG): 100%|██████████| 2/2 [00:00<00:00, 29.51it/s]\n",
            "propagate in video: 100%|██████████| 2/2 [00:00<00:00,  2.14it/s]\n"
          ]
        },
        {
          "output_type": "stream",
          "name": "stdout",
          "text": [
            "{1: (128, 135, 202, 239)}\n",
            "/content/drive/MyDrive/parallel_dots/CMU10_3D/CMU10_3D/data_2D/can_tomatosoup_000043.jpg /content/drive/MyDrive/parallel_dots/CMU10_3D/CMU10_3D/data_2D/can_tomatosoup_000043_1_gt.png\n"
          ]
        },
        {
          "output_type": "stream",
          "name": "stderr",
          "text": [
            "frame loading (JPEG): 100%|██████████| 2/2 [00:00<00:00, 31.88it/s]\n",
            "propagate in video: 100%|██████████| 2/2 [00:00<00:00,  2.14it/s]\n"
          ]
        },
        {
          "output_type": "stream",
          "name": "stdout",
          "text": [
            "{1: (128, 135, 202, 239)}\n",
            "/content/drive/MyDrive/parallel_dots/CMU10_3D/CMU10_3D/data_2D/can_tomatosoup_000008.jpg /content/drive/MyDrive/parallel_dots/CMU10_3D/CMU10_3D/data_2D/can_tomatosoup_000008_1_gt.png\n"
          ]
        },
        {
          "output_type": "stream",
          "name": "stderr",
          "text": [
            "frame loading (JPEG): 100%|██████████| 2/2 [00:00<00:00, 28.68it/s]\n",
            "propagate in video: 100%|██████████| 2/2 [00:00<00:00,  2.13it/s]\n"
          ]
        },
        {
          "output_type": "stream",
          "name": "stdout",
          "text": [
            "{1: (128, 135, 202, 239)}\n",
            "/content/drive/MyDrive/parallel_dots/CMU10_3D/CMU10_3D/data_2D/can_tomatosoup_000033.jpg /content/drive/MyDrive/parallel_dots/CMU10_3D/CMU10_3D/data_2D/can_tomatosoup_000033_1_gt.png\n"
          ]
        },
        {
          "output_type": "stream",
          "name": "stderr",
          "text": [
            "frame loading (JPEG): 100%|██████████| 2/2 [00:00<00:00, 31.59it/s]\n",
            "propagate in video: 100%|██████████| 2/2 [00:00<00:00,  2.13it/s]\n"
          ]
        },
        {
          "output_type": "stream",
          "name": "stdout",
          "text": [
            "{1: (128, 135, 202, 239)}\n",
            "/content/drive/MyDrive/parallel_dots/CMU10_3D/CMU10_3D/data_2D/can_tomatosoup_000005.jpg /content/drive/MyDrive/parallel_dots/CMU10_3D/CMU10_3D/data_2D/can_tomatosoup_000005_1_gt.png\n"
          ]
        },
        {
          "output_type": "stream",
          "name": "stderr",
          "text": [
            "frame loading (JPEG): 100%|██████████| 2/2 [00:00<00:00, 20.94it/s]\n",
            "propagate in video: 100%|██████████| 2/2 [00:00<00:00,  2.15it/s]\n"
          ]
        },
        {
          "output_type": "stream",
          "name": "stdout",
          "text": [
            "{1: (128, 135, 202, 239)}\n",
            "/content/drive/MyDrive/parallel_dots/CMU10_3D/CMU10_3D/data_2D/can_tomatosoup_000020.jpg /content/drive/MyDrive/parallel_dots/CMU10_3D/CMU10_3D/data_2D/can_tomatosoup_000020_1_gt.png\n"
          ]
        },
        {
          "output_type": "stream",
          "name": "stderr",
          "text": [
            "frame loading (JPEG): 100%|██████████| 2/2 [00:00<00:00, 31.87it/s]\n",
            "propagate in video: 100%|██████████| 2/2 [00:00<00:00,  2.13it/s]\n"
          ]
        },
        {
          "output_type": "stream",
          "name": "stdout",
          "text": [
            "{1: (392, 207, 451, 300)}\n",
            "/content/drive/MyDrive/parallel_dots/CMU10_3D/CMU10_3D/data_2D/can_tomatosoup_000014.jpg /content/drive/MyDrive/parallel_dots/CMU10_3D/CMU10_3D/data_2D/can_tomatosoup_000014_1_gt.png\n"
          ]
        },
        {
          "output_type": "stream",
          "name": "stderr",
          "text": [
            "frame loading (JPEG): 100%|██████████| 2/2 [00:00<00:00, 32.17it/s]\n",
            "propagate in video: 100%|██████████| 2/2 [00:00<00:00,  2.14it/s]\n"
          ]
        },
        {
          "output_type": "stream",
          "name": "stdout",
          "text": [
            "{1: (128, 135, 202, 239)}\n",
            "/content/drive/MyDrive/parallel_dots/CMU10_3D/CMU10_3D/data_2D/can_tomatosoup_000013.jpg /content/drive/MyDrive/parallel_dots/CMU10_3D/CMU10_3D/data_2D/can_tomatosoup_000013_1_gt.png\n"
          ]
        },
        {
          "output_type": "stream",
          "name": "stderr",
          "text": [
            "frame loading (JPEG): 100%|██████████| 2/2 [00:00<00:00, 30.30it/s]\n",
            "propagate in video: 100%|██████████| 2/2 [00:00<00:00,  2.13it/s]\n"
          ]
        },
        {
          "output_type": "stream",
          "name": "stdout",
          "text": [
            "{1: (128, 135, 202, 239)}\n",
            "/content/drive/MyDrive/parallel_dots/CMU10_3D/CMU10_3D/data_2D/can_tomatosoup_000032.jpg /content/drive/MyDrive/parallel_dots/CMU10_3D/CMU10_3D/data_2D/can_tomatosoup_000032_1_gt.png\n"
          ]
        },
        {
          "output_type": "stream",
          "name": "stderr",
          "text": [
            "frame loading (JPEG): 100%|██████████| 2/2 [00:00<00:00, 28.11it/s]\n",
            "propagate in video: 100%|██████████| 2/2 [00:00<00:00,  2.13it/s]\n"
          ]
        },
        {
          "output_type": "stream",
          "name": "stdout",
          "text": [
            "{1: (128, 135, 202, 239)}\n",
            "/content/drive/MyDrive/parallel_dots/CMU10_3D/CMU10_3D/data_2D/can_tomatosoup_000025.jpg /content/drive/MyDrive/parallel_dots/CMU10_3D/CMU10_3D/data_2D/can_tomatosoup_000025_1_gt.png\n"
          ]
        },
        {
          "output_type": "stream",
          "name": "stderr",
          "text": [
            "frame loading (JPEG): 100%|██████████| 2/2 [00:00<00:00, 31.80it/s]\n",
            "propagate in video: 100%|██████████| 2/2 [00:00<00:00,  2.14it/s]\n"
          ]
        },
        {
          "output_type": "stream",
          "name": "stdout",
          "text": [
            "{1: (234, 218, 310, 345)}\n",
            "/content/drive/MyDrive/parallel_dots/CMU10_3D/CMU10_3D/data_2D/can_tomatosoup_000039.jpg /content/drive/MyDrive/parallel_dots/CMU10_3D/CMU10_3D/data_2D/can_tomatosoup_000039_1_gt.png\n"
          ]
        },
        {
          "output_type": "stream",
          "name": "stderr",
          "text": [
            "frame loading (JPEG): 100%|██████████| 2/2 [00:00<00:00, 21.59it/s]\n",
            "propagate in video: 100%|██████████| 2/2 [00:00<00:00,  2.14it/s]\n"
          ]
        },
        {
          "output_type": "stream",
          "name": "stdout",
          "text": [
            "{1: (128, 135, 202, 239)}\n",
            "/content/drive/MyDrive/parallel_dots/CMU10_3D/CMU10_3D/data_2D/can_tomatosoup_000017.jpg /content/drive/MyDrive/parallel_dots/CMU10_3D/CMU10_3D/data_2D/can_tomatosoup_000017_1_gt.png\n"
          ]
        },
        {
          "output_type": "stream",
          "name": "stderr",
          "text": [
            "frame loading (JPEG): 100%|██████████| 2/2 [00:00<00:00, 21.33it/s]\n",
            "propagate in video: 100%|██████████| 2/2 [00:00<00:00,  2.15it/s]\n"
          ]
        },
        {
          "output_type": "stream",
          "name": "stdout",
          "text": [
            "{1: (128, 135, 202, 239)}\n",
            "/content/drive/MyDrive/parallel_dots/CMU10_3D/CMU10_3D/data_2D/can_tomatosoup_000004.jpg /content/drive/MyDrive/parallel_dots/CMU10_3D/CMU10_3D/data_2D/can_tomatosoup_000004_1_gt.png\n"
          ]
        },
        {
          "output_type": "stream",
          "name": "stderr",
          "text": [
            "frame loading (JPEG): 100%|██████████| 2/2 [00:00<00:00, 31.46it/s]\n",
            "propagate in video: 100%|██████████| 2/2 [00:00<00:00,  2.14it/s]\n"
          ]
        },
        {
          "output_type": "stream",
          "name": "stdout",
          "text": [
            "{1: (128, 135, 202, 239)}\n",
            "/content/drive/MyDrive/parallel_dots/CMU10_3D/CMU10_3D/data_2D/can_tomatosoup_000037.jpg /content/drive/MyDrive/parallel_dots/CMU10_3D/CMU10_3D/data_2D/can_tomatosoup_000037_1_gt.png\n"
          ]
        },
        {
          "output_type": "stream",
          "name": "stderr",
          "text": [
            "frame loading (JPEG): 100%|██████████| 2/2 [00:00<00:00, 30.83it/s]\n",
            "propagate in video: 100%|██████████| 2/2 [00:00<00:00,  2.13it/s]\n"
          ]
        },
        {
          "output_type": "stream",
          "name": "stdout",
          "text": [
            "{1: (128, 135, 202, 239)}\n",
            "/content/drive/MyDrive/parallel_dots/CMU10_3D/CMU10_3D/data_2D/can_tomatosoup_000007.jpg /content/drive/MyDrive/parallel_dots/CMU10_3D/CMU10_3D/data_2D/can_tomatosoup_000007_1_gt.png\n"
          ]
        },
        {
          "output_type": "stream",
          "name": "stderr",
          "text": [
            "frame loading (JPEG): 100%|██████████| 2/2 [00:00<00:00, 30.23it/s]\n",
            "propagate in video: 100%|██████████| 2/2 [00:00<00:00,  2.12it/s]\n"
          ]
        },
        {
          "output_type": "stream",
          "name": "stdout",
          "text": [
            "{1: (374, 8, 441, 122)}\n",
            "/content/drive/MyDrive/parallel_dots/CMU10_3D/CMU10_3D/data_2D/can_tomatosoup_000034.jpg /content/drive/MyDrive/parallel_dots/CMU10_3D/CMU10_3D/data_2D/can_tomatosoup_000034_1_gt.png\n"
          ]
        },
        {
          "output_type": "stream",
          "name": "stderr",
          "text": [
            "frame loading (JPEG): 100%|██████████| 2/2 [00:00<00:00, 29.29it/s]\n",
            "propagate in video: 100%|██████████| 2/2 [00:00<00:00,  2.12it/s]\n"
          ]
        },
        {
          "output_type": "stream",
          "name": "stdout",
          "text": [
            "{1: (128, 135, 202, 239)}\n",
            "/content/drive/MyDrive/parallel_dots/CMU10_3D/CMU10_3D/data_2D/can_tomatosoup_000040.jpg /content/drive/MyDrive/parallel_dots/CMU10_3D/CMU10_3D/data_2D/can_tomatosoup_000040_1_gt.png\n"
          ]
        },
        {
          "output_type": "stream",
          "name": "stderr",
          "text": [
            "frame loading (JPEG): 100%|██████████| 2/2 [00:00<00:00, 29.21it/s]\n",
            "propagate in video: 100%|██████████| 2/2 [00:00<00:00,  2.13it/s]\n"
          ]
        },
        {
          "output_type": "stream",
          "name": "stdout",
          "text": [
            "{1: (128, 135, 202, 239)}\n",
            "/content/drive/MyDrive/parallel_dots/CMU10_3D/CMU10_3D/data_2D/can_tomatosoup_000016.jpg /content/drive/MyDrive/parallel_dots/CMU10_3D/CMU10_3D/data_2D/can_tomatosoup_000016_1_gt.png\n"
          ]
        },
        {
          "output_type": "stream",
          "name": "stderr",
          "text": [
            "frame loading (JPEG): 100%|██████████| 2/2 [00:00<00:00, 21.88it/s]\n",
            "propagate in video: 100%|██████████| 2/2 [00:00<00:00,  2.14it/s]\n"
          ]
        },
        {
          "output_type": "stream",
          "name": "stdout",
          "text": [
            "{1: (285, 189, 363, 315)}\n",
            "/content/drive/MyDrive/parallel_dots/CMU10_3D/CMU10_3D/data_2D/can_tomatosoup_000049.jpg /content/drive/MyDrive/parallel_dots/CMU10_3D/CMU10_3D/data_2D/can_tomatosoup_000049_1_gt.png\n"
          ]
        },
        {
          "output_type": "stream",
          "name": "stderr",
          "text": [
            "frame loading (JPEG): 100%|██████████| 2/2 [00:00<00:00, 19.20it/s]\n",
            "propagate in video: 100%|██████████| 2/2 [00:00<00:00,  2.15it/s]\n"
          ]
        },
        {
          "output_type": "stream",
          "name": "stdout",
          "text": [
            "{1: (128, 135, 202, 239)}\n",
            "/content/drive/MyDrive/parallel_dots/CMU10_3D/CMU10_3D/data_2D/can_tomatosoup_000026.jpg /content/drive/MyDrive/parallel_dots/CMU10_3D/CMU10_3D/data_2D/can_tomatosoup_000026_1_gt.png\n"
          ]
        },
        {
          "output_type": "stream",
          "name": "stderr",
          "text": [
            "frame loading (JPEG): 100%|██████████| 2/2 [00:00<00:00, 29.07it/s]\n",
            "propagate in video: 100%|██████████| 2/2 [00:00<00:00,  2.14it/s]\n"
          ]
        },
        {
          "output_type": "stream",
          "name": "stdout",
          "text": [
            "{1: (128, 135, 202, 239)}\n",
            "/content/drive/MyDrive/parallel_dots/CMU10_3D/CMU10_3D/data_2D/can_tomatosoup_000031.jpg /content/drive/MyDrive/parallel_dots/CMU10_3D/CMU10_3D/data_2D/can_tomatosoup_000031_1_gt.png\n"
          ]
        },
        {
          "output_type": "stream",
          "name": "stderr",
          "text": [
            "frame loading (JPEG): 100%|██████████| 2/2 [00:00<00:00, 32.00it/s]\n",
            "propagate in video: 100%|██████████| 2/2 [00:00<00:00,  2.13it/s]\n"
          ]
        },
        {
          "output_type": "stream",
          "name": "stdout",
          "text": [
            "{1: (268, 225, 331, 351)}\n",
            "/content/drive/MyDrive/parallel_dots/CMU10_3D/CMU10_3D/data_2D/can_tomatosoup_000009.jpg /content/drive/MyDrive/parallel_dots/CMU10_3D/CMU10_3D/data_2D/can_tomatosoup_000009_1_gt.png\n"
          ]
        },
        {
          "output_type": "stream",
          "name": "stderr",
          "text": [
            "frame loading (JPEG): 100%|██████████| 2/2 [00:00<00:00, 27.24it/s]\n",
            "propagate in video: 100%|██████████| 2/2 [00:00<00:00,  2.13it/s]\n"
          ]
        },
        {
          "output_type": "stream",
          "name": "stdout",
          "text": [
            "{1: (128, 135, 202, 239)}\n",
            "/content/drive/MyDrive/parallel_dots/CMU10_3D/CMU10_3D/data_2D/can_tomatosoup_000044.jpg /content/drive/MyDrive/parallel_dots/CMU10_3D/CMU10_3D/data_2D/can_tomatosoup_000044_1_gt.png\n"
          ]
        },
        {
          "output_type": "stream",
          "name": "stderr",
          "text": [
            "frame loading (JPEG): 100%|██████████| 2/2 [00:00<00:00, 30.90it/s]\n",
            "propagate in video: 100%|██████████| 2/2 [00:00<00:00,  2.13it/s]\n"
          ]
        },
        {
          "output_type": "stream",
          "name": "stdout",
          "text": [
            "{1: (128, 135, 202, 239)}\n",
            "/content/drive/MyDrive/parallel_dots/CMU10_3D/CMU10_3D/data_2D/can_tomatosoup_000029.jpg /content/drive/MyDrive/parallel_dots/CMU10_3D/CMU10_3D/data_2D/can_tomatosoup_000029_1_gt.png\n"
          ]
        },
        {
          "output_type": "stream",
          "name": "stderr",
          "text": [
            "frame loading (JPEG): 100%|██████████| 2/2 [00:00<00:00, 30.89it/s]\n",
            "propagate in video: 100%|██████████| 2/2 [00:00<00:00,  2.12it/s]\n"
          ]
        },
        {
          "output_type": "stream",
          "name": "stdout",
          "text": [
            "{1: (128, 135, 202, 239)}\n",
            "/content/drive/MyDrive/parallel_dots/CMU10_3D/CMU10_3D/data_2D/can_tomatosoup_000027.jpg /content/drive/MyDrive/parallel_dots/CMU10_3D/CMU10_3D/data_2D/can_tomatosoup_000027_1_gt.png\n"
          ]
        },
        {
          "output_type": "stream",
          "name": "stderr",
          "text": [
            "frame loading (JPEG): 100%|██████████| 2/2 [00:00<00:00, 19.12it/s]\n",
            "propagate in video: 100%|██████████| 2/2 [00:00<00:00,  2.14it/s]\n"
          ]
        },
        {
          "output_type": "stream",
          "name": "stdout",
          "text": [
            "{1: (128, 135, 202, 239)}\n",
            "/content/drive/MyDrive/parallel_dots/CMU10_3D/CMU10_3D/data_2D/can_tomatosoup_000050.jpg /content/drive/MyDrive/parallel_dots/CMU10_3D/CMU10_3D/data_2D/can_tomatosoup_000050_1_gt.png\n"
          ]
        },
        {
          "output_type": "stream",
          "name": "stderr",
          "text": [
            "frame loading (JPEG): 100%|██████████| 2/2 [00:00<00:00, 20.22it/s]\n",
            "propagate in video: 100%|██████████| 2/2 [00:00<00:00,  2.15it/s]\n"
          ]
        },
        {
          "output_type": "stream",
          "name": "stdout",
          "text": [
            "{1: (128, 135, 202, 239)}\n",
            "/content/drive/MyDrive/parallel_dots/CMU10_3D/CMU10_3D/data_2D/can_tomatosoup_000019.jpg /content/drive/MyDrive/parallel_dots/CMU10_3D/CMU10_3D/data_2D/can_tomatosoup_000019_1_gt.png\n"
          ]
        },
        {
          "output_type": "stream",
          "name": "stderr",
          "text": [
            "frame loading (JPEG): 100%|██████████| 2/2 [00:00<00:00, 20.34it/s]\n",
            "propagate in video: 100%|██████████| 2/2 [00:00<00:00,  2.12it/s]\n"
          ]
        },
        {
          "output_type": "stream",
          "name": "stdout",
          "text": [
            "{1: (128, 135, 202, 239)}\n",
            "/content/drive/MyDrive/parallel_dots/CMU10_3D/CMU10_3D/data_2D/can_tomatosoup_000001.jpg /content/drive/MyDrive/parallel_dots/CMU10_3D/CMU10_3D/data_2D/can_tomatosoup_000001_1_gt.png\n"
          ]
        },
        {
          "output_type": "stream",
          "name": "stderr",
          "text": [
            "frame loading (JPEG): 100%|██████████| 2/2 [00:00<00:00, 20.07it/s]\n",
            "propagate in video: 100%|██████████| 2/2 [00:00<00:00,  2.13it/s]\n"
          ]
        },
        {
          "output_type": "stream",
          "name": "stdout",
          "text": [
            "{1: (128, 135, 202, 239)}\n",
            "/content/drive/MyDrive/parallel_dots/CMU10_3D/CMU10_3D/data_2D/can_tomatosoup_000018.jpg /content/drive/MyDrive/parallel_dots/CMU10_3D/CMU10_3D/data_2D/can_tomatosoup_000018_1_gt.png\n"
          ]
        },
        {
          "output_type": "stream",
          "name": "stderr",
          "text": [
            "frame loading (JPEG): 100%|██████████| 2/2 [00:00<00:00, 31.92it/s]\n",
            "propagate in video: 100%|██████████| 2/2 [00:00<00:00,  2.13it/s]\n"
          ]
        },
        {
          "output_type": "stream",
          "name": "stdout",
          "text": [
            "{1: (194, 167, 281, 312)}\n",
            "/content/drive/MyDrive/parallel_dots/CMU10_3D/CMU10_3D/data_2D/can_tomatosoup_000003.jpg /content/drive/MyDrive/parallel_dots/CMU10_3D/CMU10_3D/data_2D/can_tomatosoup_000003_1_gt.png\n"
          ]
        },
        {
          "output_type": "stream",
          "name": "stderr",
          "text": [
            "frame loading (JPEG): 100%|██████████| 2/2 [00:00<00:00, 32.87it/s]\n",
            "propagate in video: 100%|██████████| 2/2 [00:00<00:00,  2.13it/s]\n"
          ]
        },
        {
          "output_type": "stream",
          "name": "stdout",
          "text": [
            "{1: (128, 135, 202, 239)}\n",
            "/content/drive/MyDrive/parallel_dots/CMU10_3D/CMU10_3D/data_2D/can_tomatosoup_000012.jpg /content/drive/MyDrive/parallel_dots/CMU10_3D/CMU10_3D/data_2D/can_tomatosoup_000012_1_gt.png\n"
          ]
        },
        {
          "output_type": "stream",
          "name": "stderr",
          "text": [
            "frame loading (JPEG): 100%|██████████| 2/2 [00:00<00:00, 29.67it/s]\n",
            "propagate in video: 100%|██████████| 2/2 [00:00<00:00,  2.13it/s]\n"
          ]
        },
        {
          "output_type": "stream",
          "name": "stdout",
          "text": [
            "{1: (128, 135, 202, 239)}\n",
            "Performance for can_tomatosoup: {'mean_iou': 0.29593599595804176, 'precision': 0.28, 'recall': 0.28}\n",
            "/content/drive/MyDrive/parallel_dots/CMU10_3D/CMU10_3D/data_2D/carton_oj_000048.jpg /content/drive/MyDrive/parallel_dots/CMU10_3D/CMU10_3D/data_2D/carton_oj_000048_1_gt.png\n"
          ]
        },
        {
          "output_type": "stream",
          "name": "stderr",
          "text": [
            "frame loading (JPEG): 100%|██████████| 2/2 [00:00<00:00, 18.62it/s]\n",
            "propagate in video: 100%|██████████| 2/2 [00:00<00:00,  2.14it/s]\n"
          ]
        },
        {
          "output_type": "stream",
          "name": "stdout",
          "text": [
            "{1: (120, 80, 224, 270)}\n",
            "/content/drive/MyDrive/parallel_dots/CMU10_3D/CMU10_3D/data_2D/carton_oj_000028.jpg /content/drive/MyDrive/parallel_dots/CMU10_3D/CMU10_3D/data_2D/carton_oj_000028_1_gt.png\n"
          ]
        },
        {
          "output_type": "stream",
          "name": "stderr",
          "text": [
            "frame loading (JPEG): 100%|██████████| 2/2 [00:00<00:00, 18.79it/s]\n",
            "propagate in video: 100%|██████████| 2/2 [00:00<00:00,  2.13it/s]\n"
          ]
        },
        {
          "output_type": "stream",
          "name": "stdout",
          "text": [
            "{1: (120, 80, 224, 270)}\n",
            "/content/drive/MyDrive/parallel_dots/CMU10_3D/CMU10_3D/data_2D/carton_oj_000037.jpg /content/drive/MyDrive/parallel_dots/CMU10_3D/CMU10_3D/data_2D/carton_oj_000037_1_gt.png\n"
          ]
        },
        {
          "output_type": "stream",
          "name": "stderr",
          "text": [
            "frame loading (JPEG): 100%|██████████| 2/2 [00:00<00:00, 30.52it/s]\n",
            "propagate in video: 100%|██████████| 2/2 [00:00<00:00,  2.12it/s]\n"
          ]
        },
        {
          "output_type": "stream",
          "name": "stdout",
          "text": [
            "{1: (120, 80, 224, 270)}\n",
            "/content/drive/MyDrive/parallel_dots/CMU10_3D/CMU10_3D/data_2D/carton_oj_000001.jpg /content/drive/MyDrive/parallel_dots/CMU10_3D/CMU10_3D/data_2D/carton_oj_000001_1_gt.png\n"
          ]
        },
        {
          "output_type": "stream",
          "name": "stderr",
          "text": [
            "frame loading (JPEG): 100%|██████████| 2/2 [00:00<00:00, 29.07it/s]\n",
            "propagate in video: 100%|██████████| 2/2 [00:00<00:00,  2.13it/s]\n"
          ]
        },
        {
          "output_type": "stream",
          "name": "stdout",
          "text": [
            "{1: (121, 80, 224, 270)}\n",
            "/content/drive/MyDrive/parallel_dots/CMU10_3D/CMU10_3D/data_2D/carton_oj_000030.jpg /content/drive/MyDrive/parallel_dots/CMU10_3D/CMU10_3D/data_2D/carton_oj_000030_1_gt.png\n"
          ]
        },
        {
          "output_type": "stream",
          "name": "stderr",
          "text": [
            "frame loading (JPEG): 100%|██████████| 2/2 [00:00<00:00, 30.32it/s]\n",
            "propagate in video: 100%|██████████| 2/2 [00:00<00:00,  2.13it/s]\n"
          ]
        },
        {
          "output_type": "stream",
          "name": "stdout",
          "text": [
            "{1: (114, 104, 283, 395)}\n",
            "/content/drive/MyDrive/parallel_dots/CMU10_3D/CMU10_3D/data_2D/carton_oj_000003.jpg /content/drive/MyDrive/parallel_dots/CMU10_3D/CMU10_3D/data_2D/carton_oj_000003_1_gt.png\n"
          ]
        },
        {
          "output_type": "stream",
          "name": "stderr",
          "text": [
            "frame loading (JPEG): 100%|██████████| 2/2 [00:00<00:00, 30.08it/s]\n",
            "propagate in video: 100%|██████████| 2/2 [00:00<00:00,  2.13it/s]\n"
          ]
        },
        {
          "output_type": "stream",
          "name": "stdout",
          "text": [
            "{1: (120, 80, 224, 270)}\n",
            "/content/drive/MyDrive/parallel_dots/CMU10_3D/CMU10_3D/data_2D/carton_oj_000050.jpg /content/drive/MyDrive/parallel_dots/CMU10_3D/CMU10_3D/data_2D/carton_oj_000050_1_gt.png\n"
          ]
        },
        {
          "output_type": "stream",
          "name": "stderr",
          "text": [
            "frame loading (JPEG): 100%|██████████| 2/2 [00:00<00:00, 28.73it/s]\n",
            "propagate in video: 100%|██████████| 2/2 [00:00<00:00,  2.12it/s]\n"
          ]
        },
        {
          "output_type": "stream",
          "name": "stdout",
          "text": [
            "{1: (120, 80, 224, 270)}\n",
            "/content/drive/MyDrive/parallel_dots/CMU10_3D/CMU10_3D/data_2D/carton_oj_000019.jpg /content/drive/MyDrive/parallel_dots/CMU10_3D/CMU10_3D/data_2D/carton_oj_000019_1_gt.png\n"
          ]
        },
        {
          "output_type": "stream",
          "name": "stderr",
          "text": [
            "frame loading (JPEG): 100%|██████████| 2/2 [00:00<00:00, 21.14it/s]\n",
            "propagate in video: 100%|██████████| 2/2 [00:00<00:00,  2.13it/s]\n"
          ]
        },
        {
          "output_type": "stream",
          "name": "stdout",
          "text": [
            "{1: (120, 80, 224, 270)}\n",
            "/content/drive/MyDrive/parallel_dots/CMU10_3D/CMU10_3D/data_2D/carton_oj_000004.jpg /content/drive/MyDrive/parallel_dots/CMU10_3D/CMU10_3D/data_2D/carton_oj_000004_1_gt.png\n"
          ]
        },
        {
          "output_type": "stream",
          "name": "stderr",
          "text": [
            "frame loading (JPEG): 100%|██████████| 2/2 [00:00<00:00, 18.92it/s]\n",
            "propagate in video: 100%|██████████| 2/2 [00:00<00:00,  2.11it/s]\n"
          ]
        },
        {
          "output_type": "stream",
          "name": "stdout",
          "text": [
            "{1: (120, 80, 224, 270)}\n",
            "/content/drive/MyDrive/parallel_dots/CMU10_3D/CMU10_3D/data_2D/carton_oj_000024.jpg /content/drive/MyDrive/parallel_dots/CMU10_3D/CMU10_3D/data_2D/carton_oj_000024_1_gt.png\n"
          ]
        },
        {
          "output_type": "stream",
          "name": "stderr",
          "text": [
            "frame loading (JPEG): 100%|██████████| 2/2 [00:00<00:00, 31.73it/s]\n",
            "propagate in video: 100%|██████████| 2/2 [00:00<00:00,  2.13it/s]\n"
          ]
        },
        {
          "output_type": "stream",
          "name": "stdout",
          "text": [
            "{1: (202, 117, 367, 411)}\n",
            "/content/drive/MyDrive/parallel_dots/CMU10_3D/CMU10_3D/data_2D/carton_oj_000022.jpg /content/drive/MyDrive/parallel_dots/CMU10_3D/CMU10_3D/data_2D/carton_oj_000022_1_gt.png\n"
          ]
        },
        {
          "output_type": "stream",
          "name": "stderr",
          "text": [
            "frame loading (JPEG): 100%|██████████| 2/2 [00:00<00:00, 27.52it/s]\n",
            "propagate in video: 100%|██████████| 2/2 [00:00<00:00,  2.13it/s]\n"
          ]
        },
        {
          "output_type": "stream",
          "name": "stdout",
          "text": [
            "{1: (120, 80, 224, 270)}\n",
            "/content/drive/MyDrive/parallel_dots/CMU10_3D/CMU10_3D/data_2D/carton_oj_000023.jpg /content/drive/MyDrive/parallel_dots/CMU10_3D/CMU10_3D/data_2D/carton_oj_000023_1_gt.png\n"
          ]
        },
        {
          "output_type": "stream",
          "name": "stderr",
          "text": [
            "frame loading (JPEG): 100%|██████████| 2/2 [00:00<00:00, 31.42it/s]\n",
            "propagate in video: 100%|██████████| 2/2 [00:00<00:00,  2.13it/s]\n"
          ]
        },
        {
          "output_type": "stream",
          "name": "stdout",
          "text": [
            "{1: (234, 142, 339, 364)}\n",
            "/content/drive/MyDrive/parallel_dots/CMU10_3D/CMU10_3D/data_2D/carton_oj_000049.jpg /content/drive/MyDrive/parallel_dots/CMU10_3D/CMU10_3D/data_2D/carton_oj_000049_1_gt.png\n"
          ]
        },
        {
          "output_type": "stream",
          "name": "stderr",
          "text": [
            "frame loading (JPEG): 100%|██████████| 2/2 [00:00<00:00, 30.28it/s]\n",
            "propagate in video: 100%|██████████| 2/2 [00:00<00:00,  2.13it/s]\n"
          ]
        },
        {
          "output_type": "stream",
          "name": "stdout",
          "text": [
            "{1: (120, 80, 224, 270)}\n",
            "/content/drive/MyDrive/parallel_dots/CMU10_3D/CMU10_3D/data_2D/carton_oj_000011.jpg /content/drive/MyDrive/parallel_dots/CMU10_3D/CMU10_3D/data_2D/carton_oj_000011_1_gt.png\n"
          ]
        },
        {
          "output_type": "stream",
          "name": "stderr",
          "text": [
            "frame loading (JPEG): 100%|██████████| 2/2 [00:00<00:00, 30.66it/s]\n",
            "propagate in video: 100%|██████████| 2/2 [00:00<00:00,  2.12it/s]\n"
          ]
        },
        {
          "output_type": "stream",
          "name": "stdout",
          "text": [
            "{1: (120, 80, 224, 270)}\n",
            "/content/drive/MyDrive/parallel_dots/CMU10_3D/CMU10_3D/data_2D/carton_oj_000015.jpg /content/drive/MyDrive/parallel_dots/CMU10_3D/CMU10_3D/data_2D/carton_oj_000015_1_gt.png\n"
          ]
        },
        {
          "output_type": "stream",
          "name": "stderr",
          "text": [
            "frame loading (JPEG): 100%|██████████| 2/2 [00:00<00:00, 19.19it/s]\n",
            "propagate in video: 100%|██████████| 2/2 [00:00<00:00,  2.13it/s]\n"
          ]
        },
        {
          "output_type": "stream",
          "name": "stdout",
          "text": [
            "{1: (120, 80, 224, 270)}\n",
            "/content/drive/MyDrive/parallel_dots/CMU10_3D/CMU10_3D/data_2D/carton_oj_000041.jpg /content/drive/MyDrive/parallel_dots/CMU10_3D/CMU10_3D/data_2D/carton_oj_000041_1_gt.png\n"
          ]
        },
        {
          "output_type": "stream",
          "name": "stderr",
          "text": [
            "frame loading (JPEG): 100%|██████████| 2/2 [00:00<00:00, 20.12it/s]\n",
            "propagate in video: 100%|██████████| 2/2 [00:00<00:00,  2.13it/s]\n"
          ]
        },
        {
          "output_type": "stream",
          "name": "stdout",
          "text": [
            "{1: (120, 80, 224, 270)}\n",
            "/content/drive/MyDrive/parallel_dots/CMU10_3D/CMU10_3D/data_2D/carton_oj_000035.jpg /content/drive/MyDrive/parallel_dots/CMU10_3D/CMU10_3D/data_2D/carton_oj_000035_1_gt.png\n"
          ]
        },
        {
          "output_type": "stream",
          "name": "stderr",
          "text": [
            "frame loading (JPEG): 100%|██████████| 2/2 [00:00<00:00, 31.73it/s]\n",
            "propagate in video: 100%|██████████| 2/2 [00:00<00:00,  2.13it/s]\n"
          ]
        },
        {
          "output_type": "stream",
          "name": "stdout",
          "text": [
            "{1: (120, 80, 224, 270)}\n",
            "/content/drive/MyDrive/parallel_dots/CMU10_3D/CMU10_3D/data_2D/carton_oj_000039.jpg /content/drive/MyDrive/parallel_dots/CMU10_3D/CMU10_3D/data_2D/carton_oj_000039_1_gt.png\n"
          ]
        },
        {
          "output_type": "stream",
          "name": "stderr",
          "text": [
            "frame loading (JPEG): 100%|██████████| 2/2 [00:00<00:00, 33.09it/s]\n",
            "propagate in video: 100%|██████████| 2/2 [00:00<00:00,  2.13it/s]\n"
          ]
        },
        {
          "output_type": "stream",
          "name": "stdout",
          "text": [
            "{1: (120, 80, 224, 270)}\n",
            "/content/drive/MyDrive/parallel_dots/CMU10_3D/CMU10_3D/data_2D/carton_oj_000034.jpg /content/drive/MyDrive/parallel_dots/CMU10_3D/CMU10_3D/data_2D/carton_oj_000034_1_gt.png\n"
          ]
        },
        {
          "output_type": "stream",
          "name": "stderr",
          "text": [
            "frame loading (JPEG): 100%|██████████| 2/2 [00:00<00:00, 30.78it/s]\n",
            "propagate in video: 100%|██████████| 2/2 [00:00<00:00,  2.13it/s]\n"
          ]
        },
        {
          "output_type": "stream",
          "name": "stdout",
          "text": [
            "{1: (120, 80, 224, 270)}\n",
            "/content/drive/MyDrive/parallel_dots/CMU10_3D/CMU10_3D/data_2D/carton_oj_000006.jpg /content/drive/MyDrive/parallel_dots/CMU10_3D/CMU10_3D/data_2D/carton_oj_000006_1_gt.png\n"
          ]
        },
        {
          "output_type": "stream",
          "name": "stderr",
          "text": [
            "frame loading (JPEG): 100%|██████████| 2/2 [00:00<00:00, 30.84it/s]\n",
            "propagate in video: 100%|██████████| 2/2 [00:00<00:00,  2.12it/s]\n"
          ]
        },
        {
          "output_type": "stream",
          "name": "stdout",
          "text": [
            "{1: (351, 0, 639, 240)}\n",
            "/content/drive/MyDrive/parallel_dots/CMU10_3D/CMU10_3D/data_2D/carton_oj_000021.jpg /content/drive/MyDrive/parallel_dots/CMU10_3D/CMU10_3D/data_2D/carton_oj_000021_1_gt.png\n"
          ]
        },
        {
          "output_type": "stream",
          "name": "stderr",
          "text": [
            "frame loading (JPEG): 100%|██████████| 2/2 [00:00<00:00, 32.70it/s]\n",
            "propagate in video: 100%|██████████| 2/2 [00:00<00:00,  2.11it/s]\n"
          ]
        },
        {
          "output_type": "stream",
          "name": "stdout",
          "text": [
            "{1: (172, 116, 355, 368)}\n",
            "/content/drive/MyDrive/parallel_dots/CMU10_3D/CMU10_3D/data_2D/carton_oj_000017.jpg /content/drive/MyDrive/parallel_dots/CMU10_3D/CMU10_3D/data_2D/carton_oj_000017_1_gt.png\n"
          ]
        },
        {
          "output_type": "stream",
          "name": "stderr",
          "text": [
            "frame loading (JPEG): 100%|██████████| 2/2 [00:00<00:00, 18.57it/s]\n",
            "propagate in video: 100%|██████████| 2/2 [00:00<00:00,  2.13it/s]\n"
          ]
        },
        {
          "output_type": "stream",
          "name": "stdout",
          "text": [
            "{1: (120, 80, 224, 270)}\n",
            "/content/drive/MyDrive/parallel_dots/CMU10_3D/CMU10_3D/data_2D/carton_oj_000045.jpg /content/drive/MyDrive/parallel_dots/CMU10_3D/CMU10_3D/data_2D/carton_oj_000045_1_gt.png\n"
          ]
        },
        {
          "output_type": "stream",
          "name": "stderr",
          "text": [
            "frame loading (JPEG): 100%|██████████| 2/2 [00:00<00:00, 21.87it/s]\n",
            "propagate in video: 100%|██████████| 2/2 [00:00<00:00,  2.13it/s]\n"
          ]
        },
        {
          "output_type": "stream",
          "name": "stdout",
          "text": [
            "{1: (120, 132, 265, 382)}\n",
            "/content/drive/MyDrive/parallel_dots/CMU10_3D/CMU10_3D/data_2D/carton_oj_000029.jpg /content/drive/MyDrive/parallel_dots/CMU10_3D/CMU10_3D/data_2D/carton_oj_000029_1_gt.png\n"
          ]
        },
        {
          "output_type": "stream",
          "name": "stderr",
          "text": [
            "frame loading (JPEG): 100%|██████████| 2/2 [00:00<00:00, 31.52it/s]\n",
            "propagate in video: 100%|██████████| 2/2 [00:00<00:00,  2.11it/s]\n"
          ]
        },
        {
          "output_type": "stream",
          "name": "stdout",
          "text": [
            "{1: (120, 80, 224, 270)}\n",
            "/content/drive/MyDrive/parallel_dots/CMU10_3D/CMU10_3D/data_2D/carton_oj_000010.jpg /content/drive/MyDrive/parallel_dots/CMU10_3D/CMU10_3D/data_2D/carton_oj_000010_1_gt.png\n"
          ]
        },
        {
          "output_type": "stream",
          "name": "stderr",
          "text": [
            "frame loading (JPEG): 100%|██████████| 2/2 [00:00<00:00, 32.03it/s]\n",
            "propagate in video: 100%|██████████| 2/2 [00:00<00:00,  2.12it/s]\n"
          ]
        },
        {
          "output_type": "stream",
          "name": "stdout",
          "text": [
            "{1: (371, 106, 609, 315)}\n",
            "/content/drive/MyDrive/parallel_dots/CMU10_3D/CMU10_3D/data_2D/carton_oj_000008.jpg /content/drive/MyDrive/parallel_dots/CMU10_3D/CMU10_3D/data_2D/carton_oj_000008_1_gt.png\n"
          ]
        },
        {
          "output_type": "stream",
          "name": "stderr",
          "text": [
            "frame loading (JPEG): 100%|██████████| 2/2 [00:00<00:00, 30.16it/s]\n",
            "propagate in video: 100%|██████████| 2/2 [00:00<00:00,  2.11it/s]\n"
          ]
        },
        {
          "output_type": "stream",
          "name": "stdout",
          "text": [
            "{1: (381, 66, 469, 240)}\n",
            "/content/drive/MyDrive/parallel_dots/CMU10_3D/CMU10_3D/data_2D/carton_oj_000043.jpg /content/drive/MyDrive/parallel_dots/CMU10_3D/CMU10_3D/data_2D/carton_oj_000043_1_gt.png\n"
          ]
        },
        {
          "output_type": "stream",
          "name": "stderr",
          "text": [
            "frame loading (JPEG): 100%|██████████| 2/2 [00:00<00:00, 31.46it/s]\n",
            "propagate in video: 100%|██████████| 2/2 [00:00<00:00,  2.13it/s]\n"
          ]
        },
        {
          "output_type": "stream",
          "name": "stdout",
          "text": [
            "{1: (120, 80, 224, 270)}\n",
            "/content/drive/MyDrive/parallel_dots/CMU10_3D/CMU10_3D/data_2D/carton_oj_000009.jpg /content/drive/MyDrive/parallel_dots/CMU10_3D/CMU10_3D/data_2D/carton_oj_000009_1_gt.png\n"
          ]
        },
        {
          "output_type": "stream",
          "name": "stderr",
          "text": [
            "frame loading (JPEG): 100%|██████████| 2/2 [00:00<00:00, 30.15it/s]\n",
            "propagate in video: 100%|██████████| 2/2 [00:00<00:00,  2.12it/s]\n"
          ]
        },
        {
          "output_type": "stream",
          "name": "stdout",
          "text": [
            "{1: (321, 111, 559, 323)}\n",
            "/content/drive/MyDrive/parallel_dots/CMU10_3D/CMU10_3D/data_2D/carton_oj_000031.jpg /content/drive/MyDrive/parallel_dots/CMU10_3D/CMU10_3D/data_2D/carton_oj_000031_1_gt.png\n"
          ]
        },
        {
          "output_type": "stream",
          "name": "stderr",
          "text": [
            "frame loading (JPEG): 100%|██████████| 2/2 [00:00<00:00, 21.02it/s]\n",
            "propagate in video: 100%|██████████| 2/2 [00:00<00:00,  2.12it/s]\n"
          ]
        },
        {
          "output_type": "stream",
          "name": "stdout",
          "text": [
            "{1: (269, 145, 415, 366)}\n",
            "/content/drive/MyDrive/parallel_dots/CMU10_3D/CMU10_3D/data_2D/carton_oj_000033.jpg /content/drive/MyDrive/parallel_dots/CMU10_3D/CMU10_3D/data_2D/carton_oj_000033_1_gt.png\n"
          ]
        },
        {
          "output_type": "stream",
          "name": "stderr",
          "text": [
            "frame loading (JPEG): 100%|██████████| 2/2 [00:00<00:00, 17.00it/s]\n",
            "propagate in video: 100%|██████████| 2/2 [00:00<00:00,  2.13it/s]\n"
          ]
        },
        {
          "output_type": "stream",
          "name": "stdout",
          "text": [
            "{1: (165, 171, 290, 355)}\n",
            "/content/drive/MyDrive/parallel_dots/CMU10_3D/CMU10_3D/data_2D/carton_oj_000020.jpg /content/drive/MyDrive/parallel_dots/CMU10_3D/CMU10_3D/data_2D/carton_oj_000020_1_gt.png\n"
          ]
        },
        {
          "output_type": "stream",
          "name": "stderr",
          "text": [
            "frame loading (JPEG): 100%|██████████| 2/2 [00:00<00:00, 31.47it/s]\n",
            "propagate in video: 100%|██████████| 2/2 [00:00<00:00,  2.13it/s]\n"
          ]
        },
        {
          "output_type": "stream",
          "name": "stdout",
          "text": [
            "{1: (120, 80, 224, 270)}\n",
            "/content/drive/MyDrive/parallel_dots/CMU10_3D/CMU10_3D/data_2D/carton_oj_000040.jpg /content/drive/MyDrive/parallel_dots/CMU10_3D/CMU10_3D/data_2D/carton_oj_000040_1_gt.png\n"
          ]
        },
        {
          "output_type": "stream",
          "name": "stderr",
          "text": [
            "frame loading (JPEG): 100%|██████████| 2/2 [00:00<00:00, 30.46it/s]\n",
            "propagate in video: 100%|██████████| 2/2 [00:00<00:00,  2.13it/s]\n"
          ]
        },
        {
          "output_type": "stream",
          "name": "stdout",
          "text": [
            "{1: (300, 149, 488, 295)}\n",
            "/content/drive/MyDrive/parallel_dots/CMU10_3D/CMU10_3D/data_2D/carton_oj_000044.jpg /content/drive/MyDrive/parallel_dots/CMU10_3D/CMU10_3D/data_2D/carton_oj_000044_1_gt.png\n"
          ]
        },
        {
          "output_type": "stream",
          "name": "stderr",
          "text": [
            "frame loading (JPEG): 100%|██████████| 2/2 [00:00<00:00, 28.10it/s]\n",
            "propagate in video: 100%|██████████| 2/2 [00:00<00:00,  2.13it/s]\n"
          ]
        },
        {
          "output_type": "stream",
          "name": "stdout",
          "text": [
            "{1: (120, 80, 224, 270)}\n",
            "/content/drive/MyDrive/parallel_dots/CMU10_3D/CMU10_3D/data_2D/carton_oj_000042.jpg /content/drive/MyDrive/parallel_dots/CMU10_3D/CMU10_3D/data_2D/carton_oj_000042_1_gt.png\n"
          ]
        },
        {
          "output_type": "stream",
          "name": "stderr",
          "text": [
            "frame loading (JPEG): 100%|██████████| 2/2 [00:00<00:00, 31.25it/s]\n",
            "propagate in video: 100%|██████████| 2/2 [00:00<00:00,  2.13it/s]\n"
          ]
        },
        {
          "output_type": "stream",
          "name": "stdout",
          "text": [
            "{1: (179, 61, 288, 261)}\n",
            "/content/drive/MyDrive/parallel_dots/CMU10_3D/CMU10_3D/data_2D/carton_oj_000007.jpg /content/drive/MyDrive/parallel_dots/CMU10_3D/CMU10_3D/data_2D/carton_oj_000007_1_gt.png\n"
          ]
        },
        {
          "output_type": "stream",
          "name": "stderr",
          "text": [
            "frame loading (JPEG): 100%|██████████| 2/2 [00:00<00:00, 31.53it/s]\n",
            "propagate in video: 100%|██████████| 2/2 [00:00<00:00,  2.13it/s]\n"
          ]
        },
        {
          "output_type": "stream",
          "name": "stdout",
          "text": [
            "{1: (120, 80, 224, 270)}\n",
            "/content/drive/MyDrive/parallel_dots/CMU10_3D/CMU10_3D/data_2D/carton_oj_000026.jpg /content/drive/MyDrive/parallel_dots/CMU10_3D/CMU10_3D/data_2D/carton_oj_000026_1_gt.png\n"
          ]
        },
        {
          "output_type": "stream",
          "name": "stderr",
          "text": [
            "frame loading (JPEG): 100%|██████████| 2/2 [00:00<00:00, 18.12it/s]\n",
            "propagate in video: 100%|██████████| 2/2 [00:00<00:00,  2.13it/s]\n"
          ]
        },
        {
          "output_type": "stream",
          "name": "stdout",
          "text": [
            "{1: (137, 72, 274, 333)}\n",
            "/content/drive/MyDrive/parallel_dots/CMU10_3D/CMU10_3D/data_2D/carton_oj_000013.jpg /content/drive/MyDrive/parallel_dots/CMU10_3D/CMU10_3D/data_2D/carton_oj_000013_1_gt.png\n"
          ]
        },
        {
          "output_type": "stream",
          "name": "stderr",
          "text": [
            "frame loading (JPEG): 100%|██████████| 2/2 [00:00<00:00, 31.13it/s]\n",
            "propagate in video: 100%|██████████| 2/2 [00:00<00:00,  2.13it/s]\n"
          ]
        },
        {
          "output_type": "stream",
          "name": "stdout",
          "text": [
            "{1: (120, 80, 224, 270)}\n",
            "/content/drive/MyDrive/parallel_dots/CMU10_3D/CMU10_3D/data_2D/carton_oj_000002.jpg /content/drive/MyDrive/parallel_dots/CMU10_3D/CMU10_3D/data_2D/carton_oj_000002_1_gt.png\n"
          ]
        },
        {
          "output_type": "stream",
          "name": "stderr",
          "text": [
            "frame loading (JPEG): 100%|██████████| 2/2 [00:00<00:00, 26.62it/s]\n",
            "propagate in video: 100%|██████████| 2/2 [00:00<00:00,  2.14it/s]\n"
          ]
        },
        {
          "output_type": "stream",
          "name": "stdout",
          "text": [
            "{1: (49, 113, 279, 327)}\n",
            "/content/drive/MyDrive/parallel_dots/CMU10_3D/CMU10_3D/data_2D/carton_oj_000025.jpg /content/drive/MyDrive/parallel_dots/CMU10_3D/CMU10_3D/data_2D/carton_oj_000025_1_gt.png\n"
          ]
        },
        {
          "output_type": "stream",
          "name": "stderr",
          "text": [
            "frame loading (JPEG): 100%|██████████| 2/2 [00:00<00:00, 29.44it/s]\n",
            "propagate in video: 100%|██████████| 2/2 [00:00<00:00,  2.11it/s]\n"
          ]
        },
        {
          "output_type": "stream",
          "name": "stdout",
          "text": [
            "{1: (248, 78, 414, 362)}\n",
            "/content/drive/MyDrive/parallel_dots/CMU10_3D/CMU10_3D/data_2D/carton_oj_000036.jpg /content/drive/MyDrive/parallel_dots/CMU10_3D/CMU10_3D/data_2D/carton_oj_000036_1_gt.png\n"
          ]
        },
        {
          "output_type": "stream",
          "name": "stderr",
          "text": [
            "frame loading (JPEG): 100%|██████████| 2/2 [00:00<00:00, 30.79it/s]\n",
            "propagate in video: 100%|██████████| 2/2 [00:00<00:00,  2.14it/s]\n"
          ]
        },
        {
          "output_type": "stream",
          "name": "stdout",
          "text": [
            "{1: (120, 80, 224, 270)}\n",
            "/content/drive/MyDrive/parallel_dots/CMU10_3D/CMU10_3D/data_2D/carton_oj_000018.jpg /content/drive/MyDrive/parallel_dots/CMU10_3D/CMU10_3D/data_2D/carton_oj_000018_1_gt.png\n"
          ]
        },
        {
          "output_type": "stream",
          "name": "stderr",
          "text": [
            "frame loading (JPEG): 100%|██████████| 2/2 [00:00<00:00, 31.87it/s]\n",
            "propagate in video: 100%|██████████| 2/2 [00:00<00:00,  2.13it/s]\n"
          ]
        },
        {
          "output_type": "stream",
          "name": "stdout",
          "text": [
            "{1: (120, 80, 224, 270)}\n",
            "/content/drive/MyDrive/parallel_dots/CMU10_3D/CMU10_3D/data_2D/carton_oj_000038.jpg /content/drive/MyDrive/parallel_dots/CMU10_3D/CMU10_3D/data_2D/carton_oj_000038_1_gt.png\n"
          ]
        },
        {
          "output_type": "stream",
          "name": "stderr",
          "text": [
            "frame loading (JPEG): 100%|██████████| 2/2 [00:00<00:00, 29.37it/s]\n",
            "propagate in video: 100%|██████████| 2/2 [00:00<00:00,  2.12it/s]\n"
          ]
        },
        {
          "output_type": "stream",
          "name": "stdout",
          "text": [
            "{1: (120, 80, 224, 270)}\n",
            "/content/drive/MyDrive/parallel_dots/CMU10_3D/CMU10_3D/data_2D/carton_oj_000012.jpg /content/drive/MyDrive/parallel_dots/CMU10_3D/CMU10_3D/data_2D/carton_oj_000012_1_gt.png\n"
          ]
        },
        {
          "output_type": "stream",
          "name": "stderr",
          "text": [
            "frame loading (JPEG): 100%|██████████| 2/2 [00:00<00:00, 17.13it/s]\n",
            "propagate in video: 100%|██████████| 2/2 [00:00<00:00,  2.14it/s]\n"
          ]
        },
        {
          "output_type": "stream",
          "name": "stdout",
          "text": [
            "{1: (254, 52, 350, 215)}\n",
            "/content/drive/MyDrive/parallel_dots/CMU10_3D/CMU10_3D/data_2D/carton_oj_000046.jpg /content/drive/MyDrive/parallel_dots/CMU10_3D/CMU10_3D/data_2D/carton_oj_000046_1_gt.png\n"
          ]
        },
        {
          "output_type": "stream",
          "name": "stderr",
          "text": [
            "frame loading (JPEG): 100%|██████████| 2/2 [00:00<00:00, 29.53it/s]\n",
            "propagate in video: 100%|██████████| 2/2 [00:00<00:00,  2.12it/s]\n"
          ]
        },
        {
          "output_type": "stream",
          "name": "stdout",
          "text": [
            "{1: (257, 123, 375, 385)}\n",
            "/content/drive/MyDrive/parallel_dots/CMU10_3D/CMU10_3D/data_2D/carton_oj_000005.jpg /content/drive/MyDrive/parallel_dots/CMU10_3D/CMU10_3D/data_2D/carton_oj_000005_1_gt.png\n"
          ]
        },
        {
          "output_type": "stream",
          "name": "stderr",
          "text": [
            "frame loading (JPEG): 100%|██████████| 2/2 [00:00<00:00, 24.21it/s]\n",
            "propagate in video: 100%|██████████| 2/2 [00:00<00:00,  2.13it/s]\n"
          ]
        },
        {
          "output_type": "stream",
          "name": "stdout",
          "text": [
            "{1: (120, 80, 224, 270)}\n",
            "/content/drive/MyDrive/parallel_dots/CMU10_3D/CMU10_3D/data_2D/carton_oj_000027.jpg /content/drive/MyDrive/parallel_dots/CMU10_3D/CMU10_3D/data_2D/carton_oj_000027_1_gt.png\n"
          ]
        },
        {
          "output_type": "stream",
          "name": "stderr",
          "text": [
            "frame loading (JPEG): 100%|██████████| 2/2 [00:00<00:00, 31.89it/s]\n",
            "propagate in video: 100%|██████████| 2/2 [00:00<00:00,  2.12it/s]\n"
          ]
        },
        {
          "output_type": "stream",
          "name": "stdout",
          "text": [
            "{1: (141, 72, 336, 415)}\n",
            "/content/drive/MyDrive/parallel_dots/CMU10_3D/CMU10_3D/data_2D/carton_oj_000047.jpg /content/drive/MyDrive/parallel_dots/CMU10_3D/CMU10_3D/data_2D/carton_oj_000047_1_gt.png\n"
          ]
        },
        {
          "output_type": "stream",
          "name": "stderr",
          "text": [
            "frame loading (JPEG): 100%|██████████| 2/2 [00:00<00:00, 29.95it/s]\n",
            "propagate in video: 100%|██████████| 2/2 [00:00<00:00,  2.12it/s]\n"
          ]
        },
        {
          "output_type": "stream",
          "name": "stdout",
          "text": [
            "{1: (120, 80, 224, 270)}\n",
            "/content/drive/MyDrive/parallel_dots/CMU10_3D/CMU10_3D/data_2D/carton_oj_000014.jpg /content/drive/MyDrive/parallel_dots/CMU10_3D/CMU10_3D/data_2D/carton_oj_000014_1_gt.png\n"
          ]
        },
        {
          "output_type": "stream",
          "name": "stderr",
          "text": [
            "frame loading (JPEG): 100%|██████████| 2/2 [00:00<00:00, 29.35it/s]\n",
            "propagate in video: 100%|██████████| 2/2 [00:00<00:00,  2.13it/s]\n"
          ]
        },
        {
          "output_type": "stream",
          "name": "stdout",
          "text": [
            "{1: (271, 105, 510, 209)}\n",
            "/content/drive/MyDrive/parallel_dots/CMU10_3D/CMU10_3D/data_2D/carton_oj_000032.jpg /content/drive/MyDrive/parallel_dots/CMU10_3D/CMU10_3D/data_2D/carton_oj_000032_1_gt.png\n"
          ]
        },
        {
          "output_type": "stream",
          "name": "stderr",
          "text": [
            "frame loading (JPEG): 100%|██████████| 2/2 [00:00<00:00, 30.83it/s]\n",
            "propagate in video: 100%|██████████| 2/2 [00:00<00:00,  2.10it/s]\n"
          ]
        },
        {
          "output_type": "stream",
          "name": "stdout",
          "text": [
            "{1: (238, 79, 399, 318)}\n",
            "/content/drive/MyDrive/parallel_dots/CMU10_3D/CMU10_3D/data_2D/carton_oj_000016.jpg /content/drive/MyDrive/parallel_dots/CMU10_3D/CMU10_3D/data_2D/carton_oj_000016_1_gt.png\n"
          ]
        },
        {
          "output_type": "stream",
          "name": "stderr",
          "text": [
            "frame loading (JPEG): 100%|██████████| 2/2 [00:00<00:00, 20.33it/s]\n",
            "propagate in video: 100%|██████████| 2/2 [00:00<00:00,  2.14it/s]\n"
          ]
        },
        {
          "output_type": "stream",
          "name": "stdout",
          "text": [
            "{1: (120, 80, 224, 270)}\n",
            "Performance for carton_oj: {'mean_iou': 0.36959294859602726, 'precision': 0.4, 'recall': 0.4}\n",
            "/content/drive/MyDrive/parallel_dots/CMU10_3D/CMU10_3D/data_2D/carton_soymilk_000001.jpg /content/drive/MyDrive/parallel_dots/CMU10_3D/CMU10_3D/data_2D/carton_soymilk_000001_1_gt.png\n"
          ]
        },
        {
          "output_type": "stream",
          "name": "stderr",
          "text": [
            "frame loading (JPEG): 100%|██████████| 2/2 [00:00<00:00, 30.02it/s]\n",
            "propagate in video: 100%|██████████| 2/2 [00:00<00:00,  2.13it/s]\n"
          ]
        },
        {
          "output_type": "stream",
          "name": "stdout",
          "text": [
            "{1: (356, 143, 440, 307)}\n",
            "/content/drive/MyDrive/parallel_dots/CMU10_3D/CMU10_3D/data_2D/carton_soymilk_000013.jpg /content/drive/MyDrive/parallel_dots/CMU10_3D/CMU10_3D/data_2D/carton_soymilk_000013_1_gt.png\n"
          ]
        },
        {
          "output_type": "stream",
          "name": "stderr",
          "text": [
            "frame loading (JPEG): 100%|██████████| 2/2 [00:00<00:00, 25.46it/s]\n",
            "propagate in video: 100%|██████████| 2/2 [00:00<00:00,  2.12it/s]\n"
          ]
        },
        {
          "output_type": "stream",
          "name": "stdout",
          "text": [
            "{1: (467, 161, 562, 281)}\n",
            "/content/drive/MyDrive/parallel_dots/CMU10_3D/CMU10_3D/data_2D/carton_soymilk_000022.jpg /content/drive/MyDrive/parallel_dots/CMU10_3D/CMU10_3D/data_2D/carton_soymilk_000022_1_gt.png\n"
          ]
        },
        {
          "output_type": "stream",
          "name": "stderr",
          "text": [
            "frame loading (JPEG): 100%|██████████| 2/2 [00:00<00:00, 29.85it/s]\n",
            "propagate in video: 100%|██████████| 2/2 [00:00<00:00,  2.13it/s]\n"
          ]
        },
        {
          "output_type": "stream",
          "name": "stdout",
          "text": [
            "{1: (355, 143, 440, 307)}\n",
            "/content/drive/MyDrive/parallel_dots/CMU10_3D/CMU10_3D/data_2D/carton_soymilk_000007.jpg /content/drive/MyDrive/parallel_dots/CMU10_3D/CMU10_3D/data_2D/carton_soymilk_000007_1_gt.png\n"
          ]
        },
        {
          "output_type": "stream",
          "name": "stderr",
          "text": [
            "frame loading (JPEG): 100%|██████████| 2/2 [00:00<00:00, 29.18it/s]\n",
            "propagate in video: 100%|██████████| 2/2 [00:00<00:00,  2.11it/s]\n"
          ]
        },
        {
          "output_type": "stream",
          "name": "stdout",
          "text": [
            "{1: (434, 12, 577, 219)}\n",
            "/content/drive/MyDrive/parallel_dots/CMU10_3D/CMU10_3D/data_2D/carton_soymilk_000031.jpg /content/drive/MyDrive/parallel_dots/CMU10_3D/CMU10_3D/data_2D/carton_soymilk_000031_1_gt.png\n"
          ]
        },
        {
          "output_type": "stream",
          "name": "stderr",
          "text": [
            "frame loading (JPEG): 100%|██████████| 2/2 [00:00<00:00, 29.42it/s]\n",
            "propagate in video: 100%|██████████| 2/2 [00:00<00:00,  2.12it/s]\n"
          ]
        },
        {
          "output_type": "stream",
          "name": "stdout",
          "text": [
            "{1: (43, 88, 385, 334)}\n",
            "/content/drive/MyDrive/parallel_dots/CMU10_3D/CMU10_3D/data_2D/carton_soymilk_000015.jpg /content/drive/MyDrive/parallel_dots/CMU10_3D/CMU10_3D/data_2D/carton_soymilk_000015_1_gt.png\n"
          ]
        },
        {
          "output_type": "stream",
          "name": "stderr",
          "text": [
            "frame loading (JPEG): 100%|██████████| 2/2 [00:00<00:00, 32.39it/s]\n",
            "propagate in video: 100%|██████████| 2/2 [00:00<00:00,  2.14it/s]\n"
          ]
        },
        {
          "output_type": "stream",
          "name": "stdout",
          "text": [
            "{1: (512, 15, 614, 203)}\n",
            "/content/drive/MyDrive/parallel_dots/CMU10_3D/CMU10_3D/data_2D/carton_soymilk_000021.jpg /content/drive/MyDrive/parallel_dots/CMU10_3D/CMU10_3D/data_2D/carton_soymilk_000021_1_gt.png\n"
          ]
        },
        {
          "output_type": "stream",
          "name": "stderr",
          "text": [
            "frame loading (JPEG): 100%|██████████| 2/2 [00:00<00:00, 31.00it/s]\n",
            "propagate in video: 100%|██████████| 2/2 [00:00<00:00,  2.13it/s]\n"
          ]
        },
        {
          "output_type": "stream",
          "name": "stdout",
          "text": [
            "{1: (474, 26, 584, 215)}\n",
            "/content/drive/MyDrive/parallel_dots/CMU10_3D/CMU10_3D/data_2D/carton_soymilk_000006.jpg /content/drive/MyDrive/parallel_dots/CMU10_3D/CMU10_3D/data_2D/carton_soymilk_000006_1_gt.png\n"
          ]
        },
        {
          "output_type": "stream",
          "name": "stderr",
          "text": [
            "frame loading (JPEG): 100%|██████████| 2/2 [00:00<00:00, 29.15it/s]\n",
            "propagate in video: 100%|██████████| 2/2 [00:00<00:00,  2.13it/s]\n"
          ]
        },
        {
          "output_type": "stream",
          "name": "stdout",
          "text": [
            "{1: (392, 72, 491, 223)}\n",
            "/content/drive/MyDrive/parallel_dots/CMU10_3D/CMU10_3D/data_2D/carton_soymilk_000018.jpg /content/drive/MyDrive/parallel_dots/CMU10_3D/CMU10_3D/data_2D/carton_soymilk_000018_1_gt.png\n"
          ]
        },
        {
          "output_type": "stream",
          "name": "stderr",
          "text": [
            "frame loading (JPEG): 100%|██████████| 2/2 [00:00<00:00, 30.66it/s]\n",
            "propagate in video: 100%|██████████| 2/2 [00:00<00:00,  2.14it/s]\n"
          ]
        },
        {
          "output_type": "stream",
          "name": "stdout",
          "text": [
            "{1: (355, 143, 440, 307)}\n",
            "/content/drive/MyDrive/parallel_dots/CMU10_3D/CMU10_3D/data_2D/carton_soymilk_000026.jpg /content/drive/MyDrive/parallel_dots/CMU10_3D/CMU10_3D/data_2D/carton_soymilk_000026_1_gt.png\n"
          ]
        },
        {
          "output_type": "stream",
          "name": "stderr",
          "text": [
            "frame loading (JPEG): 100%|██████████| 2/2 [00:00<00:00, 21.54it/s]\n",
            "propagate in video: 100%|██████████| 2/2 [00:00<00:00,  2.15it/s]\n"
          ]
        },
        {
          "output_type": "stream",
          "name": "stdout",
          "text": [
            "{1: (355, 143, 440, 307)}\n",
            "/content/drive/MyDrive/parallel_dots/CMU10_3D/CMU10_3D/data_2D/carton_soymilk_000002.jpg /content/drive/MyDrive/parallel_dots/CMU10_3D/CMU10_3D/data_2D/carton_soymilk_000002_1_gt.png\n"
          ]
        },
        {
          "output_type": "stream",
          "name": "stderr",
          "text": [
            "frame loading (JPEG): 100%|██████████| 2/2 [00:00<00:00, 30.02it/s]\n",
            "propagate in video: 100%|██████████| 2/2 [00:00<00:00,  2.13it/s]\n"
          ]
        },
        {
          "output_type": "stream",
          "name": "stdout",
          "text": [
            "{1: (355, 143, 440, 307)}\n",
            "/content/drive/MyDrive/parallel_dots/CMU10_3D/CMU10_3D/data_2D/carton_soymilk_000003.jpg /content/drive/MyDrive/parallel_dots/CMU10_3D/CMU10_3D/data_2D/carton_soymilk_000003_1_gt.png\n"
          ]
        },
        {
          "output_type": "stream",
          "name": "stderr",
          "text": [
            "frame loading (JPEG): 100%|██████████| 2/2 [00:00<00:00, 26.16it/s]\n",
            "propagate in video: 100%|██████████| 2/2 [00:00<00:00,  2.13it/s]\n"
          ]
        },
        {
          "output_type": "stream",
          "name": "stdout",
          "text": [
            "{1: (148, 138, 270, 319)}\n",
            "/content/drive/MyDrive/parallel_dots/CMU10_3D/CMU10_3D/data_2D/carton_soymilk_000029.jpg /content/drive/MyDrive/parallel_dots/CMU10_3D/CMU10_3D/data_2D/carton_soymilk_000029_1_gt.png\n"
          ]
        },
        {
          "output_type": "stream",
          "name": "stderr",
          "text": [
            "frame loading (JPEG): 100%|██████████| 2/2 [00:00<00:00, 29.76it/s]\n",
            "propagate in video: 100%|██████████| 2/2 [00:00<00:00,  2.13it/s]\n"
          ]
        },
        {
          "output_type": "stream",
          "name": "stdout",
          "text": [
            "{1: (355, 143, 440, 307)}\n",
            "/content/drive/MyDrive/parallel_dots/CMU10_3D/CMU10_3D/data_2D/carton_soymilk_000039.jpg /content/drive/MyDrive/parallel_dots/CMU10_3D/CMU10_3D/data_2D/carton_soymilk_000039_1_gt.png\n"
          ]
        },
        {
          "output_type": "stream",
          "name": "stderr",
          "text": [
            "frame loading (JPEG): 100%|██████████| 2/2 [00:00<00:00, 29.76it/s]\n",
            "propagate in video: 100%|██████████| 2/2 [00:00<00:00,  2.12it/s]\n"
          ]
        },
        {
          "output_type": "stream",
          "name": "stdout",
          "text": [
            "{1: (499, 2, 629, 203)}\n",
            "/content/drive/MyDrive/parallel_dots/CMU10_3D/CMU10_3D/data_2D/carton_soymilk_000048.jpg /content/drive/MyDrive/parallel_dots/CMU10_3D/CMU10_3D/data_2D/carton_soymilk_000048_1_gt.png\n"
          ]
        },
        {
          "output_type": "stream",
          "name": "stderr",
          "text": [
            "frame loading (JPEG): 100%|██████████| 2/2 [00:00<00:00, 30.87it/s]\n",
            "propagate in video: 100%|██████████| 2/2 [00:00<00:00,  2.14it/s]\n"
          ]
        },
        {
          "output_type": "stream",
          "name": "stdout",
          "text": [
            "{1: (355, 143, 440, 307)}\n",
            "/content/drive/MyDrive/parallel_dots/CMU10_3D/CMU10_3D/data_2D/carton_soymilk_000035.jpg /content/drive/MyDrive/parallel_dots/CMU10_3D/CMU10_3D/data_2D/carton_soymilk_000035_1_gt.png\n"
          ]
        },
        {
          "output_type": "stream",
          "name": "stderr",
          "text": [
            "frame loading (JPEG): 100%|██████████| 2/2 [00:00<00:00, 30.01it/s]\n",
            "propagate in video: 100%|██████████| 2/2 [00:00<00:00,  2.13it/s]\n"
          ]
        },
        {
          "output_type": "stream",
          "name": "stdout",
          "text": [
            "{1: (375, 22, 540, 303)}\n",
            "/content/drive/MyDrive/parallel_dots/CMU10_3D/CMU10_3D/data_2D/carton_soymilk_000050.jpg /content/drive/MyDrive/parallel_dots/CMU10_3D/CMU10_3D/data_2D/carton_soymilk_000050_1_gt.png\n"
          ]
        },
        {
          "output_type": "stream",
          "name": "stderr",
          "text": [
            "frame loading (JPEG): 100%|██████████| 2/2 [00:00<00:00, 20.93it/s]\n",
            "propagate in video: 100%|██████████| 2/2 [00:00<00:00,  2.14it/s]\n"
          ]
        },
        {
          "output_type": "stream",
          "name": "stdout",
          "text": [
            "{1: (355, 143, 440, 307)}\n",
            "/content/drive/MyDrive/parallel_dots/CMU10_3D/CMU10_3D/data_2D/carton_soymilk_000024.jpg /content/drive/MyDrive/parallel_dots/CMU10_3D/CMU10_3D/data_2D/carton_soymilk_000024_1_gt.png\n"
          ]
        },
        {
          "output_type": "stream",
          "name": "stderr",
          "text": [
            "frame loading (JPEG): 100%|██████████| 2/2 [00:00<00:00, 31.33it/s]\n",
            "propagate in video: 100%|██████████| 2/2 [00:00<00:00,  2.13it/s]\n"
          ]
        },
        {
          "output_type": "stream",
          "name": "stdout",
          "text": [
            "{1: (355, 143, 440, 307)}\n",
            "/content/drive/MyDrive/parallel_dots/CMU10_3D/CMU10_3D/data_2D/carton_soymilk_000049.jpg /content/drive/MyDrive/parallel_dots/CMU10_3D/CMU10_3D/data_2D/carton_soymilk_000049_1_gt.png\n"
          ]
        },
        {
          "output_type": "stream",
          "name": "stderr",
          "text": [
            "frame loading (JPEG): 100%|██████████| 2/2 [00:00<00:00, 29.29it/s]\n",
            "propagate in video: 100%|██████████| 2/2 [00:00<00:00,  2.12it/s]\n"
          ]
        },
        {
          "output_type": "stream",
          "name": "stdout",
          "text": [
            "{1: (0, 255, 307, 412)}\n",
            "/content/drive/MyDrive/parallel_dots/CMU10_3D/CMU10_3D/data_2D/carton_soymilk_000025.jpg /content/drive/MyDrive/parallel_dots/CMU10_3D/CMU10_3D/data_2D/carton_soymilk_000025_1_gt.png\n"
          ]
        },
        {
          "output_type": "stream",
          "name": "stderr",
          "text": [
            "frame loading (JPEG): 100%|██████████| 2/2 [00:00<00:00, 29.22it/s]\n",
            "propagate in video: 100%|██████████| 2/2 [00:00<00:00,  2.11it/s]\n"
          ]
        },
        {
          "output_type": "stream",
          "name": "stdout",
          "text": [
            "{1: (355, 143, 440, 307)}\n",
            "/content/drive/MyDrive/parallel_dots/CMU10_3D/CMU10_3D/data_2D/carton_soymilk_000045.jpg /content/drive/MyDrive/parallel_dots/CMU10_3D/CMU10_3D/data_2D/carton_soymilk_000045_1_gt.png\n"
          ]
        },
        {
          "output_type": "stream",
          "name": "stderr",
          "text": [
            "frame loading (JPEG): 100%|██████████| 2/2 [00:00<00:00, 30.92it/s]\n",
            "propagate in video: 100%|██████████| 2/2 [00:00<00:00,  2.12it/s]\n"
          ]
        },
        {
          "output_type": "stream",
          "name": "stdout",
          "text": [
            "{1: (405, 124, 441, 197)}\n",
            "/content/drive/MyDrive/parallel_dots/CMU10_3D/CMU10_3D/data_2D/carton_soymilk_000046.jpg /content/drive/MyDrive/parallel_dots/CMU10_3D/CMU10_3D/data_2D/carton_soymilk_000046_1_gt.png\n"
          ]
        },
        {
          "output_type": "stream",
          "name": "stderr",
          "text": [
            "frame loading (JPEG): 100%|██████████| 2/2 [00:00<00:00, 26.59it/s]\n",
            "propagate in video: 100%|██████████| 2/2 [00:00<00:00,  2.12it/s]\n"
          ]
        },
        {
          "output_type": "stream",
          "name": "stdout",
          "text": [
            "{1: (355, 143, 440, 307)}\n",
            "/content/drive/MyDrive/parallel_dots/CMU10_3D/CMU10_3D/data_2D/carton_soymilk_000041.jpg /content/drive/MyDrive/parallel_dots/CMU10_3D/CMU10_3D/data_2D/carton_soymilk_000041_1_gt.png\n"
          ]
        },
        {
          "output_type": "stream",
          "name": "stderr",
          "text": [
            "frame loading (JPEG): 100%|██████████| 2/2 [00:00<00:00, 29.15it/s]\n",
            "propagate in video: 100%|██████████| 2/2 [00:00<00:00,  2.11it/s]\n"
          ]
        },
        {
          "output_type": "stream",
          "name": "stdout",
          "text": [
            "{1: (329, 44, 455, 256)}\n",
            "/content/drive/MyDrive/parallel_dots/CMU10_3D/CMU10_3D/data_2D/carton_soymilk_000009.jpg /content/drive/MyDrive/parallel_dots/CMU10_3D/CMU10_3D/data_2D/carton_soymilk_000009_1_gt.png\n"
          ]
        },
        {
          "output_type": "stream",
          "name": "stderr",
          "text": [
            "frame loading (JPEG): 100%|██████████| 2/2 [00:00<00:00, 20.00it/s]\n",
            "propagate in video: 100%|██████████| 2/2 [00:00<00:00,  2.13it/s]\n"
          ]
        },
        {
          "output_type": "stream",
          "name": "stdout",
          "text": [
            "{1: (428, 28, 601, 210)}\n",
            "/content/drive/MyDrive/parallel_dots/CMU10_3D/CMU10_3D/data_2D/carton_soymilk_000042.jpg /content/drive/MyDrive/parallel_dots/CMU10_3D/CMU10_3D/data_2D/carton_soymilk_000042_1_gt.png\n"
          ]
        },
        {
          "output_type": "stream",
          "name": "stderr",
          "text": [
            "frame loading (JPEG): 100%|██████████| 2/2 [00:00<00:00, 24.41it/s]\n",
            "propagate in video: 100%|██████████| 2/2 [00:00<00:00,  2.13it/s]\n"
          ]
        },
        {
          "output_type": "stream",
          "name": "stdout",
          "text": [
            "{1: (355, 143, 440, 307)}\n",
            "/content/drive/MyDrive/parallel_dots/CMU10_3D/CMU10_3D/data_2D/carton_soymilk_000030.jpg /content/drive/MyDrive/parallel_dots/CMU10_3D/CMU10_3D/data_2D/carton_soymilk_000030_1_gt.png\n"
          ]
        },
        {
          "output_type": "stream",
          "name": "stderr",
          "text": [
            "frame loading (JPEG): 100%|██████████| 2/2 [00:00<00:00, 30.89it/s]\n",
            "propagate in video: 100%|██████████| 2/2 [00:00<00:00,  2.13it/s]\n"
          ]
        },
        {
          "output_type": "stream",
          "name": "stdout",
          "text": [
            "{1: (355, 143, 440, 307)}\n",
            "/content/drive/MyDrive/parallel_dots/CMU10_3D/CMU10_3D/data_2D/carton_soymilk_000008.jpg /content/drive/MyDrive/parallel_dots/CMU10_3D/CMU10_3D/data_2D/carton_soymilk_000008_1_gt.png\n"
          ]
        },
        {
          "output_type": "stream",
          "name": "stderr",
          "text": [
            "frame loading (JPEG): 100%|██████████| 2/2 [00:00<00:00, 30.58it/s]\n",
            "propagate in video: 100%|██████████| 2/2 [00:00<00:00,  2.12it/s]\n"
          ]
        },
        {
          "output_type": "stream",
          "name": "stdout",
          "text": [
            "{1: (353, 170, 562, 379)}\n",
            "/content/drive/MyDrive/parallel_dots/CMU10_3D/CMU10_3D/data_2D/carton_soymilk_000028.jpg /content/drive/MyDrive/parallel_dots/CMU10_3D/CMU10_3D/data_2D/carton_soymilk_000028_1_gt.png\n"
          ]
        },
        {
          "output_type": "stream",
          "name": "stderr",
          "text": [
            "frame loading (JPEG): 100%|██████████| 2/2 [00:00<00:00, 30.15it/s]\n",
            "propagate in video: 100%|██████████| 2/2 [00:00<00:00,  2.11it/s]\n"
          ]
        },
        {
          "output_type": "stream",
          "name": "stdout",
          "text": [
            "{1: (233, 135, 369, 329)}\n",
            "/content/drive/MyDrive/parallel_dots/CMU10_3D/CMU10_3D/data_2D/carton_soymilk_000044.jpg /content/drive/MyDrive/parallel_dots/CMU10_3D/CMU10_3D/data_2D/carton_soymilk_000044_1_gt.png\n"
          ]
        },
        {
          "output_type": "stream",
          "name": "stderr",
          "text": [
            "frame loading (JPEG): 100%|██████████| 2/2 [00:00<00:00, 29.03it/s]\n",
            "propagate in video: 100%|██████████| 2/2 [00:00<00:00,  2.12it/s]\n"
          ]
        },
        {
          "output_type": "stream",
          "name": "stdout",
          "text": [
            "{1: (363, 105, 518, 286)}\n",
            "/content/drive/MyDrive/parallel_dots/CMU10_3D/CMU10_3D/data_2D/carton_soymilk_000011.jpg /content/drive/MyDrive/parallel_dots/CMU10_3D/CMU10_3D/data_2D/carton_soymilk_000011_1_gt.png\n"
          ]
        },
        {
          "output_type": "stream",
          "name": "stderr",
          "text": [
            "frame loading (JPEG): 100%|██████████| 2/2 [00:00<00:00, 21.27it/s]\n",
            "propagate in video: 100%|██████████| 2/2 [00:00<00:00,  2.12it/s]\n"
          ]
        },
        {
          "output_type": "stream",
          "name": "stdout",
          "text": [
            "{1: (371, 96, 433, 228)}\n",
            "/content/drive/MyDrive/parallel_dots/CMU10_3D/CMU10_3D/data_2D/carton_soymilk_000040.jpg /content/drive/MyDrive/parallel_dots/CMU10_3D/CMU10_3D/data_2D/carton_soymilk_000040_1_gt.png\n"
          ]
        },
        {
          "output_type": "stream",
          "name": "stderr",
          "text": [
            "frame loading (JPEG): 100%|██████████| 2/2 [00:00<00:00, 17.92it/s]\n",
            "propagate in video: 100%|██████████| 2/2 [00:00<00:00,  2.13it/s]\n"
          ]
        },
        {
          "output_type": "stream",
          "name": "stdout",
          "text": [
            "{1: (218, 0, 350, 230)}\n",
            "/content/drive/MyDrive/parallel_dots/CMU10_3D/CMU10_3D/data_2D/carton_soymilk_000043.jpg /content/drive/MyDrive/parallel_dots/CMU10_3D/CMU10_3D/data_2D/carton_soymilk_000043_1_gt.png\n"
          ]
        },
        {
          "output_type": "stream",
          "name": "stderr",
          "text": [
            "frame loading (JPEG): 100%|██████████| 2/2 [00:00<00:00, 24.67it/s]\n",
            "propagate in video: 100%|██████████| 2/2 [00:00<00:00,  2.11it/s]\n"
          ]
        },
        {
          "output_type": "stream",
          "name": "stdout",
          "text": [
            "{1: (89, 131, 400, 380)}\n",
            "/content/drive/MyDrive/parallel_dots/CMU10_3D/CMU10_3D/data_2D/carton_soymilk_000005.jpg /content/drive/MyDrive/parallel_dots/CMU10_3D/CMU10_3D/data_2D/carton_soymilk_000005_1_gt.png\n"
          ]
        },
        {
          "output_type": "stream",
          "name": "stderr",
          "text": [
            "frame loading (JPEG): 100%|██████████| 2/2 [00:00<00:00, 29.29it/s]\n",
            "propagate in video: 100%|██████████| 2/2 [00:00<00:00,  2.12it/s]\n"
          ]
        },
        {
          "output_type": "stream",
          "name": "stdout",
          "text": [
            "{1: (523, 293, 633, 450)}\n",
            "/content/drive/MyDrive/parallel_dots/CMU10_3D/CMU10_3D/data_2D/carton_soymilk_000033.jpg /content/drive/MyDrive/parallel_dots/CMU10_3D/CMU10_3D/data_2D/carton_soymilk_000033_1_gt.png\n"
          ]
        },
        {
          "output_type": "stream",
          "name": "stderr",
          "text": [
            "frame loading (JPEG): 100%|██████████| 2/2 [00:00<00:00, 27.79it/s]\n",
            "propagate in video: 100%|██████████| 2/2 [00:00<00:00,  2.12it/s]\n"
          ]
        },
        {
          "output_type": "stream",
          "name": "stdout",
          "text": [
            "{1: (355, 143, 440, 307)}\n",
            "/content/drive/MyDrive/parallel_dots/CMU10_3D/CMU10_3D/data_2D/carton_soymilk_000032.jpg /content/drive/MyDrive/parallel_dots/CMU10_3D/CMU10_3D/data_2D/carton_soymilk_000032_1_gt.png\n"
          ]
        },
        {
          "output_type": "stream",
          "name": "stderr",
          "text": [
            "frame loading (JPEG): 100%|██████████| 2/2 [00:00<00:00, 28.54it/s]\n",
            "propagate in video: 100%|██████████| 2/2 [00:00<00:00,  2.12it/s]\n"
          ]
        },
        {
          "output_type": "stream",
          "name": "stdout",
          "text": [
            "{1: (355, 143, 440, 307)}\n",
            "/content/drive/MyDrive/parallel_dots/CMU10_3D/CMU10_3D/data_2D/carton_soymilk_000036.jpg /content/drive/MyDrive/parallel_dots/CMU10_3D/CMU10_3D/data_2D/carton_soymilk_000036_1_gt.png\n"
          ]
        },
        {
          "output_type": "stream",
          "name": "stderr",
          "text": [
            "frame loading (JPEG): 100%|██████████| 2/2 [00:00<00:00, 29.51it/s]\n",
            "propagate in video: 100%|██████████| 2/2 [00:00<00:00,  2.10it/s]\n"
          ]
        },
        {
          "output_type": "stream",
          "name": "stdout",
          "text": [
            "{1: (436, 30, 596, 282)}\n",
            "/content/drive/MyDrive/parallel_dots/CMU10_3D/CMU10_3D/data_2D/carton_soymilk_000004.jpg /content/drive/MyDrive/parallel_dots/CMU10_3D/CMU10_3D/data_2D/carton_soymilk_000004_1_gt.png\n"
          ]
        },
        {
          "output_type": "stream",
          "name": "stderr",
          "text": [
            "frame loading (JPEG): 100%|██████████| 2/2 [00:00<00:00, 20.11it/s]\n",
            "propagate in video: 100%|██████████| 2/2 [00:00<00:00,  2.12it/s]\n"
          ]
        },
        {
          "output_type": "stream",
          "name": "stdout",
          "text": [
            "{1: (421, 249, 586, 423)}\n",
            "/content/drive/MyDrive/parallel_dots/CMU10_3D/CMU10_3D/data_2D/carton_soymilk_000023.jpg /content/drive/MyDrive/parallel_dots/CMU10_3D/CMU10_3D/data_2D/carton_soymilk_000023_1_gt.png\n"
          ]
        },
        {
          "output_type": "stream",
          "name": "stderr",
          "text": [
            "frame loading (JPEG): 100%|██████████| 2/2 [00:00<00:00, 20.87it/s]\n",
            "propagate in video: 100%|██████████| 2/2 [00:00<00:00,  2.13it/s]\n"
          ]
        },
        {
          "output_type": "stream",
          "name": "stdout",
          "text": [
            "{1: (235, 123, 385, 328)}\n",
            "/content/drive/MyDrive/parallel_dots/CMU10_3D/CMU10_3D/data_2D/carton_soymilk_000012.jpg /content/drive/MyDrive/parallel_dots/CMU10_3D/CMU10_3D/data_2D/carton_soymilk_000012_1_gt.png\n"
          ]
        },
        {
          "output_type": "stream",
          "name": "stderr",
          "text": [
            "frame loading (JPEG): 100%|██████████| 2/2 [00:00<00:00, 26.28it/s]\n",
            "propagate in video: 100%|██████████| 2/2 [00:00<00:00,  2.10it/s]\n"
          ]
        },
        {
          "output_type": "stream",
          "name": "stdout",
          "text": [
            "{1: (501, 205, 588, 367)}\n",
            "/content/drive/MyDrive/parallel_dots/CMU10_3D/CMU10_3D/data_2D/carton_soymilk_000047.jpg /content/drive/MyDrive/parallel_dots/CMU10_3D/CMU10_3D/data_2D/carton_soymilk_000047_1_gt.png\n"
          ]
        },
        {
          "output_type": "stream",
          "name": "stderr",
          "text": [
            "frame loading (JPEG): 100%|██████████| 2/2 [00:00<00:00, 30.76it/s]\n",
            "propagate in video: 100%|██████████| 2/2 [00:00<00:00,  2.11it/s]\n"
          ]
        },
        {
          "output_type": "stream",
          "name": "stdout",
          "text": [
            "{1: (341, 163, 464, 378)}\n",
            "/content/drive/MyDrive/parallel_dots/CMU10_3D/CMU10_3D/data_2D/carton_soymilk_000027.jpg /content/drive/MyDrive/parallel_dots/CMU10_3D/CMU10_3D/data_2D/carton_soymilk_000027_1_gt.png\n"
          ]
        },
        {
          "output_type": "stream",
          "name": "stderr",
          "text": [
            "frame loading (JPEG): 100%|██████████| 2/2 [00:00<00:00, 30.48it/s]\n",
            "propagate in video: 100%|██████████| 2/2 [00:00<00:00,  2.11it/s]\n"
          ]
        },
        {
          "output_type": "stream",
          "name": "stdout",
          "text": [
            "{1: (355, 143, 440, 307)}\n",
            "/content/drive/MyDrive/parallel_dots/CMU10_3D/CMU10_3D/data_2D/carton_soymilk_000016.jpg /content/drive/MyDrive/parallel_dots/CMU10_3D/CMU10_3D/data_2D/carton_soymilk_000016_1_gt.png\n"
          ]
        },
        {
          "output_type": "stream",
          "name": "stderr",
          "text": [
            "frame loading (JPEG): 100%|██████████| 2/2 [00:00<00:00, 29.41it/s]\n",
            "propagate in video: 100%|██████████| 2/2 [00:00<00:00,  2.12it/s]\n"
          ]
        },
        {
          "output_type": "stream",
          "name": "stdout",
          "text": [
            "{1: (392, 164, 560, 265)}\n",
            "/content/drive/MyDrive/parallel_dots/CMU10_3D/CMU10_3D/data_2D/carton_soymilk_000014.jpg /content/drive/MyDrive/parallel_dots/CMU10_3D/CMU10_3D/data_2D/carton_soymilk_000014_1_gt.png\n"
          ]
        },
        {
          "output_type": "stream",
          "name": "stderr",
          "text": [
            "frame loading (JPEG): 100%|██████████| 2/2 [00:00<00:00, 30.40it/s]\n",
            "propagate in video: 100%|██████████| 2/2 [00:00<00:00,  2.11it/s]\n"
          ]
        },
        {
          "output_type": "stream",
          "name": "stdout",
          "text": [
            "{1: (469, 0, 616, 238)}\n",
            "/content/drive/MyDrive/parallel_dots/CMU10_3D/CMU10_3D/data_2D/carton_soymilk_000034.jpg /content/drive/MyDrive/parallel_dots/CMU10_3D/CMU10_3D/data_2D/carton_soymilk_000034_1_gt.png\n"
          ]
        },
        {
          "output_type": "stream",
          "name": "stderr",
          "text": [
            "frame loading (JPEG): 100%|██████████| 2/2 [00:00<00:00, 20.45it/s]\n",
            "propagate in video: 100%|██████████| 2/2 [00:00<00:00,  2.11it/s]\n"
          ]
        },
        {
          "output_type": "stream",
          "name": "stdout",
          "text": [
            "{1: (268, 105, 384, 233)}\n",
            "/content/drive/MyDrive/parallel_dots/CMU10_3D/CMU10_3D/data_2D/carton_soymilk_000017.jpg /content/drive/MyDrive/parallel_dots/CMU10_3D/CMU10_3D/data_2D/carton_soymilk_000017_1_gt.png\n"
          ]
        },
        {
          "output_type": "stream",
          "name": "stderr",
          "text": [
            "frame loading (JPEG): 100%|██████████| 2/2 [00:00<00:00, 19.05it/s]\n",
            "propagate in video: 100%|██████████| 2/2 [00:00<00:00,  2.12it/s]\n"
          ]
        },
        {
          "output_type": "stream",
          "name": "stdout",
          "text": [
            "{1: (44, 196, 339, 344)}\n",
            "/content/drive/MyDrive/parallel_dots/CMU10_3D/CMU10_3D/data_2D/carton_soymilk_000038.jpg /content/drive/MyDrive/parallel_dots/CMU10_3D/CMU10_3D/data_2D/carton_soymilk_000038_1_gt.png\n"
          ]
        },
        {
          "output_type": "stream",
          "name": "stderr",
          "text": [
            "frame loading (JPEG): 100%|██████████| 2/2 [00:00<00:00, 29.63it/s]\n",
            "propagate in video: 100%|██████████| 2/2 [00:00<00:00,  2.11it/s]\n"
          ]
        },
        {
          "output_type": "stream",
          "name": "stdout",
          "text": [
            "{1: (60, 330, 218, 479)}\n",
            "/content/drive/MyDrive/parallel_dots/CMU10_3D/CMU10_3D/data_2D/carton_soymilk_000037.jpg /content/drive/MyDrive/parallel_dots/CMU10_3D/CMU10_3D/data_2D/carton_soymilk_000037_1_gt.png\n"
          ]
        },
        {
          "output_type": "stream",
          "name": "stderr",
          "text": [
            "frame loading (JPEG): 100%|██████████| 2/2 [00:00<00:00, 25.04it/s]\n",
            "propagate in video: 100%|██████████| 2/2 [00:00<00:00,  2.11it/s]\n"
          ]
        },
        {
          "output_type": "stream",
          "name": "stdout",
          "text": [
            "{1: (355, 143, 440, 307)}\n",
            "/content/drive/MyDrive/parallel_dots/CMU10_3D/CMU10_3D/data_2D/carton_soymilk_000020.jpg /content/drive/MyDrive/parallel_dots/CMU10_3D/CMU10_3D/data_2D/carton_soymilk_000020_1_gt.png\n"
          ]
        },
        {
          "output_type": "stream",
          "name": "stderr",
          "text": [
            "frame loading (JPEG): 100%|██████████| 2/2 [00:00<00:00, 29.11it/s]\n",
            "propagate in video: 100%|██████████| 2/2 [00:00<00:00,  2.11it/s]\n"
          ]
        },
        {
          "output_type": "stream",
          "name": "stdout",
          "text": [
            "{1: (183, 83, 356, 212)}\n",
            "/content/drive/MyDrive/parallel_dots/CMU10_3D/CMU10_3D/data_2D/carton_soymilk_000010.jpg /content/drive/MyDrive/parallel_dots/CMU10_3D/CMU10_3D/data_2D/carton_soymilk_000010_1_gt.png\n"
          ]
        },
        {
          "output_type": "stream",
          "name": "stderr",
          "text": [
            "frame loading (JPEG): 100%|██████████| 2/2 [00:00<00:00, 29.54it/s]\n",
            "propagate in video: 100%|██████████| 2/2 [00:00<00:00,  2.11it/s]\n"
          ]
        },
        {
          "output_type": "stream",
          "name": "stdout",
          "text": [
            "{1: (419, 144, 510, 316)}\n",
            "/content/drive/MyDrive/parallel_dots/CMU10_3D/CMU10_3D/data_2D/carton_soymilk_000019.jpg /content/drive/MyDrive/parallel_dots/CMU10_3D/CMU10_3D/data_2D/carton_soymilk_000019_1_gt.png\n"
          ]
        },
        {
          "output_type": "stream",
          "name": "stderr",
          "text": [
            "frame loading (JPEG): 100%|██████████| 2/2 [00:00<00:00, 27.89it/s]\n",
            "propagate in video: 100%|██████████| 2/2 [00:00<00:00,  2.11it/s]\n"
          ]
        },
        {
          "output_type": "stream",
          "name": "stdout",
          "text": [
            "{1: (307, 31, 400, 181)}\n",
            "Performance for carton_soymilk: {'mean_iou': 0.5102140608757126, 'precision': 0.54, 'recall': 0.54}\n",
            "/content/drive/MyDrive/parallel_dots/CMU10_3D/CMU10_3D/data_2D/diet_coke_000021.jpg /content/drive/MyDrive/parallel_dots/CMU10_3D/CMU10_3D/data_2D/diet_coke_000021_1_gt.png\n"
          ]
        },
        {
          "output_type": "stream",
          "name": "stderr",
          "text": [
            "frame loading (JPEG): 100%|██████████| 2/2 [00:00<00:00, 19.93it/s]\n",
            "propagate in video: 100%|██████████| 2/2 [00:00<00:00,  2.11it/s]\n"
          ]
        },
        {
          "output_type": "stream",
          "name": "stdout",
          "text": [
            "{1: (357, 107, 445, 276)}\n",
            "/content/drive/MyDrive/parallel_dots/CMU10_3D/CMU10_3D/data_2D/diet_coke_000043.jpg /content/drive/MyDrive/parallel_dots/CMU10_3D/CMU10_3D/data_2D/diet_coke_000043_1_gt.png\n"
          ]
        },
        {
          "output_type": "stream",
          "name": "stderr",
          "text": [
            "frame loading (JPEG): 100%|██████████| 2/2 [00:00<00:00, 19.84it/s]\n",
            "propagate in video: 100%|██████████| 2/2 [00:00<00:00,  2.12it/s]\n"
          ]
        },
        {
          "output_type": "stream",
          "name": "stdout",
          "text": [
            "{1: (220, 111, 288, 236)}\n",
            "/content/drive/MyDrive/parallel_dots/CMU10_3D/CMU10_3D/data_2D/diet_coke_000035.jpg /content/drive/MyDrive/parallel_dots/CMU10_3D/CMU10_3D/data_2D/diet_coke_000035_1_gt.png\n"
          ]
        },
        {
          "output_type": "stream",
          "name": "stderr",
          "text": [
            "frame loading (JPEG): 100%|██████████| 2/2 [00:00<00:00, 29.32it/s]\n",
            "propagate in video: 100%|██████████| 2/2 [00:00<00:00,  2.11it/s]\n"
          ]
        },
        {
          "output_type": "stream",
          "name": "stdout",
          "text": [
            "{1: (267, 183, 333, 316)}\n",
            "/content/drive/MyDrive/parallel_dots/CMU10_3D/CMU10_3D/data_2D/diet_coke_000034.jpg /content/drive/MyDrive/parallel_dots/CMU10_3D/CMU10_3D/data_2D/diet_coke_000034_1_gt.png\n"
          ]
        },
        {
          "output_type": "stream",
          "name": "stderr",
          "text": [
            "frame loading (JPEG): 100%|██████████| 2/2 [00:00<00:00, 28.80it/s]\n",
            "propagate in video: 100%|██████████| 2/2 [00:00<00:00,  2.12it/s]\n"
          ]
        },
        {
          "output_type": "stream",
          "name": "stdout",
          "text": [
            "{1: (176, 178, 239, 306)}\n",
            "/content/drive/MyDrive/parallel_dots/CMU10_3D/CMU10_3D/data_2D/diet_coke_000028.jpg /content/drive/MyDrive/parallel_dots/CMU10_3D/CMU10_3D/data_2D/diet_coke_000028_1_gt.png\n"
          ]
        },
        {
          "output_type": "stream",
          "name": "stderr",
          "text": [
            "frame loading (JPEG): 100%|██████████| 2/2 [00:00<00:00, 28.29it/s]\n",
            "propagate in video: 100%|██████████| 2/2 [00:00<00:00,  2.12it/s]\n"
          ]
        },
        {
          "output_type": "stream",
          "name": "stdout",
          "text": [
            "{1: (144, 102, 238, 270)}\n",
            "/content/drive/MyDrive/parallel_dots/CMU10_3D/CMU10_3D/data_2D/diet_coke_000014.jpg /content/drive/MyDrive/parallel_dots/CMU10_3D/CMU10_3D/data_2D/diet_coke_000014_1_gt.png\n"
          ]
        },
        {
          "output_type": "stream",
          "name": "stderr",
          "text": [
            "frame loading (JPEG): 100%|██████████| 2/2 [00:00<00:00, 29.63it/s]\n",
            "propagate in video: 100%|██████████| 2/2 [00:00<00:00,  2.12it/s]\n"
          ]
        },
        {
          "output_type": "stream",
          "name": "stdout",
          "text": [
            "{1: (217, 231, 314, 401)}\n",
            "/content/drive/MyDrive/parallel_dots/CMU10_3D/CMU10_3D/data_2D/diet_coke_000002.jpg /content/drive/MyDrive/parallel_dots/CMU10_3D/CMU10_3D/data_2D/diet_coke_000002_1_gt.png\n"
          ]
        },
        {
          "output_type": "stream",
          "name": "stderr",
          "text": [
            "frame loading (JPEG): 100%|██████████| 2/2 [00:00<00:00, 27.71it/s]\n",
            "propagate in video: 100%|██████████| 2/2 [00:00<00:00,  2.12it/s]\n"
          ]
        },
        {
          "output_type": "stream",
          "name": "stdout",
          "text": [
            "{1: (401, 141, 476, 282)}\n",
            "/content/drive/MyDrive/parallel_dots/CMU10_3D/CMU10_3D/data_2D/diet_coke_000029.jpg /content/drive/MyDrive/parallel_dots/CMU10_3D/CMU10_3D/data_2D/diet_coke_000029_1_gt.png\n"
          ]
        },
        {
          "output_type": "stream",
          "name": "stderr",
          "text": [
            "frame loading (JPEG): 100%|██████████| 2/2 [00:00<00:00, 19.10it/s]\n",
            "propagate in video: 100%|██████████| 2/2 [00:00<00:00,  2.10it/s]\n"
          ]
        },
        {
          "output_type": "stream",
          "name": "stdout",
          "text": [
            "{1: (94, 166, 210, 324)}\n",
            "/content/drive/MyDrive/parallel_dots/CMU10_3D/CMU10_3D/data_2D/diet_coke_000010.jpg /content/drive/MyDrive/parallel_dots/CMU10_3D/CMU10_3D/data_2D/diet_coke_000010_1_gt.png\n"
          ]
        },
        {
          "output_type": "stream",
          "name": "stderr",
          "text": [
            "frame loading (JPEG): 100%|██████████| 2/2 [00:00<00:00, 20.25it/s]\n",
            "propagate in video: 100%|██████████| 2/2 [00:00<00:00,  2.11it/s]\n"
          ]
        },
        {
          "output_type": "stream",
          "name": "stdout",
          "text": [
            "{1: (192, 102, 301, 284)}\n",
            "/content/drive/MyDrive/parallel_dots/CMU10_3D/CMU10_3D/data_2D/diet_coke_000039.jpg /content/drive/MyDrive/parallel_dots/CMU10_3D/CMU10_3D/data_2D/diet_coke_000039_1_gt.png\n"
          ]
        },
        {
          "output_type": "stream",
          "name": "stderr",
          "text": [
            "frame loading (JPEG): 100%|██████████| 2/2 [00:00<00:00, 28.00it/s]\n",
            "propagate in video: 100%|██████████| 2/2 [00:00<00:00,  2.11it/s]\n"
          ]
        },
        {
          "output_type": "stream",
          "name": "stdout",
          "text": [
            "{1: (237, 45, 409, 160)}\n",
            "/content/drive/MyDrive/parallel_dots/CMU10_3D/CMU10_3D/data_2D/diet_coke_000004.jpg /content/drive/MyDrive/parallel_dots/CMU10_3D/CMU10_3D/data_2D/diet_coke_000004_1_gt.png\n"
          ]
        },
        {
          "output_type": "stream",
          "name": "stderr",
          "text": [
            "frame loading (JPEG): 100%|██████████| 2/2 [00:00<00:00, 29.77it/s]\n",
            "propagate in video: 100%|██████████| 2/2 [00:00<00:00,  2.13it/s]\n"
          ]
        },
        {
          "output_type": "stream",
          "name": "stdout",
          "text": [
            "{1: (357, 107, 445, 276)}\n",
            "/content/drive/MyDrive/parallel_dots/CMU10_3D/CMU10_3D/data_2D/diet_coke_000024.jpg /content/drive/MyDrive/parallel_dots/CMU10_3D/CMU10_3D/data_2D/diet_coke_000024_1_gt.png\n"
          ]
        },
        {
          "output_type": "stream",
          "name": "stderr",
          "text": [
            "frame loading (JPEG): 100%|██████████| 2/2 [00:00<00:00, 25.27it/s]\n",
            "propagate in video: 100%|██████████| 2/2 [00:00<00:00,  2.11it/s]\n"
          ]
        },
        {
          "output_type": "stream",
          "name": "stdout",
          "text": [
            "{1: (177, 72, 224, 223)}\n",
            "/content/drive/MyDrive/parallel_dots/CMU10_3D/CMU10_3D/data_2D/diet_coke_000019.jpg /content/drive/MyDrive/parallel_dots/CMU10_3D/CMU10_3D/data_2D/diet_coke_000019_1_gt.png\n"
          ]
        },
        {
          "output_type": "stream",
          "name": "stderr",
          "text": [
            "frame loading (JPEG): 100%|██████████| 2/2 [00:00<00:00, 30.33it/s]\n",
            "propagate in video: 100%|██████████| 2/2 [00:00<00:00,  2.12it/s]\n"
          ]
        },
        {
          "output_type": "stream",
          "name": "stdout",
          "text": [
            "{1: (240, 113, 326, 277)}\n",
            "/content/drive/MyDrive/parallel_dots/CMU10_3D/CMU10_3D/data_2D/diet_coke_000011.jpg /content/drive/MyDrive/parallel_dots/CMU10_3D/CMU10_3D/data_2D/diet_coke_000011_1_gt.png\n"
          ]
        },
        {
          "output_type": "stream",
          "name": "stderr",
          "text": [
            "frame loading (JPEG): 100%|██████████| 2/2 [00:00<00:00, 29.52it/s]\n",
            "propagate in video: 100%|██████████| 2/2 [00:00<00:00,  2.12it/s]\n"
          ]
        },
        {
          "output_type": "stream",
          "name": "stdout",
          "text": [
            "{1: (366, 137, 490, 357)}\n",
            "/content/drive/MyDrive/parallel_dots/CMU10_3D/CMU10_3D/data_2D/diet_coke_000016.jpg /content/drive/MyDrive/parallel_dots/CMU10_3D/CMU10_3D/data_2D/diet_coke_000016_1_gt.png\n"
          ]
        },
        {
          "output_type": "stream",
          "name": "stderr",
          "text": [
            "frame loading (JPEG): 100%|██████████| 2/2 [00:00<00:00, 21.27it/s]\n",
            "propagate in video: 100%|██████████| 2/2 [00:00<00:00,  2.11it/s]\n"
          ]
        },
        {
          "output_type": "stream",
          "name": "stdout",
          "text": [
            "{1: (81, 161, 219, 362)}\n",
            "/content/drive/MyDrive/parallel_dots/CMU10_3D/CMU10_3D/data_2D/diet_coke_000009.jpg /content/drive/MyDrive/parallel_dots/CMU10_3D/CMU10_3D/data_2D/diet_coke_000009_1_gt.png\n"
          ]
        },
        {
          "output_type": "stream",
          "name": "stderr",
          "text": [
            "frame loading (JPEG): 100%|██████████| 2/2 [00:00<00:00, 28.30it/s]\n",
            "propagate in video: 100%|██████████| 2/2 [00:00<00:00,  2.10it/s]\n"
          ]
        },
        {
          "output_type": "stream",
          "name": "stdout",
          "text": [
            "{1: (368, 114, 470, 292)}\n",
            "/content/drive/MyDrive/parallel_dots/CMU10_3D/CMU10_3D/data_2D/diet_coke_000048.jpg /content/drive/MyDrive/parallel_dots/CMU10_3D/CMU10_3D/data_2D/diet_coke_000048_1_gt.png\n"
          ]
        },
        {
          "output_type": "stream",
          "name": "stderr",
          "text": [
            "frame loading (JPEG): 100%|██████████| 2/2 [00:00<00:00, 28.76it/s]\n",
            "propagate in video: 100%|██████████| 2/2 [00:00<00:00,  2.10it/s]\n"
          ]
        },
        {
          "output_type": "stream",
          "name": "stdout",
          "text": [
            "{1: (228, 203, 328, 355)}\n",
            "/content/drive/MyDrive/parallel_dots/CMU10_3D/CMU10_3D/data_2D/diet_coke_000023.jpg /content/drive/MyDrive/parallel_dots/CMU10_3D/CMU10_3D/data_2D/diet_coke_000023_1_gt.png\n"
          ]
        },
        {
          "output_type": "stream",
          "name": "stderr",
          "text": [
            "frame loading (JPEG): 100%|██████████| 2/2 [00:00<00:00, 29.19it/s]\n",
            "propagate in video: 100%|██████████| 2/2 [00:00<00:00,  2.12it/s]\n"
          ]
        },
        {
          "output_type": "stream",
          "name": "stdout",
          "text": [
            "{1: (229, 49, 299, 188)}\n",
            "/content/drive/MyDrive/parallel_dots/CMU10_3D/CMU10_3D/data_2D/diet_coke_000049.jpg /content/drive/MyDrive/parallel_dots/CMU10_3D/CMU10_3D/data_2D/diet_coke_000049_1_gt.png\n"
          ]
        },
        {
          "output_type": "stream",
          "name": "stderr",
          "text": [
            "frame loading (JPEG): 100%|██████████| 2/2 [00:00<00:00, 16.01it/s]\n",
            "propagate in video: 100%|██████████| 2/2 [00:00<00:00,  2.12it/s]\n"
          ]
        },
        {
          "output_type": "stream",
          "name": "stdout",
          "text": [
            "{1: (121, 143, 216, 285)}\n",
            "/content/drive/MyDrive/parallel_dots/CMU10_3D/CMU10_3D/data_2D/diet_coke_000027.jpg /content/drive/MyDrive/parallel_dots/CMU10_3D/CMU10_3D/data_2D/diet_coke_000027_1_gt.png\n"
          ]
        },
        {
          "output_type": "stream",
          "name": "stderr",
          "text": [
            "frame loading (JPEG): 100%|██████████| 2/2 [00:00<00:00, 28.38it/s]\n",
            "propagate in video: 100%|██████████| 2/2 [00:00<00:00,  2.12it/s]\n"
          ]
        },
        {
          "output_type": "stream",
          "name": "stdout",
          "text": [
            "{1: (197, 146, 267, 267)}\n",
            "/content/drive/MyDrive/parallel_dots/CMU10_3D/CMU10_3D/data_2D/diet_coke_000047.jpg /content/drive/MyDrive/parallel_dots/CMU10_3D/CMU10_3D/data_2D/diet_coke_000047_1_gt.png\n"
          ]
        },
        {
          "output_type": "stream",
          "name": "stderr",
          "text": [
            "frame loading (JPEG): 100%|██████████| 2/2 [00:00<00:00, 29.92it/s]\n",
            "propagate in video: 100%|██████████| 2/2 [00:00<00:00,  2.11it/s]\n"
          ]
        },
        {
          "output_type": "stream",
          "name": "stdout",
          "text": [
            "{1: (378, 138, 504, 364)}\n",
            "/content/drive/MyDrive/parallel_dots/CMU10_3D/CMU10_3D/data_2D/diet_coke_000003.jpg /content/drive/MyDrive/parallel_dots/CMU10_3D/CMU10_3D/data_2D/diet_coke_000003_1_gt.png\n"
          ]
        },
        {
          "output_type": "stream",
          "name": "stderr",
          "text": [
            "frame loading (JPEG): 100%|██████████| 2/2 [00:00<00:00, 20.25it/s]\n",
            "propagate in video: 100%|██████████| 2/2 [00:00<00:00,  2.12it/s]\n"
          ]
        },
        {
          "output_type": "stream",
          "name": "stdout",
          "text": [
            "{1: (209, 66, 320, 271)}\n",
            "/content/drive/MyDrive/parallel_dots/CMU10_3D/CMU10_3D/data_2D/diet_coke_000031.jpg /content/drive/MyDrive/parallel_dots/CMU10_3D/CMU10_3D/data_2D/diet_coke_000031_1_gt.png\n"
          ]
        },
        {
          "output_type": "stream",
          "name": "stderr",
          "text": [
            "frame loading (JPEG): 100%|██████████| 2/2 [00:00<00:00, 27.83it/s]\n",
            "propagate in video: 100%|██████████| 2/2 [00:00<00:00,  2.12it/s]\n"
          ]
        },
        {
          "output_type": "stream",
          "name": "stdout",
          "text": [
            "{1: (178, 184, 261, 312)}\n",
            "/content/drive/MyDrive/parallel_dots/CMU10_3D/CMU10_3D/data_2D/diet_coke_000030.jpg /content/drive/MyDrive/parallel_dots/CMU10_3D/CMU10_3D/data_2D/diet_coke_000030_1_gt.png\n"
          ]
        },
        {
          "output_type": "stream",
          "name": "stderr",
          "text": [
            "frame loading (JPEG): 100%|██████████| 2/2 [00:00<00:00, 29.74it/s]\n",
            "propagate in video: 100%|██████████| 2/2 [00:00<00:00,  2.11it/s]\n"
          ]
        },
        {
          "output_type": "stream",
          "name": "stdout",
          "text": [
            "{1: (357, 107, 445, 276)}\n",
            "/content/drive/MyDrive/parallel_dots/CMU10_3D/CMU10_3D/data_2D/diet_coke_000038.jpg /content/drive/MyDrive/parallel_dots/CMU10_3D/CMU10_3D/data_2D/diet_coke_000038_1_gt.png\n"
          ]
        },
        {
          "output_type": "stream",
          "name": "stderr",
          "text": [
            "frame loading (JPEG): 100%|██████████| 2/2 [00:00<00:00, 27.48it/s]\n",
            "propagate in video: 100%|██████████| 2/2 [00:00<00:00,  2.11it/s]\n"
          ]
        },
        {
          "output_type": "stream",
          "name": "stdout",
          "text": [
            "{1: (344, 155, 444, 327)}\n",
            "/content/drive/MyDrive/parallel_dots/CMU10_3D/CMU10_3D/data_2D/diet_coke_000042.jpg /content/drive/MyDrive/parallel_dots/CMU10_3D/CMU10_3D/data_2D/diet_coke_000042_1_gt.png\n"
          ]
        },
        {
          "output_type": "stream",
          "name": "stderr",
          "text": [
            "frame loading (JPEG): 100%|██████████| 2/2 [00:00<00:00, 28.06it/s]\n",
            "propagate in video: 100%|██████████| 2/2 [00:00<00:00,  2.11it/s]\n"
          ]
        },
        {
          "output_type": "stream",
          "name": "stdout",
          "text": [
            "{1: (240, 131, 331, 298)}\n",
            "/content/drive/MyDrive/parallel_dots/CMU10_3D/CMU10_3D/data_2D/diet_coke_000025.jpg /content/drive/MyDrive/parallel_dots/CMU10_3D/CMU10_3D/data_2D/diet_coke_000025_1_gt.png\n"
          ]
        },
        {
          "output_type": "stream",
          "name": "stderr",
          "text": [
            "frame loading (JPEG): 100%|██████████| 2/2 [00:00<00:00, 30.23it/s]\n",
            "propagate in video: 100%|██████████| 2/2 [00:00<00:00,  2.11it/s]\n"
          ]
        },
        {
          "output_type": "stream",
          "name": "stdout",
          "text": [
            "{1: (260, 94, 335, 260)}\n",
            "/content/drive/MyDrive/parallel_dots/CMU10_3D/CMU10_3D/data_2D/diet_coke_000044.jpg /content/drive/MyDrive/parallel_dots/CMU10_3D/CMU10_3D/data_2D/diet_coke_000044_1_gt.png\n"
          ]
        },
        {
          "output_type": "stream",
          "name": "stderr",
          "text": [
            "frame loading (JPEG): 100%|██████████| 2/2 [00:00<00:00, 21.99it/s]\n",
            "propagate in video: 100%|██████████| 2/2 [00:00<00:00,  2.10it/s]\n"
          ]
        },
        {
          "output_type": "stream",
          "name": "stdout",
          "text": [
            "{1: (218, 71, 303, 225)}\n",
            "/content/drive/MyDrive/parallel_dots/CMU10_3D/CMU10_3D/data_2D/diet_coke_000046.jpg /content/drive/MyDrive/parallel_dots/CMU10_3D/CMU10_3D/data_2D/diet_coke_000046_1_gt.png\n"
          ]
        },
        {
          "output_type": "stream",
          "name": "stderr",
          "text": [
            "frame loading (JPEG): 100%|██████████| 2/2 [00:00<00:00, 16.29it/s]\n",
            "propagate in video: 100%|██████████| 2/2 [00:00<00:00,  2.14it/s]\n"
          ]
        },
        {
          "output_type": "stream",
          "name": "stdout",
          "text": [
            "{1: (233, 128, 318, 284)}\n",
            "/content/drive/MyDrive/parallel_dots/CMU10_3D/CMU10_3D/data_2D/diet_coke_000006.jpg /content/drive/MyDrive/parallel_dots/CMU10_3D/CMU10_3D/data_2D/diet_coke_000006_1_gt.png\n"
          ]
        },
        {
          "output_type": "stream",
          "name": "stderr",
          "text": [
            "frame loading (JPEG): 100%|██████████| 2/2 [00:00<00:00, 29.73it/s]\n",
            "propagate in video: 100%|██████████| 2/2 [00:00<00:00,  2.11it/s]\n"
          ]
        },
        {
          "output_type": "stream",
          "name": "stdout",
          "text": [
            "{1: (333, 98, 406, 286)}\n",
            "/content/drive/MyDrive/parallel_dots/CMU10_3D/CMU10_3D/data_2D/diet_coke_000037.jpg /content/drive/MyDrive/parallel_dots/CMU10_3D/CMU10_3D/data_2D/diet_coke_000037_1_gt.png\n"
          ]
        },
        {
          "output_type": "stream",
          "name": "stderr",
          "text": [
            "frame loading (JPEG): 100%|██████████| 2/2 [00:00<00:00, 27.28it/s]\n",
            "propagate in video: 100%|██████████| 2/2 [00:00<00:00,  2.11it/s]\n"
          ]
        },
        {
          "output_type": "stream",
          "name": "stdout",
          "text": [
            "{1: (409, 48, 534, 230)}\n",
            "/content/drive/MyDrive/parallel_dots/CMU10_3D/CMU10_3D/data_2D/diet_coke_000022.jpg /content/drive/MyDrive/parallel_dots/CMU10_3D/CMU10_3D/data_2D/diet_coke_000022_1_gt.png\n"
          ]
        },
        {
          "output_type": "stream",
          "name": "stderr",
          "text": [
            "frame loading (JPEG): 100%|██████████| 2/2 [00:00<00:00, 27.66it/s]\n",
            "propagate in video: 100%|██████████| 2/2 [00:00<00:00,  2.12it/s]\n"
          ]
        },
        {
          "output_type": "stream",
          "name": "stdout",
          "text": [
            "{1: (153, 125, 247, 292)}\n",
            "/content/drive/MyDrive/parallel_dots/CMU10_3D/CMU10_3D/data_2D/diet_coke_000012.jpg /content/drive/MyDrive/parallel_dots/CMU10_3D/CMU10_3D/data_2D/diet_coke_000012_1_gt.png\n"
          ]
        },
        {
          "output_type": "stream",
          "name": "stderr",
          "text": [
            "frame loading (JPEG): 100%|██████████| 2/2 [00:00<00:00, 27.58it/s]\n",
            "propagate in video: 100%|██████████| 2/2 [00:00<00:00,  2.11it/s]\n"
          ]
        },
        {
          "output_type": "stream",
          "name": "stdout",
          "text": [
            "{1: (453, 105, 534, 255)}\n",
            "/content/drive/MyDrive/parallel_dots/CMU10_3D/CMU10_3D/data_2D/diet_coke_000026.jpg /content/drive/MyDrive/parallel_dots/CMU10_3D/CMU10_3D/data_2D/diet_coke_000026_1_gt.png\n"
          ]
        },
        {
          "output_type": "stream",
          "name": "stderr",
          "text": [
            "frame loading (JPEG): 100%|██████████| 2/2 [00:00<00:00, 29.61it/s]\n",
            "propagate in video: 100%|██████████| 2/2 [00:00<00:00,  2.10it/s]\n"
          ]
        },
        {
          "output_type": "stream",
          "name": "stdout",
          "text": [
            "{1: (203, 127, 288, 290)}\n",
            "/content/drive/MyDrive/parallel_dots/CMU10_3D/CMU10_3D/data_2D/diet_coke_000040.jpg /content/drive/MyDrive/parallel_dots/CMU10_3D/CMU10_3D/data_2D/diet_coke_000040_1_gt.png\n"
          ]
        },
        {
          "output_type": "stream",
          "name": "stderr",
          "text": [
            "frame loading (JPEG): 100%|██████████| 2/2 [00:00<00:00, 17.45it/s]\n",
            "propagate in video: 100%|██████████| 2/2 [00:00<00:00,  2.10it/s]\n"
          ]
        },
        {
          "output_type": "stream",
          "name": "stdout",
          "text": [
            "{1: (294, 121, 355, 237)}\n",
            "/content/drive/MyDrive/parallel_dots/CMU10_3D/CMU10_3D/data_2D/diet_coke_000041.jpg /content/drive/MyDrive/parallel_dots/CMU10_3D/CMU10_3D/data_2D/diet_coke_000041_1_gt.png\n"
          ]
        },
        {
          "output_type": "stream",
          "name": "stderr",
          "text": [
            "frame loading (JPEG): 100%|██████████| 2/2 [00:00<00:00, 19.56it/s]\n",
            "propagate in video: 100%|██████████| 2/2 [00:00<00:00,  2.13it/s]\n"
          ]
        },
        {
          "output_type": "stream",
          "name": "stdout",
          "text": [
            "{1: (357, 107, 445, 276)}\n",
            "/content/drive/MyDrive/parallel_dots/CMU10_3D/CMU10_3D/data_2D/diet_coke_000020.jpg /content/drive/MyDrive/parallel_dots/CMU10_3D/CMU10_3D/data_2D/diet_coke_000020_1_gt.png\n"
          ]
        },
        {
          "output_type": "stream",
          "name": "stderr",
          "text": [
            "frame loading (JPEG): 100%|██████████| 2/2 [00:00<00:00, 28.87it/s]\n",
            "propagate in video: 100%|██████████| 2/2 [00:00<00:00,  2.12it/s]\n"
          ]
        },
        {
          "output_type": "stream",
          "name": "stdout",
          "text": [
            "{1: (296, 145, 385, 307)}\n",
            "/content/drive/MyDrive/parallel_dots/CMU10_3D/CMU10_3D/data_2D/diet_coke_000050.jpg /content/drive/MyDrive/parallel_dots/CMU10_3D/CMU10_3D/data_2D/diet_coke_000050_1_gt.png\n"
          ]
        },
        {
          "output_type": "stream",
          "name": "stderr",
          "text": [
            "frame loading (JPEG): 100%|██████████| 2/2 [00:00<00:00, 29.51it/s]\n",
            "propagate in video: 100%|██████████| 2/2 [00:00<00:00,  2.11it/s]\n"
          ]
        },
        {
          "output_type": "stream",
          "name": "stdout",
          "text": [
            "{1: (246, 253, 310, 371)}\n",
            "/content/drive/MyDrive/parallel_dots/CMU10_3D/CMU10_3D/data_2D/diet_coke_000005.jpg /content/drive/MyDrive/parallel_dots/CMU10_3D/CMU10_3D/data_2D/diet_coke_000005_1_gt.png\n"
          ]
        },
        {
          "output_type": "stream",
          "name": "stderr",
          "text": [
            "frame loading (JPEG): 100%|██████████| 2/2 [00:00<00:00, 28.84it/s]\n",
            "propagate in video: 100%|██████████| 2/2 [00:00<00:00,  2.12it/s]\n"
          ]
        },
        {
          "output_type": "stream",
          "name": "stdout",
          "text": [
            "{1: (357, 107, 445, 276)}\n",
            "/content/drive/MyDrive/parallel_dots/CMU10_3D/CMU10_3D/data_2D/diet_coke_000007.jpg /content/drive/MyDrive/parallel_dots/CMU10_3D/CMU10_3D/data_2D/diet_coke_000007_1_gt.png\n"
          ]
        },
        {
          "output_type": "stream",
          "name": "stderr",
          "text": [
            "frame loading (JPEG): 100%|██████████| 2/2 [00:00<00:00, 28.72it/s]\n",
            "propagate in video: 100%|██████████| 2/2 [00:00<00:00,  2.11it/s]\n"
          ]
        },
        {
          "output_type": "stream",
          "name": "stdout",
          "text": [
            "{1: (267, 88, 333, 244)}\n",
            "/content/drive/MyDrive/parallel_dots/CMU10_3D/CMU10_3D/data_2D/diet_coke_000045.jpg /content/drive/MyDrive/parallel_dots/CMU10_3D/CMU10_3D/data_2D/diet_coke_000045_1_gt.png\n"
          ]
        },
        {
          "output_type": "stream",
          "name": "stderr",
          "text": [
            "frame loading (JPEG): 100%|██████████| 2/2 [00:00<00:00, 27.79it/s]\n",
            "propagate in video: 100%|██████████| 2/2 [00:00<00:00,  2.10it/s]\n"
          ]
        },
        {
          "output_type": "stream",
          "name": "stdout",
          "text": [
            "{1: (199, 175, 293, 348)}\n",
            "/content/drive/MyDrive/parallel_dots/CMU10_3D/CMU10_3D/data_2D/diet_coke_000001.jpg /content/drive/MyDrive/parallel_dots/CMU10_3D/CMU10_3D/data_2D/diet_coke_000001_1_gt.png\n"
          ]
        },
        {
          "output_type": "stream",
          "name": "stderr",
          "text": [
            "frame loading (JPEG): 100%|██████████| 2/2 [00:00<00:00, 17.98it/s]\n",
            "propagate in video: 100%|██████████| 2/2 [00:00<00:00,  2.11it/s]\n"
          ]
        },
        {
          "output_type": "stream",
          "name": "stdout",
          "text": [
            "{1: (357, 107, 445, 276)}\n",
            "/content/drive/MyDrive/parallel_dots/CMU10_3D/CMU10_3D/data_2D/diet_coke_000008.jpg /content/drive/MyDrive/parallel_dots/CMU10_3D/CMU10_3D/data_2D/diet_coke_000008_1_gt.png\n"
          ]
        },
        {
          "output_type": "stream",
          "name": "stderr",
          "text": [
            "frame loading (JPEG): 100%|██████████| 2/2 [00:00<00:00, 20.23it/s]\n",
            "propagate in video: 100%|██████████| 2/2 [00:00<00:00,  2.11it/s]\n"
          ]
        },
        {
          "output_type": "stream",
          "name": "stdout",
          "text": [
            "{1: (354, 117, 409, 232)}\n",
            "/content/drive/MyDrive/parallel_dots/CMU10_3D/CMU10_3D/data_2D/diet_coke_000032.jpg /content/drive/MyDrive/parallel_dots/CMU10_3D/CMU10_3D/data_2D/diet_coke_000032_1_gt.png\n"
          ]
        },
        {
          "output_type": "stream",
          "name": "stderr",
          "text": [
            "frame loading (JPEG): 100%|██████████| 2/2 [00:00<00:00, 29.12it/s]\n",
            "propagate in video: 100%|██████████| 2/2 [00:00<00:00,  2.11it/s]\n"
          ]
        },
        {
          "output_type": "stream",
          "name": "stdout",
          "text": [
            "{1: (135, 234, 223, 395)}\n",
            "/content/drive/MyDrive/parallel_dots/CMU10_3D/CMU10_3D/data_2D/diet_coke_000033.jpg /content/drive/MyDrive/parallel_dots/CMU10_3D/CMU10_3D/data_2D/diet_coke_000033_1_gt.png\n"
          ]
        },
        {
          "output_type": "stream",
          "name": "stderr",
          "text": [
            "frame loading (JPEG): 100%|██████████| 2/2 [00:00<00:00, 28.52it/s]\n",
            "propagate in video: 100%|██████████| 2/2 [00:00<00:00,  2.10it/s]\n"
          ]
        },
        {
          "output_type": "stream",
          "name": "stdout",
          "text": [
            "{1: (192, 104, 275, 218)}\n",
            "/content/drive/MyDrive/parallel_dots/CMU10_3D/CMU10_3D/data_2D/diet_coke_000017.jpg /content/drive/MyDrive/parallel_dots/CMU10_3D/CMU10_3D/data_2D/diet_coke_000017_1_gt.png\n"
          ]
        },
        {
          "output_type": "stream",
          "name": "stderr",
          "text": [
            "frame loading (JPEG): 100%|██████████| 2/2 [00:00<00:00, 29.93it/s]\n",
            "propagate in video: 100%|██████████| 2/2 [00:00<00:00,  2.10it/s]\n"
          ]
        },
        {
          "output_type": "stream",
          "name": "stdout",
          "text": [
            "{1: (352, 200, 449, 373)}\n",
            "/content/drive/MyDrive/parallel_dots/CMU10_3D/CMU10_3D/data_2D/diet_coke_000015.jpg /content/drive/MyDrive/parallel_dots/CMU10_3D/CMU10_3D/data_2D/diet_coke_000015_1_gt.png\n"
          ]
        },
        {
          "output_type": "stream",
          "name": "stderr",
          "text": [
            "frame loading (JPEG): 100%|██████████| 2/2 [00:00<00:00, 28.75it/s]\n",
            "propagate in video: 100%|██████████| 2/2 [00:00<00:00,  2.12it/s]\n"
          ]
        },
        {
          "output_type": "stream",
          "name": "stdout",
          "text": [
            "{1: (225, 105, 325, 285)}\n",
            "/content/drive/MyDrive/parallel_dots/CMU10_3D/CMU10_3D/data_2D/diet_coke_000013.jpg /content/drive/MyDrive/parallel_dots/CMU10_3D/CMU10_3D/data_2D/diet_coke_000013_1_gt.png\n"
          ]
        },
        {
          "output_type": "stream",
          "name": "stderr",
          "text": [
            "frame loading (JPEG): 100%|██████████| 2/2 [00:00<00:00, 28.57it/s]\n",
            "propagate in video: 100%|██████████| 2/2 [00:00<00:00,  2.09it/s]\n"
          ]
        },
        {
          "output_type": "stream",
          "name": "stdout",
          "text": [
            "{1: (357, 107, 445, 276)}\n",
            "/content/drive/MyDrive/parallel_dots/CMU10_3D/CMU10_3D/data_2D/diet_coke_000036.jpg /content/drive/MyDrive/parallel_dots/CMU10_3D/CMU10_3D/data_2D/diet_coke_000036_1_gt.png\n"
          ]
        },
        {
          "output_type": "stream",
          "name": "stderr",
          "text": [
            "frame loading (JPEG): 100%|██████████| 2/2 [00:00<00:00, 19.92it/s]\n",
            "propagate in video: 100%|██████████| 2/2 [00:00<00:00,  2.12it/s]\n"
          ]
        },
        {
          "output_type": "stream",
          "name": "stdout",
          "text": [
            "{1: (443, 30, 536, 202)}\n",
            "/content/drive/MyDrive/parallel_dots/CMU10_3D/CMU10_3D/data_2D/diet_coke_000018.jpg /content/drive/MyDrive/parallel_dots/CMU10_3D/CMU10_3D/data_2D/diet_coke_000018_1_gt.png\n"
          ]
        },
        {
          "output_type": "stream",
          "name": "stderr",
          "text": [
            "frame loading (JPEG): 100%|██████████| 2/2 [00:00<00:00, 17.74it/s]\n",
            "propagate in video: 100%|██████████| 2/2 [00:00<00:00,  2.12it/s]\n"
          ]
        },
        {
          "output_type": "stream",
          "name": "stdout",
          "text": [
            "{1: (105, 158, 328, 351)}\n",
            "Performance for diet_coke: {'mean_iou': 0.7600907878025357, 'precision': 0.84, 'recall': 0.84}\n",
            "/content/drive/MyDrive/parallel_dots/CMU10_3D/CMU10_3D/data_2D/hc_potroastsoup_000023.jpg /content/drive/MyDrive/parallel_dots/CMU10_3D/CMU10_3D/data_2D/hc_potroastsoup_000023_1_gt.png\n"
          ]
        },
        {
          "output_type": "stream",
          "name": "stderr",
          "text": [
            "frame loading (JPEG): 100%|██████████| 2/2 [00:00<00:00, 27.46it/s]\n",
            "propagate in video: 100%|██████████| 2/2 [00:00<00:00,  2.11it/s]\n"
          ]
        },
        {
          "output_type": "stream",
          "name": "stdout",
          "text": [
            "{1: (149, 200, 285, 335)}\n",
            "/content/drive/MyDrive/parallel_dots/CMU10_3D/CMU10_3D/data_2D/hc_potroastsoup_000038.jpg /content/drive/MyDrive/parallel_dots/CMU10_3D/CMU10_3D/data_2D/hc_potroastsoup_000038_1_gt.png\n"
          ]
        },
        {
          "output_type": "stream",
          "name": "stderr",
          "text": [
            "frame loading (JPEG): 100%|██████████| 2/2 [00:00<00:00, 29.76it/s]\n",
            "propagate in video: 100%|██████████| 2/2 [00:00<00:00,  2.13it/s]\n"
          ]
        },
        {
          "output_type": "stream",
          "name": "stdout",
          "text": [
            "{1: (149, 200, 285, 335)}\n",
            "/content/drive/MyDrive/parallel_dots/CMU10_3D/CMU10_3D/data_2D/hc_potroastsoup_000043.jpg /content/drive/MyDrive/parallel_dots/CMU10_3D/CMU10_3D/data_2D/hc_potroastsoup_000043_1_gt.png\n"
          ]
        },
        {
          "output_type": "stream",
          "name": "stderr",
          "text": [
            "frame loading (JPEG): 100%|██████████| 2/2 [00:00<00:00, 29.26it/s]\n",
            "propagate in video: 100%|██████████| 2/2 [00:00<00:00,  2.10it/s]\n"
          ]
        },
        {
          "output_type": "stream",
          "name": "stdout",
          "text": [
            "{1: (250, 220, 362, 333)}\n",
            "/content/drive/MyDrive/parallel_dots/CMU10_3D/CMU10_3D/data_2D/hc_potroastsoup_000001.jpg /content/drive/MyDrive/parallel_dots/CMU10_3D/CMU10_3D/data_2D/hc_potroastsoup_000001_1_gt.png\n"
          ]
        },
        {
          "output_type": "stream",
          "name": "stderr",
          "text": [
            "frame loading (JPEG): 100%|██████████| 2/2 [00:00<00:00, 29.50it/s]\n",
            "propagate in video: 100%|██████████| 2/2 [00:00<00:00,  2.11it/s]\n"
          ]
        },
        {
          "output_type": "stream",
          "name": "stdout",
          "text": [
            "{1: (149, 200, 286, 335)}\n",
            "/content/drive/MyDrive/parallel_dots/CMU10_3D/CMU10_3D/data_2D/hc_potroastsoup_000003.jpg /content/drive/MyDrive/parallel_dots/CMU10_3D/CMU10_3D/data_2D/hc_potroastsoup_000003_1_gt.png\n"
          ]
        },
        {
          "output_type": "stream",
          "name": "stderr",
          "text": [
            "frame loading (JPEG): 100%|██████████| 2/2 [00:00<00:00, 26.89it/s]\n",
            "propagate in video: 100%|██████████| 2/2 [00:00<00:00,  2.12it/s]\n"
          ]
        },
        {
          "output_type": "stream",
          "name": "stdout",
          "text": [
            "{1: (278, 223, 365, 298)}\n",
            "/content/drive/MyDrive/parallel_dots/CMU10_3D/CMU10_3D/data_2D/hc_potroastsoup_000033.jpg /content/drive/MyDrive/parallel_dots/CMU10_3D/CMU10_3D/data_2D/hc_potroastsoup_000033_1_gt.png\n"
          ]
        },
        {
          "output_type": "stream",
          "name": "stderr",
          "text": [
            "frame loading (JPEG): 100%|██████████| 2/2 [00:00<00:00, 30.36it/s]\n",
            "propagate in video: 100%|██████████| 2/2 [00:00<00:00,  2.13it/s]\n"
          ]
        },
        {
          "output_type": "stream",
          "name": "stdout",
          "text": [
            "{1: (209, 287, 312, 384)}\n",
            "/content/drive/MyDrive/parallel_dots/CMU10_3D/CMU10_3D/data_2D/hc_potroastsoup_000039.jpg /content/drive/MyDrive/parallel_dots/CMU10_3D/CMU10_3D/data_2D/hc_potroastsoup_000039_1_gt.png\n"
          ]
        },
        {
          "output_type": "stream",
          "name": "stderr",
          "text": [
            "frame loading (JPEG): 100%|██████████| 2/2 [00:00<00:00, 21.98it/s]\n",
            "propagate in video: 100%|██████████| 2/2 [00:00<00:00,  2.12it/s]\n"
          ]
        },
        {
          "output_type": "stream",
          "name": "stdout",
          "text": [
            "{1: (113, 223, 235, 325)}\n",
            "/content/drive/MyDrive/parallel_dots/CMU10_3D/CMU10_3D/data_2D/hc_potroastsoup_000017.jpg /content/drive/MyDrive/parallel_dots/CMU10_3D/CMU10_3D/data_2D/hc_potroastsoup_000017_1_gt.png\n"
          ]
        },
        {
          "output_type": "stream",
          "name": "stderr",
          "text": [
            "frame loading (JPEG): 100%|██████████| 2/2 [00:00<00:00, 28.31it/s]\n",
            "propagate in video: 100%|██████████| 2/2 [00:00<00:00,  2.11it/s]\n"
          ]
        },
        {
          "output_type": "stream",
          "name": "stdout",
          "text": [
            "{1: (243, 97, 341, 177)}\n",
            "/content/drive/MyDrive/parallel_dots/CMU10_3D/CMU10_3D/data_2D/hc_potroastsoup_000029.jpg /content/drive/MyDrive/parallel_dots/CMU10_3D/CMU10_3D/data_2D/hc_potroastsoup_000029_1_gt.png\n"
          ]
        },
        {
          "output_type": "stream",
          "name": "stderr",
          "text": [
            "frame loading (JPEG): 100%|██████████| 2/2 [00:00<00:00, 18.58it/s]\n",
            "propagate in video: 100%|██████████| 2/2 [00:00<00:00,  2.14it/s]\n"
          ]
        },
        {
          "output_type": "stream",
          "name": "stdout",
          "text": [
            "{1: (319, 172, 508, 349)}\n",
            "/content/drive/MyDrive/parallel_dots/CMU10_3D/CMU10_3D/data_2D/hc_potroastsoup_000030.jpg /content/drive/MyDrive/parallel_dots/CMU10_3D/CMU10_3D/data_2D/hc_potroastsoup_000030_1_gt.png\n"
          ]
        },
        {
          "output_type": "stream",
          "name": "stderr",
          "text": [
            "frame loading (JPEG): 100%|██████████| 2/2 [00:00<00:00, 20.46it/s]\n",
            "propagate in video: 100%|██████████| 2/2 [00:00<00:00,  2.14it/s]\n"
          ]
        },
        {
          "output_type": "stream",
          "name": "stdout",
          "text": [
            "{1: (316, 174, 452, 298)}\n",
            "/content/drive/MyDrive/parallel_dots/CMU10_3D/CMU10_3D/data_2D/hc_potroastsoup_000047.jpg /content/drive/MyDrive/parallel_dots/CMU10_3D/CMU10_3D/data_2D/hc_potroastsoup_000047_1_gt.png\n"
          ]
        },
        {
          "output_type": "stream",
          "name": "stderr",
          "text": [
            "frame loading (JPEG): 100%|██████████| 2/2 [00:00<00:00, 29.34it/s]\n",
            "propagate in video: 100%|██████████| 2/2 [00:00<00:00,  2.14it/s]\n"
          ]
        },
        {
          "output_type": "stream",
          "name": "stdout",
          "text": [
            "{1: (197, 160, 289, 233)}\n",
            "/content/drive/MyDrive/parallel_dots/CMU10_3D/CMU10_3D/data_2D/hc_potroastsoup_000025.jpg /content/drive/MyDrive/parallel_dots/CMU10_3D/CMU10_3D/data_2D/hc_potroastsoup_000025_1_gt.png\n"
          ]
        },
        {
          "output_type": "stream",
          "name": "stderr",
          "text": [
            "frame loading (JPEG): 100%|██████████| 2/2 [00:00<00:00, 24.13it/s]\n",
            "propagate in video: 100%|██████████| 2/2 [00:00<00:00,  2.13it/s]\n"
          ]
        },
        {
          "output_type": "stream",
          "name": "stdout",
          "text": [
            "{1: (298, 33, 396, 126)}\n",
            "/content/drive/MyDrive/parallel_dots/CMU10_3D/CMU10_3D/data_2D/hc_potroastsoup_000015.jpg /content/drive/MyDrive/parallel_dots/CMU10_3D/CMU10_3D/data_2D/hc_potroastsoup_000015_1_gt.png\n"
          ]
        },
        {
          "output_type": "stream",
          "name": "stderr",
          "text": [
            "frame loading (JPEG): 100%|██████████| 2/2 [00:00<00:00, 27.46it/s]\n",
            "propagate in video: 100%|██████████| 2/2 [00:00<00:00,  2.13it/s]\n"
          ]
        },
        {
          "output_type": "stream",
          "name": "stdout",
          "text": [
            "{1: (239, 134, 343, 222)}\n",
            "/content/drive/MyDrive/parallel_dots/CMU10_3D/CMU10_3D/data_2D/hc_potroastsoup_000002.jpg /content/drive/MyDrive/parallel_dots/CMU10_3D/CMU10_3D/data_2D/hc_potroastsoup_000002_1_gt.png\n"
          ]
        },
        {
          "output_type": "stream",
          "name": "stderr",
          "text": [
            "frame loading (JPEG): 100%|██████████| 2/2 [00:00<00:00, 28.77it/s]\n",
            "propagate in video: 100%|██████████| 2/2 [00:00<00:00,  2.13it/s]\n"
          ]
        },
        {
          "output_type": "stream",
          "name": "stdout",
          "text": [
            "{1: (152, 51, 268, 147)}\n",
            "/content/drive/MyDrive/parallel_dots/CMU10_3D/CMU10_3D/data_2D/hc_potroastsoup_000050.jpg /content/drive/MyDrive/parallel_dots/CMU10_3D/CMU10_3D/data_2D/hc_potroastsoup_000050_1_gt.png\n"
          ]
        },
        {
          "output_type": "stream",
          "name": "stderr",
          "text": [
            "frame loading (JPEG): 100%|██████████| 2/2 [00:00<00:00, 29.95it/s]\n",
            "propagate in video: 100%|██████████| 2/2 [00:00<00:00,  2.11it/s]\n"
          ]
        },
        {
          "output_type": "stream",
          "name": "stdout",
          "text": [
            "{1: (208, 238, 361, 395)}\n",
            "/content/drive/MyDrive/parallel_dots/CMU10_3D/CMU10_3D/data_2D/hc_potroastsoup_000007.jpg /content/drive/MyDrive/parallel_dots/CMU10_3D/CMU10_3D/data_2D/hc_potroastsoup_000007_1_gt.png\n"
          ]
        },
        {
          "output_type": "stream",
          "name": "stderr",
          "text": [
            "frame loading (JPEG): 100%|██████████| 2/2 [00:00<00:00, 15.19it/s]\n",
            "propagate in video: 100%|██████████| 2/2 [00:00<00:00,  2.12it/s]\n"
          ]
        },
        {
          "output_type": "stream",
          "name": "stdout",
          "text": [
            "{1: (235, 201, 321, 278)}\n",
            "/content/drive/MyDrive/parallel_dots/CMU10_3D/CMU10_3D/data_2D/hc_potroastsoup_000049.jpg /content/drive/MyDrive/parallel_dots/CMU10_3D/CMU10_3D/data_2D/hc_potroastsoup_000049_1_gt.png\n"
          ]
        },
        {
          "output_type": "stream",
          "name": "stderr",
          "text": [
            "frame loading (JPEG): 100%|██████████| 2/2 [00:00<00:00, 20.22it/s]\n",
            "propagate in video: 100%|██████████| 2/2 [00:00<00:00,  2.11it/s]\n"
          ]
        },
        {
          "output_type": "stream",
          "name": "stdout",
          "text": [
            "{1: (151, 197, 274, 325)}\n",
            "/content/drive/MyDrive/parallel_dots/CMU10_3D/CMU10_3D/data_2D/hc_potroastsoup_000009.jpg /content/drive/MyDrive/parallel_dots/CMU10_3D/CMU10_3D/data_2D/hc_potroastsoup_000009_1_gt.png\n"
          ]
        },
        {
          "output_type": "stream",
          "name": "stderr",
          "text": [
            "frame loading (JPEG): 100%|██████████| 2/2 [00:00<00:00, 28.72it/s]\n",
            "propagate in video: 100%|██████████| 2/2 [00:00<00:00,  2.13it/s]\n"
          ]
        },
        {
          "output_type": "stream",
          "name": "stdout",
          "text": [
            "{1: (63, 199, 179, 300)}\n",
            "/content/drive/MyDrive/parallel_dots/CMU10_3D/CMU10_3D/data_2D/hc_potroastsoup_000031.jpg /content/drive/MyDrive/parallel_dots/CMU10_3D/CMU10_3D/data_2D/hc_potroastsoup_000031_1_gt.png\n"
          ]
        },
        {
          "output_type": "stream",
          "name": "stderr",
          "text": [
            "frame loading (JPEG): 100%|██████████| 2/2 [00:00<00:00, 24.39it/s]\n",
            "propagate in video: 100%|██████████| 2/2 [00:00<00:00,  2.12it/s]\n"
          ]
        },
        {
          "output_type": "stream",
          "name": "stdout",
          "text": [
            "{1: (159, 38, 328, 462)}\n",
            "/content/drive/MyDrive/parallel_dots/CMU10_3D/CMU10_3D/data_2D/hc_potroastsoup_000006.jpg /content/drive/MyDrive/parallel_dots/CMU10_3D/CMU10_3D/data_2D/hc_potroastsoup_000006_1_gt.png\n"
          ]
        },
        {
          "output_type": "stream",
          "name": "stderr",
          "text": [
            "frame loading (JPEG): 100%|██████████| 2/2 [00:00<00:00, 28.46it/s]\n",
            "propagate in video: 100%|██████████| 2/2 [00:00<00:00,  2.13it/s]\n"
          ]
        },
        {
          "output_type": "stream",
          "name": "stdout",
          "text": [
            "{1: (352, 161, 461, 273)}\n",
            "/content/drive/MyDrive/parallel_dots/CMU10_3D/CMU10_3D/data_2D/hc_potroastsoup_000026.jpg /content/drive/MyDrive/parallel_dots/CMU10_3D/CMU10_3D/data_2D/hc_potroastsoup_000026_1_gt.png\n"
          ]
        },
        {
          "output_type": "stream",
          "name": "stderr",
          "text": [
            "frame loading (JPEG): 100%|██████████| 2/2 [00:00<00:00, 29.45it/s]\n",
            "propagate in video: 100%|██████████| 2/2 [00:00<00:00,  2.12it/s]\n"
          ]
        },
        {
          "output_type": "stream",
          "name": "stdout",
          "text": [
            "{1: (133, 115, 287, 269)}\n",
            "/content/drive/MyDrive/parallel_dots/CMU10_3D/CMU10_3D/data_2D/hc_potroastsoup_000022.jpg /content/drive/MyDrive/parallel_dots/CMU10_3D/CMU10_3D/data_2D/hc_potroastsoup_000022_1_gt.png\n"
          ]
        },
        {
          "output_type": "stream",
          "name": "stderr",
          "text": [
            "frame loading (JPEG): 100%|██████████| 2/2 [00:00<00:00, 28.57it/s]\n",
            "propagate in video: 100%|██████████| 2/2 [00:00<00:00,  2.12it/s]\n"
          ]
        },
        {
          "output_type": "stream",
          "name": "stdout",
          "text": [
            "{1: (292, 154, 397, 285)}\n",
            "/content/drive/MyDrive/parallel_dots/CMU10_3D/CMU10_3D/data_2D/hc_potroastsoup_000005.jpg /content/drive/MyDrive/parallel_dots/CMU10_3D/CMU10_3D/data_2D/hc_potroastsoup_000005_1_gt.png\n"
          ]
        },
        {
          "output_type": "stream",
          "name": "stderr",
          "text": [
            "frame loading (JPEG): 100%|██████████| 2/2 [00:00<00:00, 19.21it/s]\n",
            "propagate in video: 100%|██████████| 2/2 [00:00<00:00,  2.13it/s]\n"
          ]
        },
        {
          "output_type": "stream",
          "name": "stdout",
          "text": [
            "{1: (316, 270, 438, 376)}\n",
            "/content/drive/MyDrive/parallel_dots/CMU10_3D/CMU10_3D/data_2D/hc_potroastsoup_000041.jpg /content/drive/MyDrive/parallel_dots/CMU10_3D/CMU10_3D/data_2D/hc_potroastsoup_000041_1_gt.png\n"
          ]
        },
        {
          "output_type": "stream",
          "name": "stderr",
          "text": [
            "frame loading (JPEG): 100%|██████████| 2/2 [00:00<00:00, 20.22it/s]\n",
            "propagate in video: 100%|██████████| 2/2 [00:00<00:00,  2.12it/s]\n"
          ]
        },
        {
          "output_type": "stream",
          "name": "stdout",
          "text": [
            "{1: (263, 154, 407, 296)}\n",
            "/content/drive/MyDrive/parallel_dots/CMU10_3D/CMU10_3D/data_2D/hc_potroastsoup_000034.jpg /content/drive/MyDrive/parallel_dots/CMU10_3D/CMU10_3D/data_2D/hc_potroastsoup_000034_1_gt.png\n"
          ]
        },
        {
          "output_type": "stream",
          "name": "stderr",
          "text": [
            "frame loading (JPEG): 100%|██████████| 2/2 [00:00<00:00, 28.79it/s]\n",
            "propagate in video: 100%|██████████| 2/2 [00:00<00:00,  2.12it/s]\n"
          ]
        },
        {
          "output_type": "stream",
          "name": "stdout",
          "text": [
            "{1: (284, 157, 393, 256)}\n",
            "/content/drive/MyDrive/parallel_dots/CMU10_3D/CMU10_3D/data_2D/hc_potroastsoup_000044.jpg /content/drive/MyDrive/parallel_dots/CMU10_3D/CMU10_3D/data_2D/hc_potroastsoup_000044_1_gt.png\n"
          ]
        },
        {
          "output_type": "stream",
          "name": "stderr",
          "text": [
            "frame loading (JPEG): 100%|██████████| 2/2 [00:00<00:00, 24.81it/s]\n",
            "propagate in video: 100%|██████████| 2/2 [00:00<00:00,  2.12it/s]\n"
          ]
        },
        {
          "output_type": "stream",
          "name": "stdout",
          "text": [
            "{1: (262, 172, 471, 285)}\n",
            "/content/drive/MyDrive/parallel_dots/CMU10_3D/CMU10_3D/data_2D/hc_potroastsoup_000032.jpg /content/drive/MyDrive/parallel_dots/CMU10_3D/CMU10_3D/data_2D/hc_potroastsoup_000032_1_gt.png\n"
          ]
        },
        {
          "output_type": "stream",
          "name": "stderr",
          "text": [
            "frame loading (JPEG): 100%|██████████| 2/2 [00:00<00:00, 26.83it/s]\n",
            "propagate in video: 100%|██████████| 2/2 [00:00<00:00,  2.12it/s]\n"
          ]
        },
        {
          "output_type": "stream",
          "name": "stdout",
          "text": [
            "{1: (144, 210, 239, 296)}\n",
            "/content/drive/MyDrive/parallel_dots/CMU10_3D/CMU10_3D/data_2D/hc_potroastsoup_000021.jpg /content/drive/MyDrive/parallel_dots/CMU10_3D/CMU10_3D/data_2D/hc_potroastsoup_000021_1_gt.png\n"
          ]
        },
        {
          "output_type": "stream",
          "name": "stderr",
          "text": [
            "frame loading (JPEG): 100%|██████████| 2/2 [00:00<00:00, 28.70it/s]\n",
            "propagate in video: 100%|██████████| 2/2 [00:00<00:00,  2.11it/s]\n"
          ]
        },
        {
          "output_type": "stream",
          "name": "stdout",
          "text": [
            "{1: (240, 123, 364, 257)}\n",
            "/content/drive/MyDrive/parallel_dots/CMU10_3D/CMU10_3D/data_2D/hc_potroastsoup_000012.jpg /content/drive/MyDrive/parallel_dots/CMU10_3D/CMU10_3D/data_2D/hc_potroastsoup_000012_1_gt.png\n"
          ]
        },
        {
          "output_type": "stream",
          "name": "stderr",
          "text": [
            "frame loading (JPEG): 100%|██████████| 2/2 [00:00<00:00, 29.57it/s]\n",
            "propagate in video: 100%|██████████| 2/2 [00:00<00:00,  2.12it/s]\n"
          ]
        },
        {
          "output_type": "stream",
          "name": "stdout",
          "text": [
            "{1: (257, 207, 350, 294)}\n",
            "/content/drive/MyDrive/parallel_dots/CMU10_3D/CMU10_3D/data_2D/hc_potroastsoup_000016.jpg /content/drive/MyDrive/parallel_dots/CMU10_3D/CMU10_3D/data_2D/hc_potroastsoup_000016_1_gt.png\n"
          ]
        },
        {
          "output_type": "stream",
          "name": "stderr",
          "text": [
            "frame loading (JPEG): 100%|██████████| 2/2 [00:00<00:00, 20.02it/s]\n",
            "propagate in video: 100%|██████████| 2/2 [00:00<00:00,  2.13it/s]\n"
          ]
        },
        {
          "output_type": "stream",
          "name": "stdout",
          "text": [
            "{1: (149, 200, 285, 335)}\n",
            "/content/drive/MyDrive/parallel_dots/CMU10_3D/CMU10_3D/data_2D/hc_potroastsoup_000013.jpg /content/drive/MyDrive/parallel_dots/CMU10_3D/CMU10_3D/data_2D/hc_potroastsoup_000013_1_gt.png\n"
          ]
        },
        {
          "output_type": "stream",
          "name": "stderr",
          "text": [
            "frame loading (JPEG): 100%|██████████| 2/2 [00:00<00:00, 18.59it/s]\n",
            "propagate in video: 100%|██████████| 2/2 [00:00<00:00,  2.12it/s]\n"
          ]
        },
        {
          "output_type": "stream",
          "name": "stdout",
          "text": [
            "{1: (310, 174, 449, 317)}\n",
            "/content/drive/MyDrive/parallel_dots/CMU10_3D/CMU10_3D/data_2D/hc_potroastsoup_000035.jpg /content/drive/MyDrive/parallel_dots/CMU10_3D/CMU10_3D/data_2D/hc_potroastsoup_000035_1_gt.png\n"
          ]
        },
        {
          "output_type": "stream",
          "name": "stderr",
          "text": [
            "frame loading (JPEG): 100%|██████████| 2/2 [00:00<00:00, 27.65it/s]\n",
            "propagate in video: 100%|██████████| 2/2 [00:00<00:00,  2.11it/s]\n"
          ]
        },
        {
          "output_type": "stream",
          "name": "stdout",
          "text": [
            "{1: (109, 139, 263, 291)}\n",
            "/content/drive/MyDrive/parallel_dots/CMU10_3D/CMU10_3D/data_2D/hc_potroastsoup_000011.jpg /content/drive/MyDrive/parallel_dots/CMU10_3D/CMU10_3D/data_2D/hc_potroastsoup_000011_1_gt.png\n"
          ]
        },
        {
          "output_type": "stream",
          "name": "stderr",
          "text": [
            "frame loading (JPEG): 100%|██████████| 2/2 [00:00<00:00, 28.77it/s]\n",
            "propagate in video: 100%|██████████| 2/2 [00:00<00:00,  2.12it/s]\n"
          ]
        },
        {
          "output_type": "stream",
          "name": "stdout",
          "text": [
            "{1: (233, 164, 338, 243)}\n",
            "/content/drive/MyDrive/parallel_dots/CMU10_3D/CMU10_3D/data_2D/hc_potroastsoup_000008.jpg /content/drive/MyDrive/parallel_dots/CMU10_3D/CMU10_3D/data_2D/hc_potroastsoup_000008_1_gt.png\n"
          ]
        },
        {
          "output_type": "stream",
          "name": "stderr",
          "text": [
            "frame loading (JPEG): 100%|██████████| 2/2 [00:00<00:00, 27.21it/s]\n",
            "propagate in video: 100%|██████████| 2/2 [00:00<00:00,  2.11it/s]\n"
          ]
        },
        {
          "output_type": "stream",
          "name": "stdout",
          "text": [
            "{1: (289, 54, 371, 190)}\n",
            "/content/drive/MyDrive/parallel_dots/CMU10_3D/CMU10_3D/data_2D/hc_potroastsoup_000014.jpg /content/drive/MyDrive/parallel_dots/CMU10_3D/CMU10_3D/data_2D/hc_potroastsoup_000014_1_gt.png\n"
          ]
        },
        {
          "output_type": "stream",
          "name": "stderr",
          "text": [
            "frame loading (JPEG): 100%|██████████| 2/2 [00:00<00:00, 29.77it/s]\n",
            "propagate in video: 100%|██████████| 2/2 [00:00<00:00,  2.11it/s]\n"
          ]
        },
        {
          "output_type": "stream",
          "name": "stdout",
          "text": [
            "{1: (193, 164, 306, 266)}\n",
            "/content/drive/MyDrive/parallel_dots/CMU10_3D/CMU10_3D/data_2D/hc_potroastsoup_000018.jpg /content/drive/MyDrive/parallel_dots/CMU10_3D/CMU10_3D/data_2D/hc_potroastsoup_000018_1_gt.png\n"
          ]
        },
        {
          "output_type": "stream",
          "name": "stderr",
          "text": [
            "frame loading (JPEG): 100%|██████████| 2/2 [00:00<00:00, 29.22it/s]\n",
            "propagate in video: 100%|██████████| 2/2 [00:00<00:00,  2.12it/s]\n"
          ]
        },
        {
          "output_type": "stream",
          "name": "stdout",
          "text": [
            "{1: (182, 117, 301, 228)}\n",
            "/content/drive/MyDrive/parallel_dots/CMU10_3D/CMU10_3D/data_2D/hc_potroastsoup_000040.jpg /content/drive/MyDrive/parallel_dots/CMU10_3D/CMU10_3D/data_2D/hc_potroastsoup_000040_1_gt.png\n"
          ]
        },
        {
          "output_type": "stream",
          "name": "stderr",
          "text": [
            "frame loading (JPEG): 100%|██████████| 2/2 [00:00<00:00, 18.36it/s]\n",
            "propagate in video: 100%|██████████| 2/2 [00:00<00:00,  2.12it/s]\n"
          ]
        },
        {
          "output_type": "stream",
          "name": "stdout",
          "text": [
            "{1: (149, 200, 285, 335)}\n",
            "/content/drive/MyDrive/parallel_dots/CMU10_3D/CMU10_3D/data_2D/hc_potroastsoup_000048.jpg /content/drive/MyDrive/parallel_dots/CMU10_3D/CMU10_3D/data_2D/hc_potroastsoup_000048_1_gt.png\n"
          ]
        },
        {
          "output_type": "stream",
          "name": "stderr",
          "text": [
            "frame loading (JPEG): 100%|██████████| 2/2 [00:00<00:00, 20.72it/s]\n",
            "propagate in video: 100%|██████████| 2/2 [00:00<00:00,  2.11it/s]\n"
          ]
        },
        {
          "output_type": "stream",
          "name": "stdout",
          "text": [
            "{1: (295, 222, 415, 341)}\n",
            "/content/drive/MyDrive/parallel_dots/CMU10_3D/CMU10_3D/data_2D/hc_potroastsoup_000027.jpg /content/drive/MyDrive/parallel_dots/CMU10_3D/CMU10_3D/data_2D/hc_potroastsoup_000027_1_gt.png\n"
          ]
        },
        {
          "output_type": "stream",
          "name": "stderr",
          "text": [
            "frame loading (JPEG): 100%|██████████| 2/2 [00:00<00:00, 29.35it/s]\n",
            "propagate in video: 100%|██████████| 2/2 [00:00<00:00,  2.11it/s]\n"
          ]
        },
        {
          "output_type": "stream",
          "name": "stdout",
          "text": [
            "{1: (210, 79, 313, 204)}\n",
            "/content/drive/MyDrive/parallel_dots/CMU10_3D/CMU10_3D/data_2D/hc_potroastsoup_000042.jpg /content/drive/MyDrive/parallel_dots/CMU10_3D/CMU10_3D/data_2D/hc_potroastsoup_000042_1_gt.png\n"
          ]
        },
        {
          "output_type": "stream",
          "name": "stderr",
          "text": [
            "frame loading (JPEG): 100%|██████████| 2/2 [00:00<00:00, 29.57it/s]\n",
            "propagate in video: 100%|██████████| 2/2 [00:00<00:00,  2.13it/s]\n"
          ]
        },
        {
          "output_type": "stream",
          "name": "stdout",
          "text": [
            "{1: (149, 200, 285, 335)}\n",
            "/content/drive/MyDrive/parallel_dots/CMU10_3D/CMU10_3D/data_2D/hc_potroastsoup_000019.jpg /content/drive/MyDrive/parallel_dots/CMU10_3D/CMU10_3D/data_2D/hc_potroastsoup_000019_1_gt.png\n"
          ]
        },
        {
          "output_type": "stream",
          "name": "stderr",
          "text": [
            "frame loading (JPEG): 100%|██████████| 2/2 [00:00<00:00, 23.76it/s]\n",
            "propagate in video: 100%|██████████| 2/2 [00:00<00:00,  2.12it/s]\n"
          ]
        },
        {
          "output_type": "stream",
          "name": "stdout",
          "text": [
            "{1: (264, 147, 362, 264)}\n",
            "/content/drive/MyDrive/parallel_dots/CMU10_3D/CMU10_3D/data_2D/hc_potroastsoup_000020.jpg /content/drive/MyDrive/parallel_dots/CMU10_3D/CMU10_3D/data_2D/hc_potroastsoup_000020_1_gt.png\n"
          ]
        },
        {
          "output_type": "stream",
          "name": "stderr",
          "text": [
            "frame loading (JPEG): 100%|██████████| 2/2 [00:00<00:00, 29.37it/s]\n",
            "propagate in video: 100%|██████████| 2/2 [00:00<00:00,  2.11it/s]\n"
          ]
        },
        {
          "output_type": "stream",
          "name": "stdout",
          "text": [
            "{1: (220, 132, 357, 272)}\n",
            "/content/drive/MyDrive/parallel_dots/CMU10_3D/CMU10_3D/data_2D/hc_potroastsoup_000010.jpg /content/drive/MyDrive/parallel_dots/CMU10_3D/CMU10_3D/data_2D/hc_potroastsoup_000010_1_gt.png\n"
          ]
        },
        {
          "output_type": "stream",
          "name": "stderr",
          "text": [
            "frame loading (JPEG): 100%|██████████| 2/2 [00:00<00:00, 27.52it/s]\n",
            "propagate in video: 100%|██████████| 2/2 [00:00<00:00,  2.11it/s]\n"
          ]
        },
        {
          "output_type": "stream",
          "name": "stdout",
          "text": [
            "{1: (154, 110, 286, 226)}\n",
            "/content/drive/MyDrive/parallel_dots/CMU10_3D/CMU10_3D/data_2D/hc_potroastsoup_000004.jpg /content/drive/MyDrive/parallel_dots/CMU10_3D/CMU10_3D/data_2D/hc_potroastsoup_000004_1_gt.png\n"
          ]
        },
        {
          "output_type": "stream",
          "name": "stderr",
          "text": [
            "frame loading (JPEG): 100%|██████████| 2/2 [00:00<00:00, 19.86it/s]\n",
            "propagate in video: 100%|██████████| 2/2 [00:00<00:00,  2.10it/s]\n"
          ]
        },
        {
          "output_type": "stream",
          "name": "stdout",
          "text": [
            "{1: (259, 282, 355, 365)}\n",
            "/content/drive/MyDrive/parallel_dots/CMU10_3D/CMU10_3D/data_2D/hc_potroastsoup_000037.jpg /content/drive/MyDrive/parallel_dots/CMU10_3D/CMU10_3D/data_2D/hc_potroastsoup_000037_1_gt.png\n"
          ]
        },
        {
          "output_type": "stream",
          "name": "stderr",
          "text": [
            "frame loading (JPEG): 100%|██████████| 2/2 [00:00<00:00, 25.48it/s]\n",
            "propagate in video: 100%|██████████| 2/2 [00:00<00:00,  2.11it/s]\n"
          ]
        },
        {
          "output_type": "stream",
          "name": "stdout",
          "text": [
            "{1: (249, 218, 365, 338)}\n",
            "/content/drive/MyDrive/parallel_dots/CMU10_3D/CMU10_3D/data_2D/hc_potroastsoup_000036.jpg /content/drive/MyDrive/parallel_dots/CMU10_3D/CMU10_3D/data_2D/hc_potroastsoup_000036_1_gt.png\n"
          ]
        },
        {
          "output_type": "stream",
          "name": "stderr",
          "text": [
            "frame loading (JPEG): 100%|██████████| 2/2 [00:00<00:00, 27.80it/s]\n",
            "propagate in video: 100%|██████████| 2/2 [00:00<00:00,  2.12it/s]\n"
          ]
        },
        {
          "output_type": "stream",
          "name": "stdout",
          "text": [
            "{1: (267, 168, 359, 262)}\n",
            "/content/drive/MyDrive/parallel_dots/CMU10_3D/CMU10_3D/data_2D/hc_potroastsoup_000046.jpg /content/drive/MyDrive/parallel_dots/CMU10_3D/CMU10_3D/data_2D/hc_potroastsoup_000046_1_gt.png\n"
          ]
        },
        {
          "output_type": "stream",
          "name": "stderr",
          "text": [
            "frame loading (JPEG): 100%|██████████| 2/2 [00:00<00:00, 29.89it/s]\n",
            "propagate in video: 100%|██████████| 2/2 [00:00<00:00,  2.11it/s]\n"
          ]
        },
        {
          "output_type": "stream",
          "name": "stdout",
          "text": [
            "{1: (403, 149, 602, 345)}\n",
            "/content/drive/MyDrive/parallel_dots/CMU10_3D/CMU10_3D/data_2D/hc_potroastsoup_000028.jpg /content/drive/MyDrive/parallel_dots/CMU10_3D/CMU10_3D/data_2D/hc_potroastsoup_000028_1_gt.png\n"
          ]
        },
        {
          "output_type": "stream",
          "name": "stderr",
          "text": [
            "frame loading (JPEG): 100%|██████████| 2/2 [00:00<00:00, 27.43it/s]\n",
            "propagate in video: 100%|██████████| 2/2 [00:00<00:00,  2.11it/s]\n"
          ]
        },
        {
          "output_type": "stream",
          "name": "stdout",
          "text": [
            "{1: (306, 133, 430, 258)}\n",
            "/content/drive/MyDrive/parallel_dots/CMU10_3D/CMU10_3D/data_2D/hc_potroastsoup_000024.jpg /content/drive/MyDrive/parallel_dots/CMU10_3D/CMU10_3D/data_2D/hc_potroastsoup_000024_1_gt.png\n"
          ]
        },
        {
          "output_type": "stream",
          "name": "stderr",
          "text": [
            "frame loading (JPEG): 100%|██████████| 2/2 [00:00<00:00, 28.59it/s]\n",
            "propagate in video: 100%|██████████| 2/2 [00:00<00:00,  2.13it/s]\n"
          ]
        },
        {
          "output_type": "stream",
          "name": "stdout",
          "text": [
            "{1: (149, 200, 285, 335)}\n",
            "/content/drive/MyDrive/parallel_dots/CMU10_3D/CMU10_3D/data_2D/hc_potroastsoup_000045.jpg /content/drive/MyDrive/parallel_dots/CMU10_3D/CMU10_3D/data_2D/hc_potroastsoup_000045_1_gt.png\n"
          ]
        },
        {
          "output_type": "stream",
          "name": "stderr",
          "text": [
            "frame loading (JPEG): 100%|██████████| 2/2 [00:00<00:00, 29.28it/s]\n",
            "propagate in video: 100%|██████████| 2/2 [00:00<00:00,  2.12it/s]\n"
          ]
        },
        {
          "output_type": "stream",
          "name": "stdout",
          "text": [
            "{1: (238, 28, 342, 118)}\n",
            "Performance for hc_potroastsoup: {'mean_iou': 0.7568471381463258, 'precision': 0.82, 'recall': 0.82}\n",
            "/content/drive/MyDrive/parallel_dots/CMU10_3D/CMU10_3D/data_2D/juicebox_000007.jpg /content/drive/MyDrive/parallel_dots/CMU10_3D/CMU10_3D/data_2D/juicebox_000007_1_gt.png\n"
          ]
        },
        {
          "output_type": "stream",
          "name": "stderr",
          "text": [
            "frame loading (JPEG): 100%|██████████| 2/2 [00:00<00:00, 22.07it/s]\n",
            "propagate in video: 100%|██████████| 2/2 [00:00<00:00,  2.13it/s]\n"
          ]
        },
        {
          "output_type": "stream",
          "name": "stdout",
          "text": [
            "{1: (193, 226, 260, 342)}\n",
            "/content/drive/MyDrive/parallel_dots/CMU10_3D/CMU10_3D/data_2D/juicebox_000050.jpg /content/drive/MyDrive/parallel_dots/CMU10_3D/CMU10_3D/data_2D/juicebox_000050_1_gt.png\n"
          ]
        },
        {
          "output_type": "stream",
          "name": "stderr",
          "text": [
            "frame loading (JPEG): 100%|██████████| 2/2 [00:00<00:00, 29.38it/s]\n",
            "propagate in video: 100%|██████████| 2/2 [00:00<00:00,  2.11it/s]\n"
          ]
        },
        {
          "output_type": "stream",
          "name": "stdout",
          "text": [
            "{1: (266, 225, 331, 316)}\n",
            "/content/drive/MyDrive/parallel_dots/CMU10_3D/CMU10_3D/data_2D/juicebox_000020.jpg /content/drive/MyDrive/parallel_dots/CMU10_3D/CMU10_3D/data_2D/juicebox_000020_1_gt.png\n"
          ]
        },
        {
          "output_type": "stream",
          "name": "stderr",
          "text": [
            "frame loading (JPEG): 100%|██████████| 2/2 [00:00<00:00, 28.93it/s]\n",
            "propagate in video: 100%|██████████| 2/2 [00:00<00:00,  2.11it/s]\n"
          ]
        },
        {
          "output_type": "stream",
          "name": "stdout",
          "text": [
            "{1: (266, 225, 331, 316)}\n",
            "/content/drive/MyDrive/parallel_dots/CMU10_3D/CMU10_3D/data_2D/juicebox_000001.jpg /content/drive/MyDrive/parallel_dots/CMU10_3D/CMU10_3D/data_2D/juicebox_000001_1_gt.png\n"
          ]
        },
        {
          "output_type": "stream",
          "name": "stderr",
          "text": [
            "frame loading (JPEG): 100%|██████████| 2/2 [00:00<00:00, 25.63it/s]\n",
            "propagate in video: 100%|██████████| 2/2 [00:00<00:00,  2.12it/s]\n"
          ]
        },
        {
          "output_type": "stream",
          "name": "stdout",
          "text": [
            "{1: (266, 226, 331, 315)}\n",
            "/content/drive/MyDrive/parallel_dots/CMU10_3D/CMU10_3D/data_2D/juicebox_000035.jpg /content/drive/MyDrive/parallel_dots/CMU10_3D/CMU10_3D/data_2D/juicebox_000035_1_gt.png\n"
          ]
        },
        {
          "output_type": "stream",
          "name": "stderr",
          "text": [
            "frame loading (JPEG): 100%|██████████| 2/2 [00:00<00:00, 27.91it/s]\n",
            "propagate in video: 100%|██████████| 2/2 [00:00<00:00,  2.11it/s]\n"
          ]
        },
        {
          "output_type": "stream",
          "name": "stdout",
          "text": [
            "{1: (266, 225, 331, 316)}\n",
            "/content/drive/MyDrive/parallel_dots/CMU10_3D/CMU10_3D/data_2D/juicebox_000013.jpg /content/drive/MyDrive/parallel_dots/CMU10_3D/CMU10_3D/data_2D/juicebox_000013_1_gt.png\n"
          ]
        },
        {
          "output_type": "stream",
          "name": "stderr",
          "text": [
            "frame loading (JPEG): 100%|██████████| 2/2 [00:00<00:00, 23.56it/s]\n",
            "propagate in video: 100%|██████████| 2/2 [00:00<00:00,  2.12it/s]\n"
          ]
        },
        {
          "output_type": "stream",
          "name": "stdout",
          "text": [
            "{1: (266, 225, 331, 316)}\n",
            "/content/drive/MyDrive/parallel_dots/CMU10_3D/CMU10_3D/data_2D/juicebox_000026.jpg /content/drive/MyDrive/parallel_dots/CMU10_3D/CMU10_3D/data_2D/juicebox_000026_1_gt.png\n"
          ]
        },
        {
          "output_type": "stream",
          "name": "stderr",
          "text": [
            "frame loading (JPEG): 100%|██████████| 2/2 [00:00<00:00, 26.49it/s]\n",
            "propagate in video: 100%|██████████| 2/2 [00:00<00:00,  2.12it/s]\n"
          ]
        },
        {
          "output_type": "stream",
          "name": "stdout",
          "text": [
            "{1: (266, 225, 331, 316)}\n",
            "/content/drive/MyDrive/parallel_dots/CMU10_3D/CMU10_3D/data_2D/juicebox_000034.jpg /content/drive/MyDrive/parallel_dots/CMU10_3D/CMU10_3D/data_2D/juicebox_000034_1_gt.png\n"
          ]
        },
        {
          "output_type": "stream",
          "name": "stderr",
          "text": [
            "frame loading (JPEG): 100%|██████████| 2/2 [00:00<00:00, 21.46it/s]\n",
            "propagate in video: 100%|██████████| 2/2 [00:00<00:00,  2.13it/s]\n"
          ]
        },
        {
          "output_type": "stream",
          "name": "stdout",
          "text": [
            "{1: (266, 225, 331, 316)}\n",
            "/content/drive/MyDrive/parallel_dots/CMU10_3D/CMU10_3D/data_2D/juicebox_000047.jpg /content/drive/MyDrive/parallel_dots/CMU10_3D/CMU10_3D/data_2D/juicebox_000047_1_gt.png\n"
          ]
        },
        {
          "output_type": "stream",
          "name": "stderr",
          "text": [
            "frame loading (JPEG): 100%|██████████| 2/2 [00:00<00:00, 26.74it/s]\n",
            "propagate in video: 100%|██████████| 2/2 [00:00<00:00,  2.12it/s]\n"
          ]
        },
        {
          "output_type": "stream",
          "name": "stdout",
          "text": [
            "{1: (266, 225, 331, 316)}\n",
            "/content/drive/MyDrive/parallel_dots/CMU10_3D/CMU10_3D/data_2D/juicebox_000038.jpg /content/drive/MyDrive/parallel_dots/CMU10_3D/CMU10_3D/data_2D/juicebox_000038_1_gt.png\n"
          ]
        },
        {
          "output_type": "stream",
          "name": "stderr",
          "text": [
            "frame loading (JPEG): 100%|██████████| 2/2 [00:00<00:00, 28.98it/s]\n",
            "propagate in video: 100%|██████████| 2/2 [00:00<00:00,  2.12it/s]\n"
          ]
        },
        {
          "output_type": "stream",
          "name": "stdout",
          "text": [
            "{1: (266, 225, 331, 316)}\n",
            "/content/drive/MyDrive/parallel_dots/CMU10_3D/CMU10_3D/data_2D/juicebox_000046.jpg /content/drive/MyDrive/parallel_dots/CMU10_3D/CMU10_3D/data_2D/juicebox_000046_1_gt.png\n"
          ]
        },
        {
          "output_type": "stream",
          "name": "stderr",
          "text": [
            "frame loading (JPEG): 100%|██████████| 2/2 [00:00<00:00, 28.49it/s]\n",
            "propagate in video: 100%|██████████| 2/2 [00:00<00:00,  2.11it/s]\n"
          ]
        },
        {
          "output_type": "stream",
          "name": "stdout",
          "text": [
            "{1: (51, 262, 143, 400)}\n",
            "/content/drive/MyDrive/parallel_dots/CMU10_3D/CMU10_3D/data_2D/juicebox_000002.jpg /content/drive/MyDrive/parallel_dots/CMU10_3D/CMU10_3D/data_2D/juicebox_000002_1_gt.png\n"
          ]
        },
        {
          "output_type": "stream",
          "name": "stderr",
          "text": [
            "frame loading (JPEG): 100%|██████████| 2/2 [00:00<00:00, 29.82it/s]\n",
            "propagate in video: 100%|██████████| 2/2 [00:00<00:00,  2.11it/s]\n"
          ]
        },
        {
          "output_type": "stream",
          "name": "stdout",
          "text": [
            "{1: (322, 231, 373, 314)}\n",
            "/content/drive/MyDrive/parallel_dots/CMU10_3D/CMU10_3D/data_2D/juicebox_000048.jpg /content/drive/MyDrive/parallel_dots/CMU10_3D/CMU10_3D/data_2D/juicebox_000048_1_gt.png\n"
          ]
        },
        {
          "output_type": "stream",
          "name": "stderr",
          "text": [
            "frame loading (JPEG): 100%|██████████| 2/2 [00:00<00:00, 25.99it/s]\n",
            "propagate in video: 100%|██████████| 2/2 [00:00<00:00,  2.11it/s]\n"
          ]
        },
        {
          "output_type": "stream",
          "name": "stdout",
          "text": [
            "{1: (266, 225, 331, 316)}\n",
            "/content/drive/MyDrive/parallel_dots/CMU10_3D/CMU10_3D/data_2D/juicebox_000027.jpg /content/drive/MyDrive/parallel_dots/CMU10_3D/CMU10_3D/data_2D/juicebox_000027_1_gt.png\n"
          ]
        },
        {
          "output_type": "stream",
          "name": "stderr",
          "text": [
            "frame loading (JPEG): 100%|██████████| 2/2 [00:00<00:00, 17.86it/s]\n",
            "propagate in video: 100%|██████████| 2/2 [00:00<00:00,  2.14it/s]\n"
          ]
        },
        {
          "output_type": "stream",
          "name": "stdout",
          "text": [
            "{1: (266, 225, 331, 316)}\n",
            "/content/drive/MyDrive/parallel_dots/CMU10_3D/CMU10_3D/data_2D/juicebox_000043.jpg /content/drive/MyDrive/parallel_dots/CMU10_3D/CMU10_3D/data_2D/juicebox_000043_1_gt.png\n"
          ]
        },
        {
          "output_type": "stream",
          "name": "stderr",
          "text": [
            "frame loading (JPEG): 100%|██████████| 2/2 [00:00<00:00, 18.47it/s]\n",
            "propagate in video: 100%|██████████| 2/2 [00:00<00:00,  2.13it/s]\n"
          ]
        },
        {
          "output_type": "stream",
          "name": "stdout",
          "text": [
            "{1: (266, 225, 331, 316)}\n",
            "/content/drive/MyDrive/parallel_dots/CMU10_3D/CMU10_3D/data_2D/juicebox_000009.jpg /content/drive/MyDrive/parallel_dots/CMU10_3D/CMU10_3D/data_2D/juicebox_000009_1_gt.png\n"
          ]
        },
        {
          "output_type": "stream",
          "name": "stderr",
          "text": [
            "frame loading (JPEG): 100%|██████████| 2/2 [00:00<00:00, 28.18it/s]\n",
            "propagate in video: 100%|██████████| 2/2 [00:00<00:00,  2.10it/s]\n"
          ]
        },
        {
          "output_type": "stream",
          "name": "stdout",
          "text": [
            "{1: (266, 225, 331, 316)}\n",
            "/content/drive/MyDrive/parallel_dots/CMU10_3D/CMU10_3D/data_2D/juicebox_000036.jpg /content/drive/MyDrive/parallel_dots/CMU10_3D/CMU10_3D/data_2D/juicebox_000036_1_gt.png\n"
          ]
        },
        {
          "output_type": "stream",
          "name": "stderr",
          "text": [
            "frame loading (JPEG): 100%|██████████| 2/2 [00:00<00:00, 28.54it/s]\n",
            "propagate in video: 100%|██████████| 2/2 [00:00<00:00,  2.11it/s]\n"
          ]
        },
        {
          "output_type": "stream",
          "name": "stdout",
          "text": [
            "{1: (266, 225, 331, 316)}\n",
            "/content/drive/MyDrive/parallel_dots/CMU10_3D/CMU10_3D/data_2D/juicebox_000025.jpg /content/drive/MyDrive/parallel_dots/CMU10_3D/CMU10_3D/data_2D/juicebox_000025_1_gt.png\n"
          ]
        },
        {
          "output_type": "stream",
          "name": "stderr",
          "text": [
            "frame loading (JPEG): 100%|██████████| 2/2 [00:00<00:00, 26.61it/s]\n",
            "propagate in video: 100%|██████████| 2/2 [00:00<00:00,  2.12it/s]\n"
          ]
        },
        {
          "output_type": "stream",
          "name": "stdout",
          "text": [
            "{1: (266, 225, 331, 316)}\n",
            "/content/drive/MyDrive/parallel_dots/CMU10_3D/CMU10_3D/data_2D/juicebox_000023.jpg /content/drive/MyDrive/parallel_dots/CMU10_3D/CMU10_3D/data_2D/juicebox_000023_1_gt.png\n"
          ]
        },
        {
          "output_type": "stream",
          "name": "stderr",
          "text": [
            "frame loading (JPEG): 100%|██████████| 2/2 [00:00<00:00, 27.08it/s]\n",
            "propagate in video: 100%|██████████| 2/2 [00:00<00:00,  2.11it/s]\n"
          ]
        },
        {
          "output_type": "stream",
          "name": "stdout",
          "text": [
            "{1: (266, 225, 331, 316)}\n",
            "/content/drive/MyDrive/parallel_dots/CMU10_3D/CMU10_3D/data_2D/juicebox_000049.jpg /content/drive/MyDrive/parallel_dots/CMU10_3D/CMU10_3D/data_2D/juicebox_000049_1_gt.png\n"
          ]
        },
        {
          "output_type": "stream",
          "name": "stderr",
          "text": [
            "frame loading (JPEG): 100%|██████████| 2/2 [00:00<00:00, 27.20it/s]\n",
            "propagate in video: 100%|██████████| 2/2 [00:00<00:00,  2.11it/s]\n"
          ]
        },
        {
          "output_type": "stream",
          "name": "stdout",
          "text": [
            "{1: (266, 225, 331, 316)}\n",
            "/content/drive/MyDrive/parallel_dots/CMU10_3D/CMU10_3D/data_2D/juicebox_000030.jpg /content/drive/MyDrive/parallel_dots/CMU10_3D/CMU10_3D/data_2D/juicebox_000030_1_gt.png\n"
          ]
        },
        {
          "output_type": "stream",
          "name": "stderr",
          "text": [
            "frame loading (JPEG): 100%|██████████| 2/2 [00:00<00:00, 18.81it/s]\n",
            "propagate in video: 100%|██████████| 2/2 [00:00<00:00,  2.13it/s]\n"
          ]
        },
        {
          "output_type": "stream",
          "name": "stdout",
          "text": [
            "{1: (266, 225, 331, 316)}\n",
            "/content/drive/MyDrive/parallel_dots/CMU10_3D/CMU10_3D/data_2D/juicebox_000017.jpg /content/drive/MyDrive/parallel_dots/CMU10_3D/CMU10_3D/data_2D/juicebox_000017_1_gt.png\n"
          ]
        },
        {
          "output_type": "stream",
          "name": "stderr",
          "text": [
            "frame loading (JPEG): 100%|██████████| 2/2 [00:00<00:00, 17.07it/s]\n",
            "propagate in video: 100%|██████████| 2/2 [00:00<00:00,  2.11it/s]\n"
          ]
        },
        {
          "output_type": "stream",
          "name": "stdout",
          "text": [
            "{1: (407, 144, 458, 242)}\n",
            "/content/drive/MyDrive/parallel_dots/CMU10_3D/CMU10_3D/data_2D/juicebox_000028.jpg /content/drive/MyDrive/parallel_dots/CMU10_3D/CMU10_3D/data_2D/juicebox_000028_1_gt.png\n"
          ]
        },
        {
          "output_type": "stream",
          "name": "stderr",
          "text": [
            "frame loading (JPEG): 100%|██████████| 2/2 [00:00<00:00, 26.14it/s]\n",
            "propagate in video: 100%|██████████| 2/2 [00:00<00:00,  2.11it/s]\n"
          ]
        },
        {
          "output_type": "stream",
          "name": "stdout",
          "text": [
            "{1: (165, 193, 260, 359)}\n",
            "/content/drive/MyDrive/parallel_dots/CMU10_3D/CMU10_3D/data_2D/juicebox_000033.jpg /content/drive/MyDrive/parallel_dots/CMU10_3D/CMU10_3D/data_2D/juicebox_000033_1_gt.png\n"
          ]
        },
        {
          "output_type": "stream",
          "name": "stderr",
          "text": [
            "frame loading (JPEG): 100%|██████████| 2/2 [00:00<00:00, 28.97it/s]\n",
            "propagate in video: 100%|██████████| 2/2 [00:00<00:00,  2.11it/s]\n"
          ]
        },
        {
          "output_type": "stream",
          "name": "stdout",
          "text": [
            "{1: (225, 198, 286, 320)}\n",
            "/content/drive/MyDrive/parallel_dots/CMU10_3D/CMU10_3D/data_2D/juicebox_000018.jpg /content/drive/MyDrive/parallel_dots/CMU10_3D/CMU10_3D/data_2D/juicebox_000018_1_gt.png\n"
          ]
        },
        {
          "output_type": "stream",
          "name": "stderr",
          "text": [
            "frame loading (JPEG): 100%|██████████| 2/2 [00:00<00:00, 27.90it/s]\n",
            "propagate in video: 100%|██████████| 2/2 [00:00<00:00,  2.11it/s]\n"
          ]
        },
        {
          "output_type": "stream",
          "name": "stdout",
          "text": [
            "{1: (266, 225, 331, 316)}\n",
            "/content/drive/MyDrive/parallel_dots/CMU10_3D/CMU10_3D/data_2D/juicebox_000042.jpg /content/drive/MyDrive/parallel_dots/CMU10_3D/CMU10_3D/data_2D/juicebox_000042_1_gt.png\n"
          ]
        },
        {
          "output_type": "stream",
          "name": "stderr",
          "text": [
            "frame loading (JPEG): 100%|██████████| 2/2 [00:00<00:00, 28.00it/s]\n",
            "propagate in video: 100%|██████████| 2/2 [00:00<00:00,  2.12it/s]\n"
          ]
        },
        {
          "output_type": "stream",
          "name": "stdout",
          "text": [
            "{1: (266, 225, 331, 316)}\n",
            "/content/drive/MyDrive/parallel_dots/CMU10_3D/CMU10_3D/data_2D/juicebox_000022.jpg /content/drive/MyDrive/parallel_dots/CMU10_3D/CMU10_3D/data_2D/juicebox_000022_1_gt.png\n"
          ]
        },
        {
          "output_type": "stream",
          "name": "stderr",
          "text": [
            "frame loading (JPEG): 100%|██████████| 2/2 [00:00<00:00, 27.24it/s]\n",
            "propagate in video: 100%|██████████| 2/2 [00:00<00:00,  2.09it/s]\n"
          ]
        },
        {
          "output_type": "stream",
          "name": "stdout",
          "text": [
            "{1: (266, 225, 331, 316)}\n",
            "/content/drive/MyDrive/parallel_dots/CMU10_3D/CMU10_3D/data_2D/juicebox_000011.jpg /content/drive/MyDrive/parallel_dots/CMU10_3D/CMU10_3D/data_2D/juicebox_000011_1_gt.png\n"
          ]
        },
        {
          "output_type": "stream",
          "name": "stderr",
          "text": [
            "frame loading (JPEG): 100%|██████████| 2/2 [00:00<00:00, 19.94it/s]\n",
            "propagate in video: 100%|██████████| 2/2 [00:00<00:00,  2.11it/s]\n"
          ]
        },
        {
          "output_type": "stream",
          "name": "stdout",
          "text": [
            "{1: (266, 225, 331, 316)}\n",
            "/content/drive/MyDrive/parallel_dots/CMU10_3D/CMU10_3D/data_2D/juicebox_000012.jpg /content/drive/MyDrive/parallel_dots/CMU10_3D/CMU10_3D/data_2D/juicebox_000012_1_gt.png\n"
          ]
        },
        {
          "output_type": "stream",
          "name": "stderr",
          "text": [
            "frame loading (JPEG): 100%|██████████| 2/2 [00:00<00:00, 16.41it/s]\n",
            "propagate in video: 100%|██████████| 2/2 [00:00<00:00,  2.12it/s]\n"
          ]
        },
        {
          "output_type": "stream",
          "name": "stdout",
          "text": [
            "{1: (266, 225, 331, 316)}\n",
            "/content/drive/MyDrive/parallel_dots/CMU10_3D/CMU10_3D/data_2D/juicebox_000032.jpg /content/drive/MyDrive/parallel_dots/CMU10_3D/CMU10_3D/data_2D/juicebox_000032_1_gt.png\n"
          ]
        },
        {
          "output_type": "stream",
          "name": "stderr",
          "text": [
            "frame loading (JPEG): 100%|██████████| 2/2 [00:00<00:00, 27.33it/s]\n",
            "propagate in video: 100%|██████████| 2/2 [00:00<00:00,  2.12it/s]\n"
          ]
        },
        {
          "output_type": "stream",
          "name": "stdout",
          "text": [
            "{1: (266, 225, 331, 316)}\n",
            "/content/drive/MyDrive/parallel_dots/CMU10_3D/CMU10_3D/data_2D/juicebox_000010.jpg /content/drive/MyDrive/parallel_dots/CMU10_3D/CMU10_3D/data_2D/juicebox_000010_1_gt.png\n"
          ]
        },
        {
          "output_type": "stream",
          "name": "stderr",
          "text": [
            "frame loading (JPEG): 100%|██████████| 2/2 [00:00<00:00, 28.47it/s]\n",
            "propagate in video: 100%|██████████| 2/2 [00:00<00:00,  2.11it/s]\n"
          ]
        },
        {
          "output_type": "stream",
          "name": "stdout",
          "text": [
            "{1: (445, 275, 504, 382)}\n",
            "/content/drive/MyDrive/parallel_dots/CMU10_3D/CMU10_3D/data_2D/juicebox_000015.jpg /content/drive/MyDrive/parallel_dots/CMU10_3D/CMU10_3D/data_2D/juicebox_000015_1_gt.png\n"
          ]
        },
        {
          "output_type": "stream",
          "name": "stderr",
          "text": [
            "frame loading (JPEG): 100%|██████████| 2/2 [00:00<00:00, 28.27it/s]\n",
            "propagate in video: 100%|██████████| 2/2 [00:00<00:00,  2.12it/s]\n"
          ]
        },
        {
          "output_type": "stream",
          "name": "stdout",
          "text": [
            "{1: (266, 225, 331, 316)}\n",
            "/content/drive/MyDrive/parallel_dots/CMU10_3D/CMU10_3D/data_2D/juicebox_000004.jpg /content/drive/MyDrive/parallel_dots/CMU10_3D/CMU10_3D/data_2D/juicebox_000004_1_gt.png\n"
          ]
        },
        {
          "output_type": "stream",
          "name": "stderr",
          "text": [
            "frame loading (JPEG): 100%|██████████| 2/2 [00:00<00:00, 27.74it/s]\n",
            "propagate in video: 100%|██████████| 2/2 [00:00<00:00,  2.12it/s]\n"
          ]
        },
        {
          "output_type": "stream",
          "name": "stdout",
          "text": [
            "{1: (266, 225, 331, 316)}\n",
            "/content/drive/MyDrive/parallel_dots/CMU10_3D/CMU10_3D/data_2D/juicebox_000041.jpg /content/drive/MyDrive/parallel_dots/CMU10_3D/CMU10_3D/data_2D/juicebox_000041_1_gt.png\n"
          ]
        },
        {
          "output_type": "stream",
          "name": "stderr",
          "text": [
            "frame loading (JPEG): 100%|██████████| 2/2 [00:00<00:00, 25.57it/s]\n",
            "propagate in video: 100%|██████████| 2/2 [00:00<00:00,  2.11it/s]\n"
          ]
        },
        {
          "output_type": "stream",
          "name": "stdout",
          "text": [
            "{1: (288, 126, 379, 287)}\n",
            "/content/drive/MyDrive/parallel_dots/CMU10_3D/CMU10_3D/data_2D/juicebox_000045.jpg /content/drive/MyDrive/parallel_dots/CMU10_3D/CMU10_3D/data_2D/juicebox_000045_1_gt.png\n"
          ]
        },
        {
          "output_type": "stream",
          "name": "stderr",
          "text": [
            "frame loading (JPEG): 100%|██████████| 2/2 [00:00<00:00, 17.58it/s]\n",
            "propagate in video: 100%|██████████| 2/2 [00:00<00:00,  2.12it/s]\n"
          ]
        },
        {
          "output_type": "stream",
          "name": "stdout",
          "text": [
            "{1: (266, 225, 331, 316)}\n",
            "/content/drive/MyDrive/parallel_dots/CMU10_3D/CMU10_3D/data_2D/juicebox_000019.jpg /content/drive/MyDrive/parallel_dots/CMU10_3D/CMU10_3D/data_2D/juicebox_000019_1_gt.png\n"
          ]
        },
        {
          "output_type": "stream",
          "name": "stderr",
          "text": [
            "frame loading (JPEG): 100%|██████████| 2/2 [00:00<00:00, 19.38it/s]\n",
            "propagate in video: 100%|██████████| 2/2 [00:00<00:00,  2.11it/s]\n"
          ]
        },
        {
          "output_type": "stream",
          "name": "stdout",
          "text": [
            "{1: (266, 225, 331, 316)}\n",
            "/content/drive/MyDrive/parallel_dots/CMU10_3D/CMU10_3D/data_2D/juicebox_000029.jpg /content/drive/MyDrive/parallel_dots/CMU10_3D/CMU10_3D/data_2D/juicebox_000029_1_gt.png\n"
          ]
        },
        {
          "output_type": "stream",
          "name": "stderr",
          "text": [
            "frame loading (JPEG): 100%|██████████| 2/2 [00:00<00:00, 28.12it/s]\n",
            "propagate in video: 100%|██████████| 2/2 [00:00<00:00,  2.12it/s]\n"
          ]
        },
        {
          "output_type": "stream",
          "name": "stdout",
          "text": [
            "{1: (266, 225, 331, 316)}\n",
            "/content/drive/MyDrive/parallel_dots/CMU10_3D/CMU10_3D/data_2D/juicebox_000040.jpg /content/drive/MyDrive/parallel_dots/CMU10_3D/CMU10_3D/data_2D/juicebox_000040_1_gt.png\n"
          ]
        },
        {
          "output_type": "stream",
          "name": "stderr",
          "text": [
            "frame loading (JPEG): 100%|██████████| 2/2 [00:00<00:00, 27.87it/s]\n",
            "propagate in video: 100%|██████████| 2/2 [00:00<00:00,  2.12it/s]\n"
          ]
        },
        {
          "output_type": "stream",
          "name": "stdout",
          "text": [
            "{1: (266, 225, 331, 316)}\n",
            "/content/drive/MyDrive/parallel_dots/CMU10_3D/CMU10_3D/data_2D/juicebox_000016.jpg /content/drive/MyDrive/parallel_dots/CMU10_3D/CMU10_3D/data_2D/juicebox_000016_1_gt.png\n"
          ]
        },
        {
          "output_type": "stream",
          "name": "stderr",
          "text": [
            "frame loading (JPEG): 100%|██████████| 2/2 [00:00<00:00, 26.75it/s]\n",
            "propagate in video: 100%|██████████| 2/2 [00:00<00:00,  2.12it/s]\n"
          ]
        },
        {
          "output_type": "stream",
          "name": "stdout",
          "text": [
            "{1: (266, 225, 331, 316)}\n",
            "/content/drive/MyDrive/parallel_dots/CMU10_3D/CMU10_3D/data_2D/juicebox_000021.jpg /content/drive/MyDrive/parallel_dots/CMU10_3D/CMU10_3D/data_2D/juicebox_000021_1_gt.png\n"
          ]
        },
        {
          "output_type": "stream",
          "name": "stderr",
          "text": [
            "frame loading (JPEG): 100%|██████████| 2/2 [00:00<00:00, 27.33it/s]\n",
            "propagate in video: 100%|██████████| 2/2 [00:00<00:00,  2.11it/s]\n"
          ]
        },
        {
          "output_type": "stream",
          "name": "stdout",
          "text": [
            "{1: (266, 225, 331, 316)}\n",
            "/content/drive/MyDrive/parallel_dots/CMU10_3D/CMU10_3D/data_2D/juicebox_000006.jpg /content/drive/MyDrive/parallel_dots/CMU10_3D/CMU10_3D/data_2D/juicebox_000006_1_gt.png\n"
          ]
        },
        {
          "output_type": "stream",
          "name": "stderr",
          "text": [
            "frame loading (JPEG): 100%|██████████| 2/2 [00:00<00:00, 18.14it/s]\n",
            "propagate in video: 100%|██████████| 2/2 [00:00<00:00,  2.13it/s]\n"
          ]
        },
        {
          "output_type": "stream",
          "name": "stdout",
          "text": [
            "{1: (266, 225, 331, 316)}\n",
            "/content/drive/MyDrive/parallel_dots/CMU10_3D/CMU10_3D/data_2D/juicebox_000024.jpg /content/drive/MyDrive/parallel_dots/CMU10_3D/CMU10_3D/data_2D/juicebox_000024_1_gt.png\n"
          ]
        },
        {
          "output_type": "stream",
          "name": "stderr",
          "text": [
            "frame loading (JPEG): 100%|██████████| 2/2 [00:00<00:00, 17.33it/s]\n",
            "propagate in video: 100%|██████████| 2/2 [00:00<00:00,  2.12it/s]\n"
          ]
        },
        {
          "output_type": "stream",
          "name": "stdout",
          "text": [
            "{1: (266, 225, 331, 316)}\n",
            "/content/drive/MyDrive/parallel_dots/CMU10_3D/CMU10_3D/data_2D/juicebox_000044.jpg /content/drive/MyDrive/parallel_dots/CMU10_3D/CMU10_3D/data_2D/juicebox_000044_1_gt.png\n"
          ]
        },
        {
          "output_type": "stream",
          "name": "stderr",
          "text": [
            "frame loading (JPEG): 100%|██████████| 2/2 [00:00<00:00, 15.58it/s]\n",
            "propagate in video: 100%|██████████| 2/2 [00:00<00:00,  2.13it/s]\n"
          ]
        },
        {
          "output_type": "stream",
          "name": "stdout",
          "text": [
            "{1: (266, 225, 331, 316)}\n",
            "/content/drive/MyDrive/parallel_dots/CMU10_3D/CMU10_3D/data_2D/juicebox_000039.jpg /content/drive/MyDrive/parallel_dots/CMU10_3D/CMU10_3D/data_2D/juicebox_000039_1_gt.png\n"
          ]
        },
        {
          "output_type": "stream",
          "name": "stderr",
          "text": [
            "frame loading (JPEG): 100%|██████████| 2/2 [00:00<00:00, 24.11it/s]\n",
            "propagate in video: 100%|██████████| 2/2 [00:00<00:00,  2.12it/s]\n"
          ]
        },
        {
          "output_type": "stream",
          "name": "stdout",
          "text": [
            "{1: (266, 225, 331, 316)}\n",
            "/content/drive/MyDrive/parallel_dots/CMU10_3D/CMU10_3D/data_2D/juicebox_000037.jpg /content/drive/MyDrive/parallel_dots/CMU10_3D/CMU10_3D/data_2D/juicebox_000037_1_gt.png\n"
          ]
        },
        {
          "output_type": "stream",
          "name": "stderr",
          "text": [
            "frame loading (JPEG): 100%|██████████| 2/2 [00:00<00:00, 28.97it/s]\n",
            "propagate in video: 100%|██████████| 2/2 [00:00<00:00,  2.12it/s]\n"
          ]
        },
        {
          "output_type": "stream",
          "name": "stdout",
          "text": [
            "{1: (266, 225, 331, 316)}\n",
            "/content/drive/MyDrive/parallel_dots/CMU10_3D/CMU10_3D/data_2D/juicebox_000008.jpg /content/drive/MyDrive/parallel_dots/CMU10_3D/CMU10_3D/data_2D/juicebox_000008_1_gt.png\n"
          ]
        },
        {
          "output_type": "stream",
          "name": "stderr",
          "text": [
            "frame loading (JPEG): 100%|██████████| 2/2 [00:00<00:00, 28.73it/s]\n",
            "propagate in video: 100%|██████████| 2/2 [00:00<00:00,  2.12it/s]\n"
          ]
        },
        {
          "output_type": "stream",
          "name": "stdout",
          "text": [
            "{1: (266, 225, 331, 316)}\n",
            "/content/drive/MyDrive/parallel_dots/CMU10_3D/CMU10_3D/data_2D/juicebox_000031.jpg /content/drive/MyDrive/parallel_dots/CMU10_3D/CMU10_3D/data_2D/juicebox_000031_1_gt.png\n"
          ]
        },
        {
          "output_type": "stream",
          "name": "stderr",
          "text": [
            "frame loading (JPEG): 100%|██████████| 2/2 [00:00<00:00, 28.10it/s]\n",
            "propagate in video: 100%|██████████| 2/2 [00:00<00:00,  2.11it/s]\n"
          ]
        },
        {
          "output_type": "stream",
          "name": "stdout",
          "text": [
            "{1: (266, 225, 331, 316)}\n",
            "/content/drive/MyDrive/parallel_dots/CMU10_3D/CMU10_3D/data_2D/juicebox_000003.jpg /content/drive/MyDrive/parallel_dots/CMU10_3D/CMU10_3D/data_2D/juicebox_000003_1_gt.png\n"
          ]
        },
        {
          "output_type": "stream",
          "name": "stderr",
          "text": [
            "frame loading (JPEG): 100%|██████████| 2/2 [00:00<00:00, 28.28it/s]\n",
            "propagate in video: 100%|██████████| 2/2 [00:00<00:00,  2.11it/s]\n"
          ]
        },
        {
          "output_type": "stream",
          "name": "stdout",
          "text": [
            "{1: (306, 342, 363, 423)}\n",
            "/content/drive/MyDrive/parallel_dots/CMU10_3D/CMU10_3D/data_2D/juicebox_000014.jpg /content/drive/MyDrive/parallel_dots/CMU10_3D/CMU10_3D/data_2D/juicebox_000014_1_gt.png\n"
          ]
        },
        {
          "output_type": "stream",
          "name": "stderr",
          "text": [
            "frame loading (JPEG): 100%|██████████| 2/2 [00:00<00:00, 27.37it/s]\n",
            "propagate in video: 100%|██████████| 2/2 [00:00<00:00,  2.12it/s]\n"
          ]
        },
        {
          "output_type": "stream",
          "name": "stdout",
          "text": [
            "{1: (266, 225, 331, 316)}\n",
            "/content/drive/MyDrive/parallel_dots/CMU10_3D/CMU10_3D/data_2D/juicebox_000005.jpg /content/drive/MyDrive/parallel_dots/CMU10_3D/CMU10_3D/data_2D/juicebox_000005_1_gt.png\n"
          ]
        },
        {
          "output_type": "stream",
          "name": "stderr",
          "text": [
            "frame loading (JPEG): 100%|██████████| 2/2 [00:00<00:00, 18.80it/s]\n",
            "propagate in video: 100%|██████████| 2/2 [00:00<00:00,  2.13it/s]\n"
          ]
        },
        {
          "output_type": "stream",
          "name": "stdout",
          "text": [
            "{1: (266, 225, 331, 316)}\n",
            "Performance for juicebox: {'mean_iou': 0.24683781655947798, 'precision': 0.2, 'recall': 0.2}\n",
            "/content/drive/MyDrive/parallel_dots/CMU10_3D/CMU10_3D/data_2D/rice_tuscan_000050.jpg /content/drive/MyDrive/parallel_dots/CMU10_3D/CMU10_3D/data_2D/rice_tuscan_000050_1_gt.png\n"
          ]
        },
        {
          "output_type": "stream",
          "name": "stderr",
          "text": [
            "frame loading (JPEG): 100%|██████████| 2/2 [00:00<00:00, 26.33it/s]\n",
            "propagate in video: 100%|██████████| 2/2 [00:00<00:00,  2.11it/s]\n"
          ]
        },
        {
          "output_type": "stream",
          "name": "stdout",
          "text": [
            "{1: (331, 138, 564, 377)}\n",
            "/content/drive/MyDrive/parallel_dots/CMU10_3D/CMU10_3D/data_2D/rice_tuscan_000046.jpg /content/drive/MyDrive/parallel_dots/CMU10_3D/CMU10_3D/data_2D/rice_tuscan_000046_1_gt.png\n"
          ]
        },
        {
          "output_type": "stream",
          "name": "stderr",
          "text": [
            "frame loading (JPEG): 100%|██████████| 2/2 [00:00<00:00, 26.30it/s]\n",
            "propagate in video: 100%|██████████| 2/2 [00:00<00:00,  2.12it/s]\n"
          ]
        },
        {
          "output_type": "stream",
          "name": "stdout",
          "text": [
            "{1: (364, 178, 493, 338)}\n",
            "/content/drive/MyDrive/parallel_dots/CMU10_3D/CMU10_3D/data_2D/rice_tuscan_000017.jpg /content/drive/MyDrive/parallel_dots/CMU10_3D/CMU10_3D/data_2D/rice_tuscan_000017_1_gt.png\n"
          ]
        },
        {
          "output_type": "stream",
          "name": "stderr",
          "text": [
            "frame loading (JPEG): 100%|██████████| 2/2 [00:00<00:00, 27.75it/s]\n",
            "propagate in video: 100%|██████████| 2/2 [00:00<00:00,  2.11it/s]\n"
          ]
        },
        {
          "output_type": "stream",
          "name": "stdout",
          "text": [
            "{1: (206, 17, 326, 210)}\n",
            "/content/drive/MyDrive/parallel_dots/CMU10_3D/CMU10_3D/data_2D/rice_tuscan_000025.jpg /content/drive/MyDrive/parallel_dots/CMU10_3D/CMU10_3D/data_2D/rice_tuscan_000025_1_gt.png\n"
          ]
        },
        {
          "output_type": "stream",
          "name": "stderr",
          "text": [
            "frame loading (JPEG): 100%|██████████| 2/2 [00:00<00:00, 29.43it/s]\n",
            "propagate in video: 100%|██████████| 2/2 [00:00<00:00,  2.12it/s]\n"
          ]
        },
        {
          "output_type": "stream",
          "name": "stdout",
          "text": [
            "{1: (301, 57, 437, 243)}\n",
            "/content/drive/MyDrive/parallel_dots/CMU10_3D/CMU10_3D/data_2D/rice_tuscan_000012.jpg /content/drive/MyDrive/parallel_dots/CMU10_3D/CMU10_3D/data_2D/rice_tuscan_000012_1_gt.png\n"
          ]
        },
        {
          "output_type": "stream",
          "name": "stderr",
          "text": [
            "frame loading (JPEG): 100%|██████████| 2/2 [00:00<00:00, 17.54it/s]\n",
            "propagate in video: 100%|██████████| 2/2 [00:00<00:00,  2.07it/s]\n"
          ]
        },
        {
          "output_type": "stream",
          "name": "stdout",
          "text": [
            "{1: (222, 104, 330, 302)}\n",
            "/content/drive/MyDrive/parallel_dots/CMU10_3D/CMU10_3D/data_2D/rice_tuscan_000015.jpg /content/drive/MyDrive/parallel_dots/CMU10_3D/CMU10_3D/data_2D/rice_tuscan_000015_1_gt.png\n"
          ]
        },
        {
          "output_type": "stream",
          "name": "stderr",
          "text": [
            "frame loading (JPEG): 100%|██████████| 2/2 [00:00<00:00, 29.31it/s]\n",
            "propagate in video: 100%|██████████| 2/2 [00:00<00:00,  2.13it/s]\n"
          ]
        },
        {
          "output_type": "stream",
          "name": "stdout",
          "text": [
            "{1: (226, 53, 316, 249)}\n",
            "/content/drive/MyDrive/parallel_dots/CMU10_3D/CMU10_3D/data_2D/rice_tuscan_000010.jpg /content/drive/MyDrive/parallel_dots/CMU10_3D/CMU10_3D/data_2D/rice_tuscan_000010_1_gt.png\n"
          ]
        },
        {
          "output_type": "stream",
          "name": "stderr",
          "text": [
            "frame loading (JPEG): 100%|██████████| 2/2 [00:00<00:00, 28.90it/s]\n",
            "propagate in video: 100%|██████████| 2/2 [00:00<00:00,  2.12it/s]\n"
          ]
        },
        {
          "output_type": "stream",
          "name": "stdout",
          "text": [
            "{1: (244, 121, 341, 324)}\n",
            "/content/drive/MyDrive/parallel_dots/CMU10_3D/CMU10_3D/data_2D/rice_tuscan_000011.jpg /content/drive/MyDrive/parallel_dots/CMU10_3D/CMU10_3D/data_2D/rice_tuscan_000011_1_gt.png\n"
          ]
        },
        {
          "output_type": "stream",
          "name": "stderr",
          "text": [
            "frame loading (JPEG): 100%|██████████| 2/2 [00:00<00:00, 27.98it/s]\n",
            "propagate in video: 100%|██████████| 2/2 [00:00<00:00,  2.11it/s]\n"
          ]
        },
        {
          "output_type": "stream",
          "name": "stdout",
          "text": [
            "{1: (260, 85, 391, 337)}\n",
            "/content/drive/MyDrive/parallel_dots/CMU10_3D/CMU10_3D/data_2D/rice_tuscan_000019.jpg /content/drive/MyDrive/parallel_dots/CMU10_3D/CMU10_3D/data_2D/rice_tuscan_000019_1_gt.png\n"
          ]
        },
        {
          "output_type": "stream",
          "name": "stderr",
          "text": [
            "frame loading (JPEG): 100%|██████████| 2/2 [00:00<00:00, 27.88it/s]\n",
            "propagate in video: 100%|██████████| 2/2 [00:00<00:00,  2.12it/s]\n"
          ]
        },
        {
          "output_type": "stream",
          "name": "stdout",
          "text": [
            "{1: (100, 201, 237, 352)}\n",
            "/content/drive/MyDrive/parallel_dots/CMU10_3D/CMU10_3D/data_2D/rice_tuscan_000013.jpg /content/drive/MyDrive/parallel_dots/CMU10_3D/CMU10_3D/data_2D/rice_tuscan_000013_1_gt.png\n"
          ]
        },
        {
          "output_type": "stream",
          "name": "stderr",
          "text": [
            "frame loading (JPEG): 100%|██████████| 2/2 [00:00<00:00, 27.84it/s]\n",
            "propagate in video: 100%|██████████| 2/2 [00:00<00:00,  2.11it/s]\n"
          ]
        },
        {
          "output_type": "stream",
          "name": "stdout",
          "text": [
            "{1: (263, 150, 371, 318)}\n",
            "/content/drive/MyDrive/parallel_dots/CMU10_3D/CMU10_3D/data_2D/rice_tuscan_000005.jpg /content/drive/MyDrive/parallel_dots/CMU10_3D/CMU10_3D/data_2D/rice_tuscan_000005_1_gt.png\n"
          ]
        },
        {
          "output_type": "stream",
          "name": "stderr",
          "text": [
            "frame loading (JPEG): 100%|██████████| 2/2 [00:00<00:00, 21.78it/s]\n",
            "propagate in video: 100%|██████████| 2/2 [00:00<00:00,  2.11it/s]\n"
          ]
        },
        {
          "output_type": "stream",
          "name": "stdout",
          "text": [
            "{1: (216, 66, 307, 228)}\n",
            "/content/drive/MyDrive/parallel_dots/CMU10_3D/CMU10_3D/data_2D/rice_tuscan_000007.jpg /content/drive/MyDrive/parallel_dots/CMU10_3D/CMU10_3D/data_2D/rice_tuscan_000007_1_gt.png\n"
          ]
        },
        {
          "output_type": "stream",
          "name": "stderr",
          "text": [
            "frame loading (JPEG): 100%|██████████| 2/2 [00:00<00:00, 29.36it/s]\n",
            "propagate in video: 100%|██████████| 2/2 [00:00<00:00,  2.12it/s]\n"
          ]
        },
        {
          "output_type": "stream",
          "name": "stdout",
          "text": [
            "{1: (244, 96, 358, 231)}\n",
            "/content/drive/MyDrive/parallel_dots/CMU10_3D/CMU10_3D/data_2D/rice_tuscan_000041.jpg /content/drive/MyDrive/parallel_dots/CMU10_3D/CMU10_3D/data_2D/rice_tuscan_000041_1_gt.png\n"
          ]
        },
        {
          "output_type": "stream",
          "name": "stderr",
          "text": [
            "frame loading (JPEG): 100%|██████████| 2/2 [00:00<00:00, 25.03it/s]\n",
            "propagate in video: 100%|██████████| 2/2 [00:00<00:00,  2.13it/s]\n"
          ]
        },
        {
          "output_type": "stream",
          "name": "stdout",
          "text": [
            "{1: (216, 66, 307, 228)}\n",
            "/content/drive/MyDrive/parallel_dots/CMU10_3D/CMU10_3D/data_2D/rice_tuscan_000042.jpg /content/drive/MyDrive/parallel_dots/CMU10_3D/CMU10_3D/data_2D/rice_tuscan_000042_1_gt.png\n"
          ]
        },
        {
          "output_type": "stream",
          "name": "stderr",
          "text": [
            "frame loading (JPEG): 100%|██████████| 2/2 [00:00<00:00, 28.39it/s]\n",
            "propagate in video: 100%|██████████| 2/2 [00:00<00:00,  2.12it/s]\n"
          ]
        },
        {
          "output_type": "stream",
          "name": "stdout",
          "text": [
            "{1: (58, 141, 273, 363)}\n",
            "/content/drive/MyDrive/parallel_dots/CMU10_3D/CMU10_3D/data_2D/rice_tuscan_000006.jpg /content/drive/MyDrive/parallel_dots/CMU10_3D/CMU10_3D/data_2D/rice_tuscan_000006_1_gt.png\n"
          ]
        },
        {
          "output_type": "stream",
          "name": "stderr",
          "text": [
            "frame loading (JPEG): 100%|██████████| 2/2 [00:00<00:00, 26.04it/s]\n",
            "propagate in video: 100%|██████████| 2/2 [00:00<00:00,  2.12it/s]\n"
          ]
        },
        {
          "output_type": "stream",
          "name": "stdout",
          "text": [
            "{1: (174, 188, 258, 300)}\n",
            "/content/drive/MyDrive/parallel_dots/CMU10_3D/CMU10_3D/data_2D/rice_tuscan_000033.jpg /content/drive/MyDrive/parallel_dots/CMU10_3D/CMU10_3D/data_2D/rice_tuscan_000033_1_gt.png\n"
          ]
        },
        {
          "output_type": "stream",
          "name": "stderr",
          "text": [
            "frame loading (JPEG): 100%|██████████| 2/2 [00:00<00:00, 29.06it/s]\n",
            "propagate in video: 100%|██████████| 2/2 [00:00<00:00,  2.12it/s]\n"
          ]
        },
        {
          "output_type": "stream",
          "name": "stdout",
          "text": [
            "{1: (216, 66, 307, 228)}\n",
            "/content/drive/MyDrive/parallel_dots/CMU10_3D/CMU10_3D/data_2D/rice_tuscan_000001.jpg /content/drive/MyDrive/parallel_dots/CMU10_3D/CMU10_3D/data_2D/rice_tuscan_000001_1_gt.png\n"
          ]
        },
        {
          "output_type": "stream",
          "name": "stderr",
          "text": [
            "frame loading (JPEG): 100%|██████████| 2/2 [00:00<00:00, 29.19it/s]\n",
            "propagate in video: 100%|██████████| 2/2 [00:00<00:00,  2.13it/s]\n"
          ]
        },
        {
          "output_type": "stream",
          "name": "stdout",
          "text": [
            "{1: (216, 66, 307, 227)}\n",
            "/content/drive/MyDrive/parallel_dots/CMU10_3D/CMU10_3D/data_2D/rice_tuscan_000022.jpg /content/drive/MyDrive/parallel_dots/CMU10_3D/CMU10_3D/data_2D/rice_tuscan_000022_1_gt.png\n"
          ]
        },
        {
          "output_type": "stream",
          "name": "stderr",
          "text": [
            "frame loading (JPEG): 100%|██████████| 2/2 [00:00<00:00, 19.97it/s]\n",
            "propagate in video: 100%|██████████| 2/2 [00:00<00:00,  2.12it/s]\n"
          ]
        },
        {
          "output_type": "stream",
          "name": "stdout",
          "text": [
            "{1: (216, 66, 307, 228)}\n",
            "/content/drive/MyDrive/parallel_dots/CMU10_3D/CMU10_3D/data_2D/rice_tuscan_000008.jpg /content/drive/MyDrive/parallel_dots/CMU10_3D/CMU10_3D/data_2D/rice_tuscan_000008_1_gt.png\n"
          ]
        },
        {
          "output_type": "stream",
          "name": "stderr",
          "text": [
            "frame loading (JPEG): 100%|██████████| 2/2 [00:00<00:00, 28.52it/s]\n",
            "propagate in video: 100%|██████████| 2/2 [00:00<00:00,  2.11it/s]\n"
          ]
        },
        {
          "output_type": "stream",
          "name": "stdout",
          "text": [
            "{1: (120, 45, 218, 179)}\n",
            "/content/drive/MyDrive/parallel_dots/CMU10_3D/CMU10_3D/data_2D/rice_tuscan_000043.jpg /content/drive/MyDrive/parallel_dots/CMU10_3D/CMU10_3D/data_2D/rice_tuscan_000043_1_gt.png\n"
          ]
        },
        {
          "output_type": "stream",
          "name": "stderr",
          "text": [
            "frame loading (JPEG): 100%|██████████| 2/2 [00:00<00:00, 23.55it/s]\n",
            "propagate in video: 100%|██████████| 2/2 [00:00<00:00,  2.12it/s]\n"
          ]
        },
        {
          "output_type": "stream",
          "name": "stdout",
          "text": [
            "{1: (216, 66, 307, 228)}\n",
            "/content/drive/MyDrive/parallel_dots/CMU10_3D/CMU10_3D/data_2D/rice_tuscan_000004.jpg /content/drive/MyDrive/parallel_dots/CMU10_3D/CMU10_3D/data_2D/rice_tuscan_000004_1_gt.png\n"
          ]
        },
        {
          "output_type": "stream",
          "name": "stderr",
          "text": [
            "frame loading (JPEG): 100%|██████████| 2/2 [00:00<00:00, 28.87it/s]\n",
            "propagate in video: 100%|██████████| 2/2 [00:00<00:00,  2.12it/s]\n"
          ]
        },
        {
          "output_type": "stream",
          "name": "stdout",
          "text": [
            "{1: (78, 115, 177, 253)}\n",
            "/content/drive/MyDrive/parallel_dots/CMU10_3D/CMU10_3D/data_2D/rice_tuscan_000047.jpg /content/drive/MyDrive/parallel_dots/CMU10_3D/CMU10_3D/data_2D/rice_tuscan_000047_1_gt.png\n"
          ]
        },
        {
          "output_type": "stream",
          "name": "stderr",
          "text": [
            "frame loading (JPEG): 100%|██████████| 2/2 [00:00<00:00, 28.28it/s]\n",
            "propagate in video: 100%|██████████| 2/2 [00:00<00:00,  2.11it/s]\n"
          ]
        },
        {
          "output_type": "stream",
          "name": "stdout",
          "text": [
            "{1: (216, 66, 307, 228)}\n",
            "/content/drive/MyDrive/parallel_dots/CMU10_3D/CMU10_3D/data_2D/rice_tuscan_000018.jpg /content/drive/MyDrive/parallel_dots/CMU10_3D/CMU10_3D/data_2D/rice_tuscan_000018_1_gt.png\n"
          ]
        },
        {
          "output_type": "stream",
          "name": "stderr",
          "text": [
            "frame loading (JPEG): 100%|██████████| 2/2 [00:00<00:00, 29.09it/s]\n",
            "propagate in video: 100%|██████████| 2/2 [00:00<00:00,  2.11it/s]\n"
          ]
        },
        {
          "output_type": "stream",
          "name": "stdout",
          "text": [
            "{1: (276, 135, 423, 266)}\n",
            "/content/drive/MyDrive/parallel_dots/CMU10_3D/CMU10_3D/data_2D/rice_tuscan_000038.jpg /content/drive/MyDrive/parallel_dots/CMU10_3D/CMU10_3D/data_2D/rice_tuscan_000038_1_gt.png\n"
          ]
        },
        {
          "output_type": "stream",
          "name": "stderr",
          "text": [
            "frame loading (JPEG): 100%|██████████| 2/2 [00:00<00:00, 20.30it/s]\n",
            "propagate in video: 100%|██████████| 2/2 [00:00<00:00,  2.12it/s]\n"
          ]
        },
        {
          "output_type": "stream",
          "name": "stdout",
          "text": [
            "{1: (216, 66, 307, 228)}\n",
            "/content/drive/MyDrive/parallel_dots/CMU10_3D/CMU10_3D/data_2D/rice_tuscan_000024.jpg /content/drive/MyDrive/parallel_dots/CMU10_3D/CMU10_3D/data_2D/rice_tuscan_000024_1_gt.png\n"
          ]
        },
        {
          "output_type": "stream",
          "name": "stderr",
          "text": [
            "frame loading (JPEG): 100%|██████████| 2/2 [00:00<00:00, 21.92it/s]\n",
            "propagate in video: 100%|██████████| 2/2 [00:00<00:00,  2.12it/s]\n"
          ]
        },
        {
          "output_type": "stream",
          "name": "stdout",
          "text": [
            "{1: (80, 244, 187, 462)}\n",
            "/content/drive/MyDrive/parallel_dots/CMU10_3D/CMU10_3D/data_2D/rice_tuscan_000037.jpg /content/drive/MyDrive/parallel_dots/CMU10_3D/CMU10_3D/data_2D/rice_tuscan_000037_1_gt.png\n"
          ]
        },
        {
          "output_type": "stream",
          "name": "stderr",
          "text": [
            "frame loading (JPEG): 100%|██████████| 2/2 [00:00<00:00, 29.20it/s]\n",
            "propagate in video: 100%|██████████| 2/2 [00:00<00:00,  2.11it/s]\n"
          ]
        },
        {
          "output_type": "stream",
          "name": "stdout",
          "text": [
            "{1: (120, 71, 329, 257)}\n",
            "/content/drive/MyDrive/parallel_dots/CMU10_3D/CMU10_3D/data_2D/rice_tuscan_000016.jpg /content/drive/MyDrive/parallel_dots/CMU10_3D/CMU10_3D/data_2D/rice_tuscan_000016_1_gt.png\n"
          ]
        },
        {
          "output_type": "stream",
          "name": "stderr",
          "text": [
            "frame loading (JPEG): 100%|██████████| 2/2 [00:00<00:00, 26.00it/s]\n",
            "propagate in video: 100%|██████████| 2/2 [00:00<00:00,  2.11it/s]\n"
          ]
        },
        {
          "output_type": "stream",
          "name": "stdout",
          "text": [
            "{1: (216, 66, 307, 228)}\n",
            "/content/drive/MyDrive/parallel_dots/CMU10_3D/CMU10_3D/data_2D/rice_tuscan_000049.jpg /content/drive/MyDrive/parallel_dots/CMU10_3D/CMU10_3D/data_2D/rice_tuscan_000049_1_gt.png\n"
          ]
        },
        {
          "output_type": "stream",
          "name": "stderr",
          "text": [
            "frame loading (JPEG): 100%|██████████| 2/2 [00:00<00:00, 27.05it/s]\n",
            "propagate in video: 100%|██████████| 2/2 [00:00<00:00,  2.12it/s]\n"
          ]
        },
        {
          "output_type": "stream",
          "name": "stdout",
          "text": [
            "{1: (230, 86, 436, 297)}\n",
            "/content/drive/MyDrive/parallel_dots/CMU10_3D/CMU10_3D/data_2D/rice_tuscan_000039.jpg /content/drive/MyDrive/parallel_dots/CMU10_3D/CMU10_3D/data_2D/rice_tuscan_000039_1_gt.png\n"
          ]
        },
        {
          "output_type": "stream",
          "name": "stderr",
          "text": [
            "frame loading (JPEG): 100%|██████████| 2/2 [00:00<00:00, 28.86it/s]\n",
            "propagate in video: 100%|██████████| 2/2 [00:00<00:00,  2.10it/s]\n"
          ]
        },
        {
          "output_type": "stream",
          "name": "stdout",
          "text": [
            "{1: (98, 143, 220, 347)}\n",
            "/content/drive/MyDrive/parallel_dots/CMU10_3D/CMU10_3D/data_2D/rice_tuscan_000048.jpg /content/drive/MyDrive/parallel_dots/CMU10_3D/CMU10_3D/data_2D/rice_tuscan_000048_1_gt.png\n"
          ]
        },
        {
          "output_type": "stream",
          "name": "stderr",
          "text": [
            "frame loading (JPEG): 100%|██████████| 2/2 [00:00<00:00, 28.60it/s]\n",
            "propagate in video: 100%|██████████| 2/2 [00:00<00:00,  2.10it/s]\n"
          ]
        },
        {
          "output_type": "stream",
          "name": "stdout",
          "text": [
            "{1: (240, 78, 428, 265)}\n",
            "/content/drive/MyDrive/parallel_dots/CMU10_3D/CMU10_3D/data_2D/rice_tuscan_000021.jpg /content/drive/MyDrive/parallel_dots/CMU10_3D/CMU10_3D/data_2D/rice_tuscan_000021_1_gt.png\n"
          ]
        },
        {
          "output_type": "stream",
          "name": "stderr",
          "text": [
            "frame loading (JPEG): 100%|██████████| 2/2 [00:00<00:00, 22.60it/s]\n",
            "propagate in video: 100%|██████████| 2/2 [00:00<00:00,  2.12it/s]\n"
          ]
        },
        {
          "output_type": "stream",
          "name": "stdout",
          "text": [
            "{1: (237, 0, 408, 130)}\n",
            "/content/drive/MyDrive/parallel_dots/CMU10_3D/CMU10_3D/data_2D/rice_tuscan_000044.jpg /content/drive/MyDrive/parallel_dots/CMU10_3D/CMU10_3D/data_2D/rice_tuscan_000044_1_gt.png\n"
          ]
        },
        {
          "output_type": "stream",
          "name": "stderr",
          "text": [
            "frame loading (JPEG): 100%|██████████| 2/2 [00:00<00:00, 18.04it/s]\n",
            "propagate in video: 100%|██████████| 2/2 [00:00<00:00,  2.14it/s]\n"
          ]
        },
        {
          "output_type": "stream",
          "name": "stdout",
          "text": [
            "{1: (216, 66, 307, 228)}\n",
            "/content/drive/MyDrive/parallel_dots/CMU10_3D/CMU10_3D/data_2D/rice_tuscan_000027.jpg /content/drive/MyDrive/parallel_dots/CMU10_3D/CMU10_3D/data_2D/rice_tuscan_000027_1_gt.png\n"
          ]
        },
        {
          "output_type": "stream",
          "name": "stderr",
          "text": [
            "frame loading (JPEG): 100%|██████████| 2/2 [00:00<00:00, 28.06it/s]\n",
            "propagate in video: 100%|██████████| 2/2 [00:00<00:00,  2.11it/s]\n"
          ]
        },
        {
          "output_type": "stream",
          "name": "stdout",
          "text": [
            "{1: (52, 106, 216, 336)}\n",
            "/content/drive/MyDrive/parallel_dots/CMU10_3D/CMU10_3D/data_2D/rice_tuscan_000003.jpg /content/drive/MyDrive/parallel_dots/CMU10_3D/CMU10_3D/data_2D/rice_tuscan_000003_1_gt.png\n"
          ]
        },
        {
          "output_type": "stream",
          "name": "stderr",
          "text": [
            "frame loading (JPEG): 100%|██████████| 2/2 [00:00<00:00, 27.39it/s]\n",
            "propagate in video: 100%|██████████| 2/2 [00:00<00:00,  2.13it/s]\n"
          ]
        },
        {
          "output_type": "stream",
          "name": "stdout",
          "text": [
            "{1: (246, 159, 328, 303)}\n",
            "/content/drive/MyDrive/parallel_dots/CMU10_3D/CMU10_3D/data_2D/rice_tuscan_000028.jpg /content/drive/MyDrive/parallel_dots/CMU10_3D/CMU10_3D/data_2D/rice_tuscan_000028_1_gt.png\n"
          ]
        },
        {
          "output_type": "stream",
          "name": "stderr",
          "text": [
            "frame loading (JPEG): 100%|██████████| 2/2 [00:00<00:00, 25.63it/s]\n",
            "propagate in video: 100%|██████████| 2/2 [00:00<00:00,  2.11it/s]\n"
          ]
        },
        {
          "output_type": "stream",
          "name": "stdout",
          "text": [
            "{1: (98, 113, 407, 403)}\n",
            "/content/drive/MyDrive/parallel_dots/CMU10_3D/CMU10_3D/data_2D/rice_tuscan_000035.jpg /content/drive/MyDrive/parallel_dots/CMU10_3D/CMU10_3D/data_2D/rice_tuscan_000035_1_gt.png\n"
          ]
        },
        {
          "output_type": "stream",
          "name": "stderr",
          "text": [
            "frame loading (JPEG): 100%|██████████| 2/2 [00:00<00:00, 28.00it/s]\n",
            "propagate in video: 100%|██████████| 2/2 [00:00<00:00,  2.11it/s]\n"
          ]
        },
        {
          "output_type": "stream",
          "name": "stdout",
          "text": [
            "{1: (0, 113, 145, 306)}\n",
            "/content/drive/MyDrive/parallel_dots/CMU10_3D/CMU10_3D/data_2D/rice_tuscan_000014.jpg /content/drive/MyDrive/parallel_dots/CMU10_3D/CMU10_3D/data_2D/rice_tuscan_000014_1_gt.png\n"
          ]
        },
        {
          "output_type": "stream",
          "name": "stderr",
          "text": [
            "frame loading (JPEG): 100%|██████████| 2/2 [00:00<00:00, 28.35it/s]\n",
            "propagate in video: 100%|██████████| 2/2 [00:00<00:00,  2.12it/s]\n"
          ]
        },
        {
          "output_type": "stream",
          "name": "stdout",
          "text": [
            "{1: (285, 90, 396, 262)}\n",
            "/content/drive/MyDrive/parallel_dots/CMU10_3D/CMU10_3D/data_2D/rice_tuscan_000031.jpg /content/drive/MyDrive/parallel_dots/CMU10_3D/CMU10_3D/data_2D/rice_tuscan_000031_1_gt.png\n"
          ]
        },
        {
          "output_type": "stream",
          "name": "stderr",
          "text": [
            "frame loading (JPEG): 100%|██████████| 2/2 [00:00<00:00, 21.71it/s]\n",
            "propagate in video: 100%|██████████| 2/2 [00:00<00:00,  2.11it/s]\n"
          ]
        },
        {
          "output_type": "stream",
          "name": "stdout",
          "text": [
            "{1: (0, 77, 224, 283)}\n",
            "/content/drive/MyDrive/parallel_dots/CMU10_3D/CMU10_3D/data_2D/rice_tuscan_000023.jpg /content/drive/MyDrive/parallel_dots/CMU10_3D/CMU10_3D/data_2D/rice_tuscan_000023_1_gt.png\n"
          ]
        },
        {
          "output_type": "stream",
          "name": "stderr",
          "text": [
            "frame loading (JPEG): 100%|██████████| 2/2 [00:00<00:00, 19.07it/s]\n",
            "propagate in video: 100%|██████████| 2/2 [00:00<00:00,  2.12it/s]\n"
          ]
        },
        {
          "output_type": "stream",
          "name": "stdout",
          "text": [
            "{1: (174, 124, 276, 328)}\n",
            "/content/drive/MyDrive/parallel_dots/CMU10_3D/CMU10_3D/data_2D/rice_tuscan_000036.jpg /content/drive/MyDrive/parallel_dots/CMU10_3D/CMU10_3D/data_2D/rice_tuscan_000036_1_gt.png\n"
          ]
        },
        {
          "output_type": "stream",
          "name": "stderr",
          "text": [
            "frame loading (JPEG): 100%|██████████| 2/2 [00:00<00:00, 28.54it/s]\n",
            "propagate in video: 100%|██████████| 2/2 [00:00<00:00,  2.12it/s]\n"
          ]
        },
        {
          "output_type": "stream",
          "name": "stdout",
          "text": [
            "{1: (216, 66, 307, 228)}\n",
            "/content/drive/MyDrive/parallel_dots/CMU10_3D/CMU10_3D/data_2D/rice_tuscan_000034.jpg /content/drive/MyDrive/parallel_dots/CMU10_3D/CMU10_3D/data_2D/rice_tuscan_000034_1_gt.png\n"
          ]
        },
        {
          "output_type": "stream",
          "name": "stderr",
          "text": [
            "frame loading (JPEG): 100%|██████████| 2/2 [00:00<00:00, 28.85it/s]\n",
            "propagate in video: 100%|██████████| 2/2 [00:00<00:00,  2.11it/s]\n"
          ]
        },
        {
          "output_type": "stream",
          "name": "stdout",
          "text": [
            "{1: (216, 66, 307, 228)}\n",
            "/content/drive/MyDrive/parallel_dots/CMU10_3D/CMU10_3D/data_2D/rice_tuscan_000026.jpg /content/drive/MyDrive/parallel_dots/CMU10_3D/CMU10_3D/data_2D/rice_tuscan_000026_1_gt.png\n"
          ]
        },
        {
          "output_type": "stream",
          "name": "stderr",
          "text": [
            "frame loading (JPEG): 100%|██████████| 2/2 [00:00<00:00, 28.18it/s]\n",
            "propagate in video: 100%|██████████| 2/2 [00:00<00:00,  2.12it/s]\n"
          ]
        },
        {
          "output_type": "stream",
          "name": "stdout",
          "text": [
            "{1: (156, 229, 318, 436)}\n",
            "/content/drive/MyDrive/parallel_dots/CMU10_3D/CMU10_3D/data_2D/rice_tuscan_000020.jpg /content/drive/MyDrive/parallel_dots/CMU10_3D/CMU10_3D/data_2D/rice_tuscan_000020_1_gt.png\n"
          ]
        },
        {
          "output_type": "stream",
          "name": "stderr",
          "text": [
            "frame loading (JPEG): 100%|██████████| 2/2 [00:00<00:00, 24.06it/s]\n",
            "propagate in video: 100%|██████████| 2/2 [00:00<00:00,  2.12it/s]\n"
          ]
        },
        {
          "output_type": "stream",
          "name": "stdout",
          "text": [
            "{1: (125, 172, 270, 321)}\n",
            "/content/drive/MyDrive/parallel_dots/CMU10_3D/CMU10_3D/data_2D/rice_tuscan_000002.jpg /content/drive/MyDrive/parallel_dots/CMU10_3D/CMU10_3D/data_2D/rice_tuscan_000002_1_gt.png\n"
          ]
        },
        {
          "output_type": "stream",
          "name": "stderr",
          "text": [
            "frame loading (JPEG): 100%|██████████| 2/2 [00:00<00:00, 27.61it/s]\n",
            "propagate in video: 100%|██████████| 2/2 [00:00<00:00,  2.11it/s]\n"
          ]
        },
        {
          "output_type": "stream",
          "name": "stdout",
          "text": [
            "{1: (192, 188, 286, 317)}\n",
            "/content/drive/MyDrive/parallel_dots/CMU10_3D/CMU10_3D/data_2D/rice_tuscan_000040.jpg /content/drive/MyDrive/parallel_dots/CMU10_3D/CMU10_3D/data_2D/rice_tuscan_000040_1_gt.png\n"
          ]
        },
        {
          "output_type": "stream",
          "name": "stderr",
          "text": [
            "frame loading (JPEG): 100%|██████████| 2/2 [00:00<00:00, 20.61it/s]\n",
            "propagate in video: 100%|██████████| 2/2 [00:00<00:00,  2.10it/s]\n"
          ]
        },
        {
          "output_type": "stream",
          "name": "stdout",
          "text": [
            "{1: (81, 73, 208, 320)}\n",
            "/content/drive/MyDrive/parallel_dots/CMU10_3D/CMU10_3D/data_2D/rice_tuscan_000009.jpg /content/drive/MyDrive/parallel_dots/CMU10_3D/CMU10_3D/data_2D/rice_tuscan_000009_1_gt.png\n"
          ]
        },
        {
          "output_type": "stream",
          "name": "stderr",
          "text": [
            "frame loading (JPEG): 100%|██████████| 2/2 [00:00<00:00, 21.48it/s]\n",
            "propagate in video: 100%|██████████| 2/2 [00:00<00:00,  2.11it/s]\n"
          ]
        },
        {
          "output_type": "stream",
          "name": "stdout",
          "text": [
            "{1: (228, 107, 361, 373)}\n",
            "/content/drive/MyDrive/parallel_dots/CMU10_3D/CMU10_3D/data_2D/rice_tuscan_000045.jpg /content/drive/MyDrive/parallel_dots/CMU10_3D/CMU10_3D/data_2D/rice_tuscan_000045_1_gt.png\n"
          ]
        },
        {
          "output_type": "stream",
          "name": "stderr",
          "text": [
            "frame loading (JPEG): 100%|██████████| 2/2 [00:00<00:00, 29.34it/s]\n",
            "propagate in video: 100%|██████████| 2/2 [00:00<00:00,  2.13it/s]\n"
          ]
        },
        {
          "output_type": "stream",
          "name": "stdout",
          "text": [
            "{1: (246, 135, 351, 278)}\n",
            "/content/drive/MyDrive/parallel_dots/CMU10_3D/CMU10_3D/data_2D/rice_tuscan_000032.jpg /content/drive/MyDrive/parallel_dots/CMU10_3D/CMU10_3D/data_2D/rice_tuscan_000032_1_gt.png\n"
          ]
        },
        {
          "output_type": "stream",
          "name": "stderr",
          "text": [
            "frame loading (JPEG): 100%|██████████| 2/2 [00:00<00:00, 29.38it/s]\n",
            "propagate in video: 100%|██████████| 2/2 [00:00<00:00,  2.12it/s]\n"
          ]
        },
        {
          "output_type": "stream",
          "name": "stdout",
          "text": [
            "{1: (216, 66, 307, 228)}\n",
            "/content/drive/MyDrive/parallel_dots/CMU10_3D/CMU10_3D/data_2D/rice_tuscan_000029.jpg /content/drive/MyDrive/parallel_dots/CMU10_3D/CMU10_3D/data_2D/rice_tuscan_000029_1_gt.png\n"
          ]
        },
        {
          "output_type": "stream",
          "name": "stderr",
          "text": [
            "frame loading (JPEG): 100%|██████████| 2/2 [00:00<00:00, 28.41it/s]\n",
            "propagate in video: 100%|██████████| 2/2 [00:00<00:00,  2.12it/s]\n"
          ]
        },
        {
          "output_type": "stream",
          "name": "stdout",
          "text": [
            "{1: (5, 154, 288, 396)}\n",
            "/content/drive/MyDrive/parallel_dots/CMU10_3D/CMU10_3D/data_2D/rice_tuscan_000030.jpg /content/drive/MyDrive/parallel_dots/CMU10_3D/CMU10_3D/data_2D/rice_tuscan_000030_1_gt.png\n"
          ]
        },
        {
          "output_type": "stream",
          "name": "stderr",
          "text": [
            "frame loading (JPEG): 100%|██████████| 2/2 [00:00<00:00, 27.48it/s]\n",
            "propagate in video: 100%|██████████| 2/2 [00:00<00:00,  2.11it/s]\n"
          ]
        },
        {
          "output_type": "stream",
          "name": "stdout",
          "text": [
            "{1: (270, 134, 376, 347)}\n",
            "Performance for rice_tuscan: {'mean_iou': 0.5685131976807216, 'precision': 0.58, 'recall': 0.58}\n",
            "/content/drive/MyDrive/parallel_dots/CMU10_3D/CMU10_3D/data_2D/ricepilaf_000016.jpg /content/drive/MyDrive/parallel_dots/CMU10_3D/CMU10_3D/data_2D/ricepilaf_000016_1_gt.png\n"
          ]
        },
        {
          "output_type": "stream",
          "name": "stderr",
          "text": [
            "frame loading (JPEG): 100%|██████████| 2/2 [00:00<00:00, 26.19it/s]\n",
            "propagate in video: 100%|██████████| 2/2 [00:00<00:00,  2.10it/s]\n"
          ]
        },
        {
          "output_type": "stream",
          "name": "stdout",
          "text": [
            "{1: (252, 160, 361, 344)}\n",
            "/content/drive/MyDrive/parallel_dots/CMU10_3D/CMU10_3D/data_2D/ricepilaf_000030.jpg /content/drive/MyDrive/parallel_dots/CMU10_3D/CMU10_3D/data_2D/ricepilaf_000030_1_gt.png\n"
          ]
        },
        {
          "output_type": "stream",
          "name": "stderr",
          "text": [
            "frame loading (JPEG): 100%|██████████| 2/2 [00:00<00:00, 18.56it/s]\n",
            "propagate in video: 100%|██████████| 2/2 [00:00<00:00,  2.11it/s]\n"
          ]
        },
        {
          "output_type": "stream",
          "name": "stdout",
          "text": [
            "{1: (118, 216, 391, 430)}\n",
            "/content/drive/MyDrive/parallel_dots/CMU10_3D/CMU10_3D/data_2D/ricepilaf_000046.jpg /content/drive/MyDrive/parallel_dots/CMU10_3D/CMU10_3D/data_2D/ricepilaf_000046_1_gt.png\n"
          ]
        },
        {
          "output_type": "stream",
          "name": "stderr",
          "text": [
            "frame loading (JPEG): 100%|██████████| 2/2 [00:00<00:00, 21.11it/s]\n",
            "propagate in video: 100%|██████████| 2/2 [00:00<00:00,  2.12it/s]\n"
          ]
        },
        {
          "output_type": "stream",
          "name": "stdout",
          "text": [
            "{1: (418, 108, 503, 241)}\n",
            "/content/drive/MyDrive/parallel_dots/CMU10_3D/CMU10_3D/data_2D/ricepilaf_000039.jpg /content/drive/MyDrive/parallel_dots/CMU10_3D/CMU10_3D/data_2D/ricepilaf_000039_1_gt.png\n"
          ]
        },
        {
          "output_type": "stream",
          "name": "stderr",
          "text": [
            "frame loading (JPEG): 100%|██████████| 2/2 [00:00<00:00, 28.32it/s]\n",
            "propagate in video: 100%|██████████| 2/2 [00:00<00:00,  2.12it/s]\n"
          ]
        },
        {
          "output_type": "stream",
          "name": "stdout",
          "text": [
            "{1: (418, 108, 503, 241)}\n",
            "/content/drive/MyDrive/parallel_dots/CMU10_3D/CMU10_3D/data_2D/ricepilaf_000017.jpg /content/drive/MyDrive/parallel_dots/CMU10_3D/CMU10_3D/data_2D/ricepilaf_000017_1_gt.png\n"
          ]
        },
        {
          "output_type": "stream",
          "name": "stderr",
          "text": [
            "frame loading (JPEG): 100%|██████████| 2/2 [00:00<00:00, 29.43it/s]\n",
            "propagate in video: 100%|██████████| 2/2 [00:00<00:00,  2.12it/s]\n"
          ]
        },
        {
          "output_type": "stream",
          "name": "stdout",
          "text": [
            "{1: (321, 120, 454, 273)}\n",
            "/content/drive/MyDrive/parallel_dots/CMU10_3D/CMU10_3D/data_2D/ricepilaf_000004.jpg /content/drive/MyDrive/parallel_dots/CMU10_3D/CMU10_3D/data_2D/ricepilaf_000004_1_gt.png\n"
          ]
        },
        {
          "output_type": "stream",
          "name": "stderr",
          "text": [
            "frame loading (JPEG): 100%|██████████| 2/2 [00:00<00:00, 27.39it/s]\n",
            "propagate in video: 100%|██████████| 2/2 [00:00<00:00,  2.12it/s]\n"
          ]
        },
        {
          "output_type": "stream",
          "name": "stdout",
          "text": [
            "{1: (405, 207, 518, 365)}\n",
            "/content/drive/MyDrive/parallel_dots/CMU10_3D/CMU10_3D/data_2D/ricepilaf_000020.jpg /content/drive/MyDrive/parallel_dots/CMU10_3D/CMU10_3D/data_2D/ricepilaf_000020_1_gt.png\n"
          ]
        },
        {
          "output_type": "stream",
          "name": "stderr",
          "text": [
            "frame loading (JPEG): 100%|██████████| 2/2 [00:00<00:00, 29.04it/s]\n",
            "propagate in video: 100%|██████████| 2/2 [00:00<00:00,  2.11it/s]\n"
          ]
        },
        {
          "output_type": "stream",
          "name": "stdout",
          "text": [
            "{1: (418, 108, 503, 241)}\n",
            "/content/drive/MyDrive/parallel_dots/CMU10_3D/CMU10_3D/data_2D/ricepilaf_000034.jpg /content/drive/MyDrive/parallel_dots/CMU10_3D/CMU10_3D/data_2D/ricepilaf_000034_1_gt.png\n"
          ]
        },
        {
          "output_type": "stream",
          "name": "stderr",
          "text": [
            "frame loading (JPEG): 100%|██████████| 2/2 [00:00<00:00, 24.92it/s]\n",
            "propagate in video: 100%|██████████| 2/2 [00:00<00:00,  2.12it/s]\n"
          ]
        },
        {
          "output_type": "stream",
          "name": "stdout",
          "text": [
            "{1: (418, 108, 503, 241)}\n",
            "/content/drive/MyDrive/parallel_dots/CMU10_3D/CMU10_3D/data_2D/ricepilaf_000047.jpg /content/drive/MyDrive/parallel_dots/CMU10_3D/CMU10_3D/data_2D/ricepilaf_000047_1_gt.png\n"
          ]
        },
        {
          "output_type": "stream",
          "name": "stderr",
          "text": [
            "frame loading (JPEG): 100%|██████████| 2/2 [00:00<00:00, 18.00it/s]\n",
            "propagate in video: 100%|██████████| 2/2 [00:00<00:00,  2.14it/s]\n"
          ]
        },
        {
          "output_type": "stream",
          "name": "stdout",
          "text": [
            "{1: (343, 85, 429, 308)}\n",
            "/content/drive/MyDrive/parallel_dots/CMU10_3D/CMU10_3D/data_2D/ricepilaf_000011.jpg /content/drive/MyDrive/parallel_dots/CMU10_3D/CMU10_3D/data_2D/ricepilaf_000011_1_gt.png\n"
          ]
        },
        {
          "output_type": "stream",
          "name": "stderr",
          "text": [
            "frame loading (JPEG): 100%|██████████| 2/2 [00:00<00:00, 28.28it/s]\n",
            "propagate in video: 100%|██████████| 2/2 [00:00<00:00,  2.11it/s]\n"
          ]
        },
        {
          "output_type": "stream",
          "name": "stdout",
          "text": [
            "{1: (418, 108, 503, 241)}\n",
            "/content/drive/MyDrive/parallel_dots/CMU10_3D/CMU10_3D/data_2D/ricepilaf_000024.jpg /content/drive/MyDrive/parallel_dots/CMU10_3D/CMU10_3D/data_2D/ricepilaf_000024_1_gt.png\n"
          ]
        },
        {
          "output_type": "stream",
          "name": "stderr",
          "text": [
            "frame loading (JPEG): 100%|██████████| 2/2 [00:00<00:00, 26.33it/s]\n",
            "propagate in video: 100%|██████████| 2/2 [00:00<00:00,  2.12it/s]\n"
          ]
        },
        {
          "output_type": "stream",
          "name": "stdout",
          "text": [
            "{1: (418, 108, 503, 241)}\n",
            "/content/drive/MyDrive/parallel_dots/CMU10_3D/CMU10_3D/data_2D/ricepilaf_000025.jpg /content/drive/MyDrive/parallel_dots/CMU10_3D/CMU10_3D/data_2D/ricepilaf_000025_1_gt.png\n"
          ]
        },
        {
          "output_type": "stream",
          "name": "stderr",
          "text": [
            "frame loading (JPEG): 100%|██████████| 2/2 [00:00<00:00, 27.20it/s]\n",
            "propagate in video: 100%|██████████| 2/2 [00:00<00:00,  2.12it/s]\n"
          ]
        },
        {
          "output_type": "stream",
          "name": "stdout",
          "text": [
            "{1: (418, 108, 503, 241)}\n",
            "/content/drive/MyDrive/parallel_dots/CMU10_3D/CMU10_3D/data_2D/ricepilaf_000040.jpg /content/drive/MyDrive/parallel_dots/CMU10_3D/CMU10_3D/data_2D/ricepilaf_000040_1_gt.png\n"
          ]
        },
        {
          "output_type": "stream",
          "name": "stderr",
          "text": [
            "frame loading (JPEG): 100%|██████████| 2/2 [00:00<00:00, 28.53it/s]\n",
            "propagate in video: 100%|██████████| 2/2 [00:00<00:00,  2.12it/s]\n"
          ]
        },
        {
          "output_type": "stream",
          "name": "stdout",
          "text": [
            "{1: (418, 108, 503, 241)}\n",
            "/content/drive/MyDrive/parallel_dots/CMU10_3D/CMU10_3D/data_2D/ricepilaf_000043.jpg /content/drive/MyDrive/parallel_dots/CMU10_3D/CMU10_3D/data_2D/ricepilaf_000043_1_gt.png\n"
          ]
        },
        {
          "output_type": "stream",
          "name": "stderr",
          "text": [
            "frame loading (JPEG): 100%|██████████| 2/2 [00:00<00:00, 25.16it/s]\n",
            "propagate in video: 100%|██████████| 2/2 [00:00<00:00,  2.12it/s]\n"
          ]
        },
        {
          "output_type": "stream",
          "name": "stdout",
          "text": [
            "{1: (276, 127, 365, 337)}\n",
            "/content/drive/MyDrive/parallel_dots/CMU10_3D/CMU10_3D/data_2D/ricepilaf_000006.jpg /content/drive/MyDrive/parallel_dots/CMU10_3D/CMU10_3D/data_2D/ricepilaf_000006_1_gt.png\n"
          ]
        },
        {
          "output_type": "stream",
          "name": "stderr",
          "text": [
            "frame loading (JPEG): 100%|██████████| 2/2 [00:00<00:00, 28.57it/s]\n",
            "propagate in video: 100%|██████████| 2/2 [00:00<00:00,  2.12it/s]\n"
          ]
        },
        {
          "output_type": "stream",
          "name": "stdout",
          "text": [
            "{1: (418, 108, 503, 241)}\n",
            "/content/drive/MyDrive/parallel_dots/CMU10_3D/CMU10_3D/data_2D/ricepilaf_000028.jpg /content/drive/MyDrive/parallel_dots/CMU10_3D/CMU10_3D/data_2D/ricepilaf_000028_1_gt.png\n"
          ]
        },
        {
          "output_type": "stream",
          "name": "stderr",
          "text": [
            "frame loading (JPEG): 100%|██████████| 2/2 [00:00<00:00, 20.42it/s]\n",
            "propagate in video: 100%|██████████| 2/2 [00:00<00:00,  2.14it/s]\n"
          ]
        },
        {
          "output_type": "stream",
          "name": "stdout",
          "text": [
            "{1: (418, 108, 503, 241)}\n",
            "/content/drive/MyDrive/parallel_dots/CMU10_3D/CMU10_3D/data_2D/ricepilaf_000001.jpg /content/drive/MyDrive/parallel_dots/CMU10_3D/CMU10_3D/data_2D/ricepilaf_000001_1_gt.png\n"
          ]
        },
        {
          "output_type": "stream",
          "name": "stderr",
          "text": [
            "frame loading (JPEG): 100%|██████████| 2/2 [00:00<00:00, 29.27it/s]\n",
            "propagate in video: 100%|██████████| 2/2 [00:00<00:00,  2.11it/s]\n"
          ]
        },
        {
          "output_type": "stream",
          "name": "stdout",
          "text": [
            "{1: (419, 108, 503, 241)}\n",
            "/content/drive/MyDrive/parallel_dots/CMU10_3D/CMU10_3D/data_2D/ricepilaf_000014.jpg /content/drive/MyDrive/parallel_dots/CMU10_3D/CMU10_3D/data_2D/ricepilaf_000014_1_gt.png\n"
          ]
        },
        {
          "output_type": "stream",
          "name": "stderr",
          "text": [
            "frame loading (JPEG): 100%|██████████| 2/2 [00:00<00:00, 27.17it/s]\n",
            "propagate in video: 100%|██████████| 2/2 [00:00<00:00,  2.11it/s]\n"
          ]
        },
        {
          "output_type": "stream",
          "name": "stdout",
          "text": [
            "{1: (245, 113, 341, 273)}\n",
            "/content/drive/MyDrive/parallel_dots/CMU10_3D/CMU10_3D/data_2D/ricepilaf_000026.jpg /content/drive/MyDrive/parallel_dots/CMU10_3D/CMU10_3D/data_2D/ricepilaf_000026_1_gt.png\n"
          ]
        },
        {
          "output_type": "stream",
          "name": "stderr",
          "text": [
            "frame loading (JPEG): 100%|██████████| 2/2 [00:00<00:00, 26.06it/s]\n",
            "propagate in video: 100%|██████████| 2/2 [00:00<00:00,  2.11it/s]\n"
          ]
        },
        {
          "output_type": "stream",
          "name": "stdout",
          "text": [
            "{1: (418, 108, 503, 241)}\n",
            "/content/drive/MyDrive/parallel_dots/CMU10_3D/CMU10_3D/data_2D/ricepilaf_000007.jpg /content/drive/MyDrive/parallel_dots/CMU10_3D/CMU10_3D/data_2D/ricepilaf_000007_1_gt.png\n"
          ]
        },
        {
          "output_type": "stream",
          "name": "stderr",
          "text": [
            "frame loading (JPEG): 100%|██████████| 2/2 [00:00<00:00, 28.14it/s]\n",
            "propagate in video: 100%|██████████| 2/2 [00:00<00:00,  2.12it/s]\n"
          ]
        },
        {
          "output_type": "stream",
          "name": "stdout",
          "text": [
            "{1: (418, 108, 503, 241)}\n",
            "/content/drive/MyDrive/parallel_dots/CMU10_3D/CMU10_3D/data_2D/ricepilaf_000005.jpg /content/drive/MyDrive/parallel_dots/CMU10_3D/CMU10_3D/data_2D/ricepilaf_000005_1_gt.png\n"
          ]
        },
        {
          "output_type": "stream",
          "name": "stderr",
          "text": [
            "frame loading (JPEG): 100%|██████████| 2/2 [00:00<00:00, 27.91it/s]\n",
            "propagate in video: 100%|██████████| 2/2 [00:00<00:00,  2.12it/s]\n"
          ]
        },
        {
          "output_type": "stream",
          "name": "stdout",
          "text": [
            "{1: (418, 108, 503, 241)}\n",
            "/content/drive/MyDrive/parallel_dots/CMU10_3D/CMU10_3D/data_2D/ricepilaf_000038.jpg /content/drive/MyDrive/parallel_dots/CMU10_3D/CMU10_3D/data_2D/ricepilaf_000038_1_gt.png\n"
          ]
        },
        {
          "output_type": "stream",
          "name": "stderr",
          "text": [
            "frame loading (JPEG): 100%|██████████| 2/2 [00:00<00:00, 20.60it/s]\n",
            "propagate in video: 100%|██████████| 2/2 [00:00<00:00,  2.12it/s]\n"
          ]
        },
        {
          "output_type": "stream",
          "name": "stdout",
          "text": [
            "{1: (418, 108, 503, 241)}\n",
            "/content/drive/MyDrive/parallel_dots/CMU10_3D/CMU10_3D/data_2D/ricepilaf_000002.jpg /content/drive/MyDrive/parallel_dots/CMU10_3D/CMU10_3D/data_2D/ricepilaf_000002_1_gt.png\n"
          ]
        },
        {
          "output_type": "stream",
          "name": "stderr",
          "text": [
            "frame loading (JPEG): 100%|██████████| 2/2 [00:00<00:00, 20.16it/s]\n",
            "propagate in video: 100%|██████████| 2/2 [00:00<00:00,  2.13it/s]\n"
          ]
        },
        {
          "output_type": "stream",
          "name": "stdout",
          "text": [
            "{1: (381, 121, 409, 135)}\n",
            "/content/drive/MyDrive/parallel_dots/CMU10_3D/CMU10_3D/data_2D/ricepilaf_000029.jpg /content/drive/MyDrive/parallel_dots/CMU10_3D/CMU10_3D/data_2D/ricepilaf_000029_1_gt.png\n"
          ]
        },
        {
          "output_type": "stream",
          "name": "stderr",
          "text": [
            "frame loading (JPEG): 100%|██████████| 2/2 [00:00<00:00, 24.81it/s]\n",
            "propagate in video: 100%|██████████| 2/2 [00:00<00:00,  2.11it/s]\n"
          ]
        },
        {
          "output_type": "stream",
          "name": "stdout",
          "text": [
            "{1: (151, 215, 298, 427)}\n",
            "/content/drive/MyDrive/parallel_dots/CMU10_3D/CMU10_3D/data_2D/ricepilaf_000022.jpg /content/drive/MyDrive/parallel_dots/CMU10_3D/CMU10_3D/data_2D/ricepilaf_000022_1_gt.png\n"
          ]
        },
        {
          "output_type": "stream",
          "name": "stderr",
          "text": [
            "frame loading (JPEG): 100%|██████████| 2/2 [00:00<00:00, 26.88it/s]\n",
            "propagate in video: 100%|██████████| 2/2 [00:00<00:00,  2.12it/s]\n"
          ]
        },
        {
          "output_type": "stream",
          "name": "stdout",
          "text": [
            "{1: (418, 108, 503, 241)}\n",
            "/content/drive/MyDrive/parallel_dots/CMU10_3D/CMU10_3D/data_2D/ricepilaf_000036.jpg /content/drive/MyDrive/parallel_dots/CMU10_3D/CMU10_3D/data_2D/ricepilaf_000036_1_gt.png\n"
          ]
        },
        {
          "output_type": "stream",
          "name": "stderr",
          "text": [
            "frame loading (JPEG): 100%|██████████| 2/2 [00:00<00:00, 27.60it/s]\n",
            "propagate in video: 100%|██████████| 2/2 [00:00<00:00,  2.12it/s]\n"
          ]
        },
        {
          "output_type": "stream",
          "name": "stdout",
          "text": [
            "{1: (418, 108, 503, 241)}\n",
            "/content/drive/MyDrive/parallel_dots/CMU10_3D/CMU10_3D/data_2D/ricepilaf_000031.jpg /content/drive/MyDrive/parallel_dots/CMU10_3D/CMU10_3D/data_2D/ricepilaf_000031_1_gt.png\n"
          ]
        },
        {
          "output_type": "stream",
          "name": "stderr",
          "text": [
            "frame loading (JPEG): 100%|██████████| 2/2 [00:00<00:00, 28.55it/s]\n",
            "propagate in video: 100%|██████████| 2/2 [00:00<00:00,  2.11it/s]\n"
          ]
        },
        {
          "output_type": "stream",
          "name": "stdout",
          "text": [
            "{1: (418, 108, 503, 241)}\n",
            "/content/drive/MyDrive/parallel_dots/CMU10_3D/CMU10_3D/data_2D/ricepilaf_000012.jpg /content/drive/MyDrive/parallel_dots/CMU10_3D/CMU10_3D/data_2D/ricepilaf_000012_1_gt.png\n"
          ]
        },
        {
          "output_type": "stream",
          "name": "stderr",
          "text": [
            "frame loading (JPEG): 100%|██████████| 2/2 [00:00<00:00, 26.62it/s]\n",
            "propagate in video: 100%|██████████| 2/2 [00:00<00:00,  2.10it/s]\n"
          ]
        },
        {
          "output_type": "stream",
          "name": "stdout",
          "text": [
            "{1: (271, 121, 410, 304)}\n",
            "/content/drive/MyDrive/parallel_dots/CMU10_3D/CMU10_3D/data_2D/ricepilaf_000009.jpg /content/drive/MyDrive/parallel_dots/CMU10_3D/CMU10_3D/data_2D/ricepilaf_000009_1_gt.png\n"
          ]
        },
        {
          "output_type": "stream",
          "name": "stderr",
          "text": [
            "frame loading (JPEG): 100%|██████████| 2/2 [00:00<00:00, 20.91it/s]\n",
            "propagate in video: 100%|██████████| 2/2 [00:00<00:00,  2.12it/s]\n"
          ]
        },
        {
          "output_type": "stream",
          "name": "stdout",
          "text": [
            "{1: (344, 194, 464, 337)}\n",
            "/content/drive/MyDrive/parallel_dots/CMU10_3D/CMU10_3D/data_2D/ricepilaf_000010.jpg /content/drive/MyDrive/parallel_dots/CMU10_3D/CMU10_3D/data_2D/ricepilaf_000010_1_gt.png\n"
          ]
        },
        {
          "output_type": "stream",
          "name": "stderr",
          "text": [
            "frame loading (JPEG): 100%|██████████| 2/2 [00:00<00:00, 20.68it/s]\n",
            "propagate in video: 100%|██████████| 2/2 [00:00<00:00,  2.13it/s]\n"
          ]
        },
        {
          "output_type": "stream",
          "name": "stdout",
          "text": [
            "{1: (418, 108, 503, 241)}\n",
            "/content/drive/MyDrive/parallel_dots/CMU10_3D/CMU10_3D/data_2D/ricepilaf_000033.jpg /content/drive/MyDrive/parallel_dots/CMU10_3D/CMU10_3D/data_2D/ricepilaf_000033_1_gt.png\n"
          ]
        },
        {
          "output_type": "stream",
          "name": "stderr",
          "text": [
            "frame loading (JPEG): 100%|██████████| 2/2 [00:00<00:00, 28.31it/s]\n",
            "propagate in video: 100%|██████████| 2/2 [00:00<00:00,  2.12it/s]\n"
          ]
        },
        {
          "output_type": "stream",
          "name": "stdout",
          "text": [
            "{1: (168, 217, 384, 424)}\n",
            "/content/drive/MyDrive/parallel_dots/CMU10_3D/CMU10_3D/data_2D/ricepilaf_000023.jpg /content/drive/MyDrive/parallel_dots/CMU10_3D/CMU10_3D/data_2D/ricepilaf_000023_1_gt.png\n"
          ]
        },
        {
          "output_type": "stream",
          "name": "stderr",
          "text": [
            "frame loading (JPEG): 100%|██████████| 2/2 [00:00<00:00, 27.49it/s]\n",
            "propagate in video: 100%|██████████| 2/2 [00:00<00:00,  2.12it/s]\n"
          ]
        },
        {
          "output_type": "stream",
          "name": "stdout",
          "text": [
            "{1: (317, 103, 428, 348)}\n",
            "/content/drive/MyDrive/parallel_dots/CMU10_3D/CMU10_3D/data_2D/ricepilaf_000018.jpg /content/drive/MyDrive/parallel_dots/CMU10_3D/CMU10_3D/data_2D/ricepilaf_000018_1_gt.png\n"
          ]
        },
        {
          "output_type": "stream",
          "name": "stderr",
          "text": [
            "frame loading (JPEG): 100%|██████████| 2/2 [00:00<00:00, 27.32it/s]\n",
            "propagate in video: 100%|██████████| 2/2 [00:00<00:00,  2.12it/s]\n"
          ]
        },
        {
          "output_type": "stream",
          "name": "stdout",
          "text": [
            "{1: (418, 108, 503, 241)}\n",
            "/content/drive/MyDrive/parallel_dots/CMU10_3D/CMU10_3D/data_2D/ricepilaf_000050.jpg /content/drive/MyDrive/parallel_dots/CMU10_3D/CMU10_3D/data_2D/ricepilaf_000050_1_gt.png\n"
          ]
        },
        {
          "output_type": "stream",
          "name": "stderr",
          "text": [
            "frame loading (JPEG): 100%|██████████| 2/2 [00:00<00:00, 27.43it/s]\n",
            "propagate in video: 100%|██████████| 2/2 [00:00<00:00,  2.11it/s]\n"
          ]
        },
        {
          "output_type": "stream",
          "name": "stdout",
          "text": [
            "{1: (235, 128, 413, 382)}\n",
            "/content/drive/MyDrive/parallel_dots/CMU10_3D/CMU10_3D/data_2D/ricepilaf_000041.jpg /content/drive/MyDrive/parallel_dots/CMU10_3D/CMU10_3D/data_2D/ricepilaf_000041_1_gt.png\n"
          ]
        },
        {
          "output_type": "stream",
          "name": "stderr",
          "text": [
            "frame loading (JPEG): 100%|██████████| 2/2 [00:00<00:00, 26.69it/s]\n",
            "propagate in video: 100%|██████████| 2/2 [00:00<00:00,  2.11it/s]\n"
          ]
        },
        {
          "output_type": "stream",
          "name": "stdout",
          "text": [
            "{1: (314, 181, 466, 416)}\n",
            "/content/drive/MyDrive/parallel_dots/CMU10_3D/CMU10_3D/data_2D/ricepilaf_000021.jpg /content/drive/MyDrive/parallel_dots/CMU10_3D/CMU10_3D/data_2D/ricepilaf_000021_1_gt.png\n"
          ]
        },
        {
          "output_type": "stream",
          "name": "stderr",
          "text": [
            "frame loading (JPEG): 100%|██████████| 2/2 [00:00<00:00, 20.57it/s]\n",
            "propagate in video: 100%|██████████| 2/2 [00:00<00:00,  2.11it/s]\n"
          ]
        },
        {
          "output_type": "stream",
          "name": "stdout",
          "text": [
            "{1: (216, 334, 323, 479)}\n",
            "/content/drive/MyDrive/parallel_dots/CMU10_3D/CMU10_3D/data_2D/ricepilaf_000044.jpg /content/drive/MyDrive/parallel_dots/CMU10_3D/CMU10_3D/data_2D/ricepilaf_000044_1_gt.png\n"
          ]
        },
        {
          "output_type": "stream",
          "name": "stderr",
          "text": [
            "frame loading (JPEG): 100%|██████████| 2/2 [00:00<00:00, 18.65it/s]\n",
            "propagate in video: 100%|██████████| 2/2 [00:00<00:00,  2.11it/s]\n"
          ]
        },
        {
          "output_type": "stream",
          "name": "stdout",
          "text": [
            "{1: (418, 108, 503, 241)}\n",
            "/content/drive/MyDrive/parallel_dots/CMU10_3D/CMU10_3D/data_2D/ricepilaf_000019.jpg /content/drive/MyDrive/parallel_dots/CMU10_3D/CMU10_3D/data_2D/ricepilaf_000019_1_gt.png\n"
          ]
        },
        {
          "output_type": "stream",
          "name": "stderr",
          "text": [
            "frame loading (JPEG): 100%|██████████| 2/2 [00:00<00:00, 28.28it/s]\n",
            "propagate in video: 100%|██████████| 2/2 [00:00<00:00,  2.12it/s]\n"
          ]
        },
        {
          "output_type": "stream",
          "name": "stdout",
          "text": [
            "{1: (418, 108, 503, 241)}\n",
            "/content/drive/MyDrive/parallel_dots/CMU10_3D/CMU10_3D/data_2D/ricepilaf_000027.jpg /content/drive/MyDrive/parallel_dots/CMU10_3D/CMU10_3D/data_2D/ricepilaf_000027_1_gt.png\n"
          ]
        },
        {
          "output_type": "stream",
          "name": "stderr",
          "text": [
            "frame loading (JPEG): 100%|██████████| 2/2 [00:00<00:00, 24.53it/s]\n",
            "propagate in video: 100%|██████████| 2/2 [00:00<00:00,  2.11it/s]\n"
          ]
        },
        {
          "output_type": "stream",
          "name": "stdout",
          "text": [
            "{1: (418, 108, 503, 241)}\n",
            "/content/drive/MyDrive/parallel_dots/CMU10_3D/CMU10_3D/data_2D/ricepilaf_000003.jpg /content/drive/MyDrive/parallel_dots/CMU10_3D/CMU10_3D/data_2D/ricepilaf_000003_1_gt.png\n"
          ]
        },
        {
          "output_type": "stream",
          "name": "stderr",
          "text": [
            "frame loading (JPEG): 100%|██████████| 2/2 [00:00<00:00, 28.02it/s]\n",
            "propagate in video: 100%|██████████| 2/2 [00:00<00:00,  2.12it/s]\n"
          ]
        },
        {
          "output_type": "stream",
          "name": "stdout",
          "text": [
            "{1: (418, 108, 503, 241)}\n",
            "/content/drive/MyDrive/parallel_dots/CMU10_3D/CMU10_3D/data_2D/ricepilaf_000045.jpg /content/drive/MyDrive/parallel_dots/CMU10_3D/CMU10_3D/data_2D/ricepilaf_000045_1_gt.png\n"
          ]
        },
        {
          "output_type": "stream",
          "name": "stderr",
          "text": [
            "frame loading (JPEG): 100%|██████████| 2/2 [00:00<00:00, 27.76it/s]\n",
            "propagate in video: 100%|██████████| 2/2 [00:00<00:00,  2.11it/s]\n"
          ]
        },
        {
          "output_type": "stream",
          "name": "stdout",
          "text": [
            "{1: (330, 128, 448, 338)}\n",
            "/content/drive/MyDrive/parallel_dots/CMU10_3D/CMU10_3D/data_2D/ricepilaf_000008.jpg /content/drive/MyDrive/parallel_dots/CMU10_3D/CMU10_3D/data_2D/ricepilaf_000008_1_gt.png\n"
          ]
        },
        {
          "output_type": "stream",
          "name": "stderr",
          "text": [
            "frame loading (JPEG): 100%|██████████| 2/2 [00:00<00:00, 27.19it/s]\n",
            "propagate in video: 100%|██████████| 2/2 [00:00<00:00,  2.12it/s]\n"
          ]
        },
        {
          "output_type": "stream",
          "name": "stdout",
          "text": [
            "{1: (418, 108, 503, 241)}\n",
            "/content/drive/MyDrive/parallel_dots/CMU10_3D/CMU10_3D/data_2D/ricepilaf_000015.jpg /content/drive/MyDrive/parallel_dots/CMU10_3D/CMU10_3D/data_2D/ricepilaf_000015_1_gt.png\n"
          ]
        },
        {
          "output_type": "stream",
          "name": "stderr",
          "text": [
            "frame loading (JPEG): 100%|██████████| 2/2 [00:00<00:00, 17.53it/s]\n",
            "propagate in video: 100%|██████████| 2/2 [00:00<00:00,  2.11it/s]\n"
          ]
        },
        {
          "output_type": "stream",
          "name": "stdout",
          "text": [
            "{1: (220, 145, 294, 302)}\n",
            "/content/drive/MyDrive/parallel_dots/CMU10_3D/CMU10_3D/data_2D/ricepilaf_000048.jpg /content/drive/MyDrive/parallel_dots/CMU10_3D/CMU10_3D/data_2D/ricepilaf_000048_1_gt.png\n"
          ]
        },
        {
          "output_type": "stream",
          "name": "stderr",
          "text": [
            "frame loading (JPEG): 100%|██████████| 2/2 [00:00<00:00, 20.03it/s]\n",
            "propagate in video: 100%|██████████| 2/2 [00:00<00:00,  2.12it/s]\n"
          ]
        },
        {
          "output_type": "stream",
          "name": "stdout",
          "text": [
            "{1: (321, 257, 409, 414)}\n",
            "/content/drive/MyDrive/parallel_dots/CMU10_3D/CMU10_3D/data_2D/ricepilaf_000042.jpg /content/drive/MyDrive/parallel_dots/CMU10_3D/CMU10_3D/data_2D/ricepilaf_000042_1_gt.png\n"
          ]
        },
        {
          "output_type": "stream",
          "name": "stderr",
          "text": [
            "frame loading (JPEG): 100%|██████████| 2/2 [00:00<00:00, 26.96it/s]\n",
            "propagate in video: 100%|██████████| 2/2 [00:00<00:00,  2.09it/s]\n"
          ]
        },
        {
          "output_type": "stream",
          "name": "stdout",
          "text": [
            "{1: (303, 87, 434, 380)}\n",
            "/content/drive/MyDrive/parallel_dots/CMU10_3D/CMU10_3D/data_2D/ricepilaf_000035.jpg /content/drive/MyDrive/parallel_dots/CMU10_3D/CMU10_3D/data_2D/ricepilaf_000035_1_gt.png\n"
          ]
        },
        {
          "output_type": "stream",
          "name": "stderr",
          "text": [
            "frame loading (JPEG): 100%|██████████| 2/2 [00:00<00:00, 25.80it/s]\n",
            "propagate in video: 100%|██████████| 2/2 [00:00<00:00,  2.11it/s]\n"
          ]
        },
        {
          "output_type": "stream",
          "name": "stdout",
          "text": [
            "{1: (203, 77, 368, 218)}\n",
            "/content/drive/MyDrive/parallel_dots/CMU10_3D/CMU10_3D/data_2D/ricepilaf_000013.jpg /content/drive/MyDrive/parallel_dots/CMU10_3D/CMU10_3D/data_2D/ricepilaf_000013_1_gt.png\n"
          ]
        },
        {
          "output_type": "stream",
          "name": "stderr",
          "text": [
            "frame loading (JPEG): 100%|██████████| 2/2 [00:00<00:00, 23.37it/s]\n",
            "propagate in video: 100%|██████████| 2/2 [00:00<00:00,  2.12it/s]\n"
          ]
        },
        {
          "output_type": "stream",
          "name": "stdout",
          "text": [
            "{1: (418, 108, 503, 241)}\n",
            "/content/drive/MyDrive/parallel_dots/CMU10_3D/CMU10_3D/data_2D/ricepilaf_000049.jpg /content/drive/MyDrive/parallel_dots/CMU10_3D/CMU10_3D/data_2D/ricepilaf_000049_1_gt.png\n"
          ]
        },
        {
          "output_type": "stream",
          "name": "stderr",
          "text": [
            "frame loading (JPEG): 100%|██████████| 2/2 [00:00<00:00, 26.95it/s]\n",
            "propagate in video: 100%|██████████| 2/2 [00:00<00:00,  2.11it/s]\n"
          ]
        },
        {
          "output_type": "stream",
          "name": "stdout",
          "text": [
            "{1: (254, 202, 433, 390)}\n",
            "/content/drive/MyDrive/parallel_dots/CMU10_3D/CMU10_3D/data_2D/ricepilaf_000037.jpg /content/drive/MyDrive/parallel_dots/CMU10_3D/CMU10_3D/data_2D/ricepilaf_000037_1_gt.png\n"
          ]
        },
        {
          "output_type": "stream",
          "name": "stderr",
          "text": [
            "frame loading (JPEG): 100%|██████████| 2/2 [00:00<00:00, 26.87it/s]\n",
            "propagate in video: 100%|██████████| 2/2 [00:00<00:00,  2.13it/s]\n"
          ]
        },
        {
          "output_type": "stream",
          "name": "stdout",
          "text": [
            "{1: (418, 108, 503, 241)}\n",
            "/content/drive/MyDrive/parallel_dots/CMU10_3D/CMU10_3D/data_2D/ricepilaf_000032.jpg /content/drive/MyDrive/parallel_dots/CMU10_3D/CMU10_3D/data_2D/ricepilaf_000032_1_gt.png\n"
          ]
        },
        {
          "output_type": "stream",
          "name": "stderr",
          "text": [
            "frame loading (JPEG): 100%|██████████| 2/2 [00:00<00:00, 19.70it/s]\n",
            "propagate in video: 100%|██████████| 2/2 [00:00<00:00,  2.12it/s]"
          ]
        },
        {
          "output_type": "stream",
          "name": "stdout",
          "text": [
            "{1: (418, 108, 503, 241)}\n",
            "Performance for ricepilaf: {'mean_iou': 0.3519034375335188, 'precision': 0.34, 'recall': 0.34}\n",
            "Object detection performance evaluation completed.\n"
          ]
        },
        {
          "output_type": "stream",
          "name": "stderr",
          "text": [
            "\n"
          ]
        }
      ]
    },
    {
      "cell_type": "markdown",
      "source": [
        "Display the performance result"
      ],
      "metadata": {
        "id": "2TozeTrvAlgU"
      }
    },
    {
      "cell_type": "code",
      "source": [
        "\n",
        "file_path = '/content/outputdetection_performance.txt'\n",
        "\n",
        "# Open and read the file\n",
        "with open(file_path, 'r') as file:\n",
        "    content = file.read()\n",
        "\n",
        "# Display the content\n",
        "print(content)\n"
      ],
      "metadata": {
        "id": "b75iX2JCjcUS",
        "colab": {
          "base_uri": "https://localhost:8080/"
        },
        "outputId": "584e9834-c103-4fac-a2b2-ec20738fc9f9"
      },
      "execution_count": 2,
      "outputs": [
        {
          "output_type": "stream",
          "name": "stdout",
          "text": [
            "diet_coke: {'mean_iou': 0.7600907878025357, 'precision': 0.84, 'recall': 0.84}\n",
            "hc_potroastsoup: {'mean_iou': 0.7568471381463258, 'precision': 0.82, 'recall': 0.82}\n",
            "rice_tuscan: {'mean_iou': 0.5685131976807216, 'precision': 0.58, 'recall': 0.58}\n",
            "carton_soymilk: {'mean_iou': 0.5102140608757126, 'precision': 0.54, 'recall': 0.54}\n",
            "can_chowder: {'mean_iou': 0.3875101071600811, 'precision': 0.44, 'recall': 0.44}\n",
            "carton_oj: {'mean_iou': 0.36959294859602726, 'precision': 0.4, 'recall': 0.4}\n",
            "ricepilaf: {'mean_iou': 0.3519034375335188, 'precision': 0.34, 'recall': 0.34}\n",
            "can_soymilk: {'mean_iou': 0.34217088830525144, 'precision': 0.34, 'recall': 0.34}\n",
            "can_tomatosoup: {'mean_iou': 0.29593599595804176, 'precision': 0.28, 'recall': 0.28}\n",
            "juicebox: {'mean_iou': 0.24683781655947798, 'precision': 0.2, 'recall': 0.2}\n",
            "\n"
          ]
        }
      ]
    }
  ]
}